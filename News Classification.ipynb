{
 "cells": [
  {
   "attachments": {},
   "cell_type": "markdown",
   "metadata": {},
   "source": [
    "<font font size=\"6px\" color= \"red\">Text classfication using Spacy word vectors</font>"
   ]
  },
  {
   "cell_type": "code",
   "execution_count": 3,
   "metadata": {},
   "outputs": [],
   "source": [
    "import pandas as pd"
   ]
  },
  {
   "cell_type": "code",
   "execution_count": 4,
   "metadata": {},
   "outputs": [],
   "source": [
    "df1 = pd.read_csv(\"D:\\ML Coding Ninza\\Coding\\Dataset\\True.csv\")\n",
    "df2 = pd.read_csv(\"D:\\ML Coding Ninza\\Coding\\Dataset\\Fake.csv\")"
   ]
  },
  {
   "cell_type": "code",
   "execution_count": 5,
   "metadata": {},
   "outputs": [
    {
     "name": "stdout",
     "output_type": "stream",
     "text": [
      "(21417, 4)\n"
     ]
    },
    {
     "data": {
      "text/html": [
       "<div>\n",
       "<style scoped>\n",
       "    .dataframe tbody tr th:only-of-type {\n",
       "        vertical-align: middle;\n",
       "    }\n",
       "\n",
       "    .dataframe tbody tr th {\n",
       "        vertical-align: top;\n",
       "    }\n",
       "\n",
       "    .dataframe thead th {\n",
       "        text-align: right;\n",
       "    }\n",
       "</style>\n",
       "<table border=\"1\" class=\"dataframe\">\n",
       "  <thead>\n",
       "    <tr style=\"text-align: right;\">\n",
       "      <th></th>\n",
       "      <th>title</th>\n",
       "      <th>text</th>\n",
       "      <th>subject</th>\n",
       "      <th>date</th>\n",
       "    </tr>\n",
       "  </thead>\n",
       "  <tbody>\n",
       "    <tr>\n",
       "      <th>0</th>\n",
       "      <td>As U.S. budget fight looms, Republicans flip t...</td>\n",
       "      <td>WASHINGTON (Reuters) - The head of a conservat...</td>\n",
       "      <td>politicsNews</td>\n",
       "      <td>December 31, 2017</td>\n",
       "    </tr>\n",
       "    <tr>\n",
       "      <th>1</th>\n",
       "      <td>U.S. military to accept transgender recruits o...</td>\n",
       "      <td>WASHINGTON (Reuters) - Transgender people will...</td>\n",
       "      <td>politicsNews</td>\n",
       "      <td>December 29, 2017</td>\n",
       "    </tr>\n",
       "    <tr>\n",
       "      <th>2</th>\n",
       "      <td>Senior U.S. Republican senator: 'Let Mr. Muell...</td>\n",
       "      <td>WASHINGTON (Reuters) - The special counsel inv...</td>\n",
       "      <td>politicsNews</td>\n",
       "      <td>December 31, 2017</td>\n",
       "    </tr>\n",
       "    <tr>\n",
       "      <th>3</th>\n",
       "      <td>FBI Russia probe helped by Australian diplomat...</td>\n",
       "      <td>WASHINGTON (Reuters) - Trump campaign adviser ...</td>\n",
       "      <td>politicsNews</td>\n",
       "      <td>December 30, 2017</td>\n",
       "    </tr>\n",
       "    <tr>\n",
       "      <th>4</th>\n",
       "      <td>Trump wants Postal Service to charge 'much mor...</td>\n",
       "      <td>SEATTLE/WASHINGTON (Reuters) - President Donal...</td>\n",
       "      <td>politicsNews</td>\n",
       "      <td>December 29, 2017</td>\n",
       "    </tr>\n",
       "  </tbody>\n",
       "</table>\n",
       "</div>"
      ],
      "text/plain": [
       "                                               title  \\\n",
       "0  As U.S. budget fight looms, Republicans flip t...   \n",
       "1  U.S. military to accept transgender recruits o...   \n",
       "2  Senior U.S. Republican senator: 'Let Mr. Muell...   \n",
       "3  FBI Russia probe helped by Australian diplomat...   \n",
       "4  Trump wants Postal Service to charge 'much mor...   \n",
       "\n",
       "                                                text       subject  \\\n",
       "0  WASHINGTON (Reuters) - The head of a conservat...  politicsNews   \n",
       "1  WASHINGTON (Reuters) - Transgender people will...  politicsNews   \n",
       "2  WASHINGTON (Reuters) - The special counsel inv...  politicsNews   \n",
       "3  WASHINGTON (Reuters) - Trump campaign adviser ...  politicsNews   \n",
       "4  SEATTLE/WASHINGTON (Reuters) - President Donal...  politicsNews   \n",
       "\n",
       "                 date  \n",
       "0  December 31, 2017   \n",
       "1  December 29, 2017   \n",
       "2  December 31, 2017   \n",
       "3  December 30, 2017   \n",
       "4  December 29, 2017   "
      ]
     },
     "execution_count": 5,
     "metadata": {},
     "output_type": "execute_result"
    }
   ],
   "source": [
    "print(df1.shape)\n",
    "df1.head()"
   ]
  },
  {
   "cell_type": "code",
   "execution_count": 6,
   "metadata": {},
   "outputs": [
    {
     "name": "stdout",
     "output_type": "stream",
     "text": [
      "(23481, 4)\n"
     ]
    },
    {
     "data": {
      "text/html": [
       "<div>\n",
       "<style scoped>\n",
       "    .dataframe tbody tr th:only-of-type {\n",
       "        vertical-align: middle;\n",
       "    }\n",
       "\n",
       "    .dataframe tbody tr th {\n",
       "        vertical-align: top;\n",
       "    }\n",
       "\n",
       "    .dataframe thead th {\n",
       "        text-align: right;\n",
       "    }\n",
       "</style>\n",
       "<table border=\"1\" class=\"dataframe\">\n",
       "  <thead>\n",
       "    <tr style=\"text-align: right;\">\n",
       "      <th></th>\n",
       "      <th>title</th>\n",
       "      <th>text</th>\n",
       "      <th>subject</th>\n",
       "      <th>date</th>\n",
       "    </tr>\n",
       "  </thead>\n",
       "  <tbody>\n",
       "    <tr>\n",
       "      <th>0</th>\n",
       "      <td>Donald Trump Sends Out Embarrassing New Year’...</td>\n",
       "      <td>Donald Trump just couldn t wish all Americans ...</td>\n",
       "      <td>News</td>\n",
       "      <td>December 31, 2017</td>\n",
       "    </tr>\n",
       "    <tr>\n",
       "      <th>1</th>\n",
       "      <td>Drunk Bragging Trump Staffer Started Russian ...</td>\n",
       "      <td>House Intelligence Committee Chairman Devin Nu...</td>\n",
       "      <td>News</td>\n",
       "      <td>December 31, 2017</td>\n",
       "    </tr>\n",
       "    <tr>\n",
       "      <th>2</th>\n",
       "      <td>Sheriff David Clarke Becomes An Internet Joke...</td>\n",
       "      <td>On Friday, it was revealed that former Milwauk...</td>\n",
       "      <td>News</td>\n",
       "      <td>December 30, 2017</td>\n",
       "    </tr>\n",
       "    <tr>\n",
       "      <th>3</th>\n",
       "      <td>Trump Is So Obsessed He Even Has Obama’s Name...</td>\n",
       "      <td>On Christmas day, Donald Trump announced that ...</td>\n",
       "      <td>News</td>\n",
       "      <td>December 29, 2017</td>\n",
       "    </tr>\n",
       "    <tr>\n",
       "      <th>4</th>\n",
       "      <td>Pope Francis Just Called Out Donald Trump Dur...</td>\n",
       "      <td>Pope Francis used his annual Christmas Day mes...</td>\n",
       "      <td>News</td>\n",
       "      <td>December 25, 2017</td>\n",
       "    </tr>\n",
       "  </tbody>\n",
       "</table>\n",
       "</div>"
      ],
      "text/plain": [
       "                                               title  \\\n",
       "0   Donald Trump Sends Out Embarrassing New Year’...   \n",
       "1   Drunk Bragging Trump Staffer Started Russian ...   \n",
       "2   Sheriff David Clarke Becomes An Internet Joke...   \n",
       "3   Trump Is So Obsessed He Even Has Obama’s Name...   \n",
       "4   Pope Francis Just Called Out Donald Trump Dur...   \n",
       "\n",
       "                                                text subject  \\\n",
       "0  Donald Trump just couldn t wish all Americans ...    News   \n",
       "1  House Intelligence Committee Chairman Devin Nu...    News   \n",
       "2  On Friday, it was revealed that former Milwauk...    News   \n",
       "3  On Christmas day, Donald Trump announced that ...    News   \n",
       "4  Pope Francis used his annual Christmas Day mes...    News   \n",
       "\n",
       "                date  \n",
       "0  December 31, 2017  \n",
       "1  December 31, 2017  \n",
       "2  December 30, 2017  \n",
       "3  December 29, 2017  \n",
       "4  December 25, 2017  "
      ]
     },
     "execution_count": 6,
     "metadata": {},
     "output_type": "execute_result"
    }
   ],
   "source": [
    "print(df2.shape)\n",
    "df2.head()"
   ]
  },
  {
   "attachments": {},
   "cell_type": "markdown",
   "metadata": {},
   "source": [
    "#### add column in both dataframe"
   ]
  },
  {
   "cell_type": "code",
   "execution_count": 7,
   "metadata": {},
   "outputs": [],
   "source": [
    "df1['target'] = 1\n",
    "df2['target'] = 0"
   ]
  },
  {
   "cell_type": "code",
   "execution_count": 8,
   "metadata": {},
   "outputs": [
    {
     "data": {
      "text/html": [
       "<div>\n",
       "<style scoped>\n",
       "    .dataframe tbody tr th:only-of-type {\n",
       "        vertical-align: middle;\n",
       "    }\n",
       "\n",
       "    .dataframe tbody tr th {\n",
       "        vertical-align: top;\n",
       "    }\n",
       "\n",
       "    .dataframe thead th {\n",
       "        text-align: right;\n",
       "    }\n",
       "</style>\n",
       "<table border=\"1\" class=\"dataframe\">\n",
       "  <thead>\n",
       "    <tr style=\"text-align: right;\">\n",
       "      <th></th>\n",
       "      <th>title</th>\n",
       "      <th>text</th>\n",
       "      <th>subject</th>\n",
       "      <th>date</th>\n",
       "      <th>target</th>\n",
       "    </tr>\n",
       "  </thead>\n",
       "  <tbody>\n",
       "    <tr>\n",
       "      <th>0</th>\n",
       "      <td>As U.S. budget fight looms, Republicans flip t...</td>\n",
       "      <td>WASHINGTON (Reuters) - The head of a conservat...</td>\n",
       "      <td>politicsNews</td>\n",
       "      <td>December 31, 2017</td>\n",
       "      <td>1</td>\n",
       "    </tr>\n",
       "    <tr>\n",
       "      <th>1</th>\n",
       "      <td>U.S. military to accept transgender recruits o...</td>\n",
       "      <td>WASHINGTON (Reuters) - Transgender people will...</td>\n",
       "      <td>politicsNews</td>\n",
       "      <td>December 29, 2017</td>\n",
       "      <td>1</td>\n",
       "    </tr>\n",
       "    <tr>\n",
       "      <th>2</th>\n",
       "      <td>Senior U.S. Republican senator: 'Let Mr. Muell...</td>\n",
       "      <td>WASHINGTON (Reuters) - The special counsel inv...</td>\n",
       "      <td>politicsNews</td>\n",
       "      <td>December 31, 2017</td>\n",
       "      <td>1</td>\n",
       "    </tr>\n",
       "    <tr>\n",
       "      <th>3</th>\n",
       "      <td>FBI Russia probe helped by Australian diplomat...</td>\n",
       "      <td>WASHINGTON (Reuters) - Trump campaign adviser ...</td>\n",
       "      <td>politicsNews</td>\n",
       "      <td>December 30, 2017</td>\n",
       "      <td>1</td>\n",
       "    </tr>\n",
       "    <tr>\n",
       "      <th>4</th>\n",
       "      <td>Trump wants Postal Service to charge 'much mor...</td>\n",
       "      <td>SEATTLE/WASHINGTON (Reuters) - President Donal...</td>\n",
       "      <td>politicsNews</td>\n",
       "      <td>December 29, 2017</td>\n",
       "      <td>1</td>\n",
       "    </tr>\n",
       "  </tbody>\n",
       "</table>\n",
       "</div>"
      ],
      "text/plain": [
       "                                               title  \\\n",
       "0  As U.S. budget fight looms, Republicans flip t...   \n",
       "1  U.S. military to accept transgender recruits o...   \n",
       "2  Senior U.S. Republican senator: 'Let Mr. Muell...   \n",
       "3  FBI Russia probe helped by Australian diplomat...   \n",
       "4  Trump wants Postal Service to charge 'much mor...   \n",
       "\n",
       "                                                text       subject  \\\n",
       "0  WASHINGTON (Reuters) - The head of a conservat...  politicsNews   \n",
       "1  WASHINGTON (Reuters) - Transgender people will...  politicsNews   \n",
       "2  WASHINGTON (Reuters) - The special counsel inv...  politicsNews   \n",
       "3  WASHINGTON (Reuters) - Trump campaign adviser ...  politicsNews   \n",
       "4  SEATTLE/WASHINGTON (Reuters) - President Donal...  politicsNews   \n",
       "\n",
       "                 date  target  \n",
       "0  December 31, 2017        1  \n",
       "1  December 29, 2017        1  \n",
       "2  December 31, 2017        1  \n",
       "3  December 30, 2017        1  \n",
       "4  December 29, 2017        1  "
      ]
     },
     "execution_count": 8,
     "metadata": {},
     "output_type": "execute_result"
    }
   ],
   "source": [
    "df1.head(5)"
   ]
  },
  {
   "cell_type": "code",
   "execution_count": 9,
   "metadata": {},
   "outputs": [
    {
     "data": {
      "text/html": [
       "<div>\n",
       "<style scoped>\n",
       "    .dataframe tbody tr th:only-of-type {\n",
       "        vertical-align: middle;\n",
       "    }\n",
       "\n",
       "    .dataframe tbody tr th {\n",
       "        vertical-align: top;\n",
       "    }\n",
       "\n",
       "    .dataframe thead th {\n",
       "        text-align: right;\n",
       "    }\n",
       "</style>\n",
       "<table border=\"1\" class=\"dataframe\">\n",
       "  <thead>\n",
       "    <tr style=\"text-align: right;\">\n",
       "      <th></th>\n",
       "      <th>title</th>\n",
       "      <th>text</th>\n",
       "      <th>subject</th>\n",
       "      <th>date</th>\n",
       "      <th>target</th>\n",
       "    </tr>\n",
       "  </thead>\n",
       "  <tbody>\n",
       "    <tr>\n",
       "      <th>0</th>\n",
       "      <td>Donald Trump Sends Out Embarrassing New Year’...</td>\n",
       "      <td>Donald Trump just couldn t wish all Americans ...</td>\n",
       "      <td>News</td>\n",
       "      <td>December 31, 2017</td>\n",
       "      <td>0</td>\n",
       "    </tr>\n",
       "    <tr>\n",
       "      <th>1</th>\n",
       "      <td>Drunk Bragging Trump Staffer Started Russian ...</td>\n",
       "      <td>House Intelligence Committee Chairman Devin Nu...</td>\n",
       "      <td>News</td>\n",
       "      <td>December 31, 2017</td>\n",
       "      <td>0</td>\n",
       "    </tr>\n",
       "  </tbody>\n",
       "</table>\n",
       "</div>"
      ],
      "text/plain": [
       "                                               title  \\\n",
       "0   Donald Trump Sends Out Embarrassing New Year’...   \n",
       "1   Drunk Bragging Trump Staffer Started Russian ...   \n",
       "\n",
       "                                                text subject  \\\n",
       "0  Donald Trump just couldn t wish all Americans ...    News   \n",
       "1  House Intelligence Committee Chairman Devin Nu...    News   \n",
       "\n",
       "                date  target  \n",
       "0  December 31, 2017       0  \n",
       "1  December 31, 2017       0  "
      ]
     },
     "execution_count": 9,
     "metadata": {},
     "output_type": "execute_result"
    }
   ],
   "source": [
    "df2.head(2)"
   ]
  },
  {
   "attachments": {},
   "cell_type": "markdown",
   "metadata": {},
   "source": [
    "*Take a 5000 sample of both dataframe*"
   ]
  },
  {
   "cell_type": "code",
   "execution_count": 10,
   "metadata": {},
   "outputs": [],
   "source": [
    "df1 = df1.sample(5000).reset_index(drop = True)\n",
    "df2 = df2.sample(5000).reset_index(drop = True)"
   ]
  },
  {
   "cell_type": "code",
   "execution_count": 11,
   "metadata": {},
   "outputs": [
    {
     "data": {
      "text/html": [
       "<div>\n",
       "<style scoped>\n",
       "    .dataframe tbody tr th:only-of-type {\n",
       "        vertical-align: middle;\n",
       "    }\n",
       "\n",
       "    .dataframe tbody tr th {\n",
       "        vertical-align: top;\n",
       "    }\n",
       "\n",
       "    .dataframe thead th {\n",
       "        text-align: right;\n",
       "    }\n",
       "</style>\n",
       "<table border=\"1\" class=\"dataframe\">\n",
       "  <thead>\n",
       "    <tr style=\"text-align: right;\">\n",
       "      <th></th>\n",
       "      <th>title</th>\n",
       "      <th>text</th>\n",
       "      <th>subject</th>\n",
       "      <th>date</th>\n",
       "      <th>target</th>\n",
       "    </tr>\n",
       "  </thead>\n",
       "  <tbody>\n",
       "    <tr>\n",
       "      <th>0</th>\n",
       "      <td>For hardline West Bank settlers, Jared Kushner...</td>\n",
       "      <td>BET EL, West Bank (Reuters) - For many in the ...</td>\n",
       "      <td>politicsNews</td>\n",
       "      <td>February 1, 2017</td>\n",
       "      <td>1</td>\n",
       "    </tr>\n",
       "    <tr>\n",
       "      <th>1</th>\n",
       "      <td>Catalan election to return hung parliament: poll</td>\n",
       "      <td>MADRID (Reuters) - An election in Catalonia wi...</td>\n",
       "      <td>worldnews</td>\n",
       "      <td>December 15, 2017</td>\n",
       "      <td>1</td>\n",
       "    </tr>\n",
       "    <tr>\n",
       "      <th>2</th>\n",
       "      <td>Trump knew for weeks that aide was being misle...</td>\n",
       "      <td>WASHINGTON (Reuters) - U.S. President Donald T...</td>\n",
       "      <td>politicsNews</td>\n",
       "      <td>February 14, 2017</td>\n",
       "      <td>1</td>\n",
       "    </tr>\n",
       "    <tr>\n",
       "      <th>3</th>\n",
       "      <td>Fistfights erupt in Uganda's parliament amid m...</td>\n",
       "      <td>KAMPALA (Reuters) - Fistfights and chair-throw...</td>\n",
       "      <td>worldnews</td>\n",
       "      <td>September 26, 2017</td>\n",
       "      <td>1</td>\n",
       "    </tr>\n",
       "    <tr>\n",
       "      <th>4</th>\n",
       "      <td>Japan pledges to help Philippines rebuild Marawi</td>\n",
       "      <td>TOKYO (Reuters) - Japan said on Monday it will...</td>\n",
       "      <td>worldnews</td>\n",
       "      <td>October 30, 2017</td>\n",
       "      <td>1</td>\n",
       "    </tr>\n",
       "  </tbody>\n",
       "</table>\n",
       "</div>"
      ],
      "text/plain": [
       "                                               title  \\\n",
       "0  For hardline West Bank settlers, Jared Kushner...   \n",
       "1   Catalan election to return hung parliament: poll   \n",
       "2  Trump knew for weeks that aide was being misle...   \n",
       "3  Fistfights erupt in Uganda's parliament amid m...   \n",
       "4   Japan pledges to help Philippines rebuild Marawi   \n",
       "\n",
       "                                                text       subject  \\\n",
       "0  BET EL, West Bank (Reuters) - For many in the ...  politicsNews   \n",
       "1  MADRID (Reuters) - An election in Catalonia wi...     worldnews   \n",
       "2  WASHINGTON (Reuters) - U.S. President Donald T...  politicsNews   \n",
       "3  KAMPALA (Reuters) - Fistfights and chair-throw...     worldnews   \n",
       "4  TOKYO (Reuters) - Japan said on Monday it will...     worldnews   \n",
       "\n",
       "                  date  target  \n",
       "0    February 1, 2017        1  \n",
       "1   December 15, 2017        1  \n",
       "2   February 14, 2017        1  \n",
       "3  September 26, 2017        1  \n",
       "4    October 30, 2017        1  "
      ]
     },
     "execution_count": 11,
     "metadata": {},
     "output_type": "execute_result"
    }
   ],
   "source": [
    "df1.head()"
   ]
  },
  {
   "cell_type": "code",
   "execution_count": 12,
   "metadata": {},
   "outputs": [
    {
     "data": {
      "text/html": [
       "<div>\n",
       "<style scoped>\n",
       "    .dataframe tbody tr th:only-of-type {\n",
       "        vertical-align: middle;\n",
       "    }\n",
       "\n",
       "    .dataframe tbody tr th {\n",
       "        vertical-align: top;\n",
       "    }\n",
       "\n",
       "    .dataframe thead th {\n",
       "        text-align: right;\n",
       "    }\n",
       "</style>\n",
       "<table border=\"1\" class=\"dataframe\">\n",
       "  <thead>\n",
       "    <tr style=\"text-align: right;\">\n",
       "      <th></th>\n",
       "      <th>title</th>\n",
       "      <th>text</th>\n",
       "      <th>subject</th>\n",
       "      <th>date</th>\n",
       "      <th>target</th>\n",
       "    </tr>\n",
       "  </thead>\n",
       "  <tbody>\n",
       "    <tr>\n",
       "      <th>0</th>\n",
       "      <td>U.S. Women’s Soccer Star Megan Rapinoe Kneels...</td>\n",
       "      <td>The protest is growing.Most people don t seem ...</td>\n",
       "      <td>News</td>\n",
       "      <td>September 5, 2016</td>\n",
       "      <td>0</td>\n",
       "    </tr>\n",
       "    <tr>\n",
       "      <th>1</th>\n",
       "      <td>BREAKING: VIOLENT HILLARY THUGS Beat Man Holdi...</td>\n",
       "      <td>Protester with  Rape  sign is tackled at #Clin...</td>\n",
       "      <td>left-news</td>\n",
       "      <td>Oct 13, 2016</td>\n",
       "      <td>0</td>\n",
       "    </tr>\n",
       "    <tr>\n",
       "      <th>2</th>\n",
       "      <td>Lisa Bloom Has FRIGHTENING Warning For The Fu...</td>\n",
       "      <td>Donald Trump is a misogynist. We all know that...</td>\n",
       "      <td>News</td>\n",
       "      <td>December 11, 2016</td>\n",
       "      <td>0</td>\n",
       "    </tr>\n",
       "    <tr>\n",
       "      <th>3</th>\n",
       "      <td>Bernie Sanders Just Received A Crucial Nevada...</td>\n",
       "      <td>Bernie Sanders just received a major endorseme...</td>\n",
       "      <td>News</td>\n",
       "      <td>February 19, 2016</td>\n",
       "      <td>0</td>\n",
       "    </tr>\n",
       "    <tr>\n",
       "      <th>4</th>\n",
       "      <td>Trump Whines About How Divided Our Nation Is ...</td>\n",
       "      <td>After a year and half of doing nothing but div...</td>\n",
       "      <td>News</td>\n",
       "      <td>January 15, 2017</td>\n",
       "      <td>0</td>\n",
       "    </tr>\n",
       "  </tbody>\n",
       "</table>\n",
       "</div>"
      ],
      "text/plain": [
       "                                               title  \\\n",
       "0   U.S. Women’s Soccer Star Megan Rapinoe Kneels...   \n",
       "1  BREAKING: VIOLENT HILLARY THUGS Beat Man Holdi...   \n",
       "2   Lisa Bloom Has FRIGHTENING Warning For The Fu...   \n",
       "3   Bernie Sanders Just Received A Crucial Nevada...   \n",
       "4   Trump Whines About How Divided Our Nation Is ...   \n",
       "\n",
       "                                                text    subject  \\\n",
       "0  The protest is growing.Most people don t seem ...       News   \n",
       "1  Protester with  Rape  sign is tackled at #Clin...  left-news   \n",
       "2  Donald Trump is a misogynist. We all know that...       News   \n",
       "3  Bernie Sanders just received a major endorseme...       News   \n",
       "4  After a year and half of doing nothing but div...       News   \n",
       "\n",
       "                date  target  \n",
       "0  September 5, 2016       0  \n",
       "1       Oct 13, 2016       0  \n",
       "2  December 11, 2016       0  \n",
       "3  February 19, 2016       0  \n",
       "4   January 15, 2017       0  "
      ]
     },
     "execution_count": 12,
     "metadata": {},
     "output_type": "execute_result"
    }
   ],
   "source": [
    "df2.head()"
   ]
  },
  {
   "attachments": {},
   "cell_type": "markdown",
   "metadata": {},
   "source": [
    "*merge df1 and df2 into df*"
   ]
  },
  {
   "cell_type": "code",
   "execution_count": 13,
   "metadata": {},
   "outputs": [],
   "source": [
    "df = pd.concat([df1,df2],) #concat is a pandas func used to concatenate two dataframe\n",
    "#axis = 0(row) by default\n",
    "df = df.sample(frac=1).reset_index(drop=True)"
   ]
  },
  {
   "cell_type": "code",
   "execution_count": 14,
   "metadata": {},
   "outputs": [
    {
     "name": "stdout",
     "output_type": "stream",
     "text": [
      "(10000, 5)\n",
      "0     0\n",
      "1     0\n",
      "2     0\n",
      "3     0\n",
      "4     1\n",
      "5     1\n",
      "6     1\n",
      "7     1\n",
      "8     0\n",
      "9     1\n",
      "10    0\n",
      "11    0\n",
      "12    0\n",
      "13    0\n",
      "14    0\n",
      "15    0\n",
      "16    0\n",
      "17    1\n",
      "18    1\n",
      "19    1\n",
      "Name: target, dtype: int64\n"
     ]
    }
   ],
   "source": [
    "print(df.shape)\n",
    "print(df.target[:20])"
   ]
  },
  {
   "cell_type": "code",
   "execution_count": 15,
   "metadata": {},
   "outputs": [
    {
     "data": {
      "text/plain": [
       "0    5000\n",
       "1    5000\n",
       "Name: target, dtype: int64"
      ]
     },
     "execution_count": 15,
     "metadata": {},
     "output_type": "execute_result"
    }
   ],
   "source": [
    "df.target.value_counts()"
   ]
  },
  {
   "attachments": {},
   "cell_type": "markdown",
   "metadata": {},
   "source": [
    "<font font size=\"6px\" color= \"Green\">***Now we r using Spacy***</font>"
   ]
  },
  {
   "cell_type": "code",
   "execution_count": 16,
   "metadata": {},
   "outputs": [],
   "source": [
    "import spacy"
   ]
  },
  {
   "cell_type": "code",
   "execution_count": 17,
   "metadata": {},
   "outputs": [],
   "source": [
    "nlp = spacy.load(\"en_core_web_lg\")"
   ]
  },
  {
   "cell_type": "code",
   "execution_count": 18,
   "metadata": {},
   "outputs": [
    {
     "data": {
      "text/plain": [
       "'Not that anyone should be surprised by this insanity after all, it s California where rules, laws and morals don t really apply to liberals Arriving naked at a final exam is one of the most common nightmares for students, according to Psychology Today. At the University of California San Diego, however, the naked final exam is a requirement for a class in the visual arts department.Students are required to perform  a gesture that traces, outlines or speaks about your  erotic self(s),  according to the course syllabus. In the performance, all of the students are naked, along with the professor, Ricardo Dominguez, who has taught the class for 11 years. It s the standard canvas for performance art and body art,  Dominguez told local ABC News affiliate KGTV.  It is all very controlled If they are uncomfortable with this gesture, they should not take the class.  He was defending the class after one mother spoke out, claiming the requirement was not clear and was a  perversion. According to the UCSD Visual Arts department website, the course is a prerequisite for a verbal performance art class. Fully 95% of students in the class receive a grade of  A,  according to the college course ratings website koofers.com.Domniguez s biography on the department website lists a series of political efforts, including a government-funded project called the  Transborder Immigrant Tool,  in which he handed out cell phones to prospective illegal immigrants with instructions about how to cross the U.S.-Mexico border.The goal of the project, which was funded by U.S. government grants and UCSD, and which was subsequently investigated by Congress, was to use poetry to  dissolve  the border.Via: Breitbart News'"
      ]
     },
     "execution_count": 18,
     "metadata": {},
     "output_type": "execute_result"
    }
   ],
   "source": [
    "sent = df.text[0]\n",
    "sent"
   ]
  },
  {
   "cell_type": "code",
   "execution_count": 19,
   "metadata": {},
   "outputs": [
    {
     "data": {
      "text/plain": [
       "array([-2.9594e+00, -2.8602e+00,  5.0317e-02,  7.0148e-01,  6.5911e+00,\n",
       "        4.4706e-01,  1.9921e+00, -1.0834e+00,  1.1641e+00,  7.7718e-01,\n",
       "        3.4203e+00,  1.4933e+00, -4.9070e+00,  5.7480e+00, -2.9016e+00,\n",
       "       -3.5431e-01,  3.7235e+00,  1.8183e+00,  2.2252e+00,  4.0988e+00,\n",
       "       -5.6589e+00, -8.4234e+00, -5.6137e+00,  2.2756e+00,  2.7798e+00,\n",
       "       -9.8942e-01,  4.2761e+00, -8.2938e-01,  2.9379e+00, -5.3305e+00,\n",
       "        2.9162e+00, -6.4013e+00, -1.5244e+00,  5.7230e-01, -1.7996e-01,\n",
       "       -3.4273e+00,  2.2657e+00, -3.7643e+00,  6.2760e+00,  1.3890e+00,\n",
       "       -5.8589e+00,  3.5527e-01, -1.7336e+00,  3.9681e+00, -1.6672e-01,\n",
       "        4.5473e-01,  2.2740e+00, -1.0659e-01, -1.5461e+00, -2.3502e+00,\n",
       "        5.2379e+00, -1.5110e+00,  1.8348e-01,  5.1551e-01,  2.0120e+00,\n",
       "       -4.6027e-01, -6.0780e-01, -2.9870e+00,  2.4556e+00, -7.1820e-01,\n",
       "       -6.9962e-01, -3.6060e-01,  2.0749e-01, -1.1818e+00,  8.2038e+00,\n",
       "        3.9623e+00,  2.7840e+00, -8.1896e-02, -2.6017e+00,  2.2944e-02,\n",
       "        1.6082e+00, -5.8496e+00,  2.2825e+00, -3.5048e+00, -7.5535e-01,\n",
       "        4.8308e-01,  3.6276e+00,  4.0481e+00, -4.6251e-01, -2.7700e+00,\n",
       "       -6.1666e+00, -3.1973e+00, -2.8829e+00,  9.6805e+00,  6.4817e+00,\n",
       "       -1.5953e+00, -6.1010e-01, -4.6647e+00, -6.7919e-03,  1.5913e+00,\n",
       "        3.8771e+00,  3.4274e+00, -5.6775e+00,  4.3346e+00,  2.9804e+00,\n",
       "        3.4736e+00, -6.2795e-01, -4.1852e+00,  3.4306e+00, -1.9666e+00,\n",
       "        4.5778e+00,  5.2007e+00, -5.2965e-01, -5.9888e-02, -4.7701e+00,\n",
       "       -1.8866e-01, -2.3312e+00, -1.8292e+00, -1.8311e+00, -1.8927e+00,\n",
       "        3.4341e+00, -1.7677e+00,  3.3307e+00,  8.2135e-01, -1.3777e+00,\n",
       "       -2.0786e-01, -1.0435e+00,  3.0030e+00, -9.0438e-01, -6.7515e-01,\n",
       "       -3.7238e+00, -4.6380e+00,  2.5465e+00,  2.9537e+00,  5.6298e+00,\n",
       "       -4.4578e-01,  4.2068e+00,  2.9962e+00,  2.6763e+00,  7.1229e-01,\n",
       "       -4.3440e+00,  9.0177e-01, -1.6354e+00, -6.2321e+00,  4.6099e+00,\n",
       "       -4.3453e+00, -1.5246e+00, -4.7406e+00,  5.1616e+00, -3.7210e+00,\n",
       "       -7.6731e+00,  6.6603e-02, -4.7503e+00,  4.5813e+00, -6.6325e-01,\n",
       "        3.0210e+00, -1.4931e+00,  4.7704e+00,  6.1183e+00, -6.7953e-01,\n",
       "       -4.1777e-01, -4.1330e+00,  3.9328e+00,  1.8275e+00, -1.0393e+01,\n",
       "       -7.7319e+00,  4.1270e+00, -1.1601e+00, -4.5599e+00, -2.8612e+00,\n",
       "        2.0008e+00, -3.1704e+00, -4.3772e+00,  2.9543e+00,  5.0152e+00,\n",
       "        5.4817e+00, -5.0798e+00, -4.2345e-02, -4.2659e+00,  2.2495e+00,\n",
       "       -2.1457e+00,  3.8003e+00,  5.4926e+00, -9.6151e+00,  6.2151e+00,\n",
       "       -3.0328e+00,  3.0224e+00, -4.2412e+00, -2.7032e+00,  2.0993e-01,\n",
       "        9.6924e-01, -1.8214e+00, -1.6868e+00,  1.8699e+00,  1.9337e+00,\n",
       "       -3.5033e+00,  3.4213e+00,  1.1295e+00, -3.5314e-01, -5.8615e+00,\n",
       "        2.3328e+00, -4.4596e+00, -1.1257e+01, -1.0651e+00,  3.2086e-01,\n",
       "       -9.1514e-01,  9.0433e-02, -9.7634e-01,  3.2711e+00,  6.5572e+00,\n",
       "       -6.1413e+00, -4.3711e+00,  1.1331e+00, -9.1863e+00, -6.3637e-01,\n",
       "        5.6162e+00,  4.8937e+00,  2.6109e+00, -6.5551e+00,  7.0415e+00,\n",
       "       -4.6444e+00,  4.4316e+00,  7.7020e-01, -3.3271e+00, -1.8904e+00,\n",
       "        2.1858e+00, -3.7595e+00,  2.7729e+00, -2.3286e+00, -5.6995e-01,\n",
       "       -4.4895e+00,  3.8099e-01, -8.8984e-01,  2.2901e+00, -7.3398e+00,\n",
       "        3.1570e+00,  1.9753e+00,  6.5331e+00, -4.9518e+00, -1.6431e+00,\n",
       "       -1.2906e+00, -7.5216e-01, -1.4927e+00,  5.3222e-01, -4.4188e+00,\n",
       "        6.2304e+00, -3.1066e+00, -3.1487e+00, -4.8742e+00, -3.1311e+00,\n",
       "        8.6773e-01, -3.5284e+00, -3.7232e+00, -1.7313e+00, -1.5898e+00,\n",
       "        4.1928e+00, -2.7980e+00, -4.5852e+00,  3.7681e+00,  2.3823e+00,\n",
       "        3.5180e+00, -7.0692e+00, -1.1844e+00, -7.8555e-01,  3.0174e+00,\n",
       "       -6.3915e+00,  4.4146e+00, -4.5399e+00, -2.7233e+00,  3.9184e+00,\n",
       "        7.8921e-01,  5.5043e+00, -6.1933e+00, -1.0597e-01, -1.2729e+00,\n",
       "        1.2013e+00,  3.2292e+00, -1.1144e+00, -6.5310e+00,  2.7004e+00,\n",
       "       -1.0689e+00,  1.4209e+00, -3.8572e+00, -6.6642e+00,  1.1730e-01,\n",
       "        6.3826e-01,  3.8161e+00, -8.1187e+00,  6.7920e+00,  6.5068e+00,\n",
       "       -1.7616e+00, -3.1780e+00, -8.9005e-02, -3.9845e+00, -3.3844e+00,\n",
       "        3.9892e+00,  6.2657e-01, -1.9501e-01, -6.0799e+00,  3.9302e+00,\n",
       "        4.8236e-01,  1.1600e+00, -4.6640e+00, -3.6836e+00,  3.5605e+00,\n",
       "        3.5306e+00, -7.1362e+00,  7.8834e-01,  3.6873e+00, -1.7339e+00],\n",
       "      dtype=float32)"
      ]
     },
     "execution_count": 19,
     "metadata": {},
     "output_type": "execute_result"
    }
   ],
   "source": [
    "doc = nlp(\"sent\")\n",
    "doc.vector"
   ]
  },
  {
   "cell_type": "code",
   "execution_count": 20,
   "metadata": {},
   "outputs": [],
   "source": [
    "# make a function for using Spacy word vector\n",
    "def word_vector(sent):\n",
    "    doc = nlp(sent)\n",
    "\n",
    "    return doc.vector\n",
    "    \n",
    "        \n"
   ]
  },
  {
   "cell_type": "code",
   "execution_count": 21,
   "metadata": {},
   "outputs": [
    {
     "data": {
      "text/plain": [
       "array([-1.6787069 ,  0.5447232 , -2.1349845 ,  0.39863253,  3.2435696 ,\n",
       "        0.7505763 ,  0.18419595,  4.3242197 , -0.4656352 , -0.6576579 ,\n",
       "        4.843364  ,  1.2365891 , -2.9212723 ,  0.8727878 ,  1.2568126 ,\n",
       "        1.3369695 ,  0.5816368 , -1.4057708 , -1.4901576 , -1.1603396 ,\n",
       "        0.9607968 , -0.3733816 , -1.0810263 , -0.56023896, -0.3891002 ,\n",
       "       -1.3006063 , -2.0999894 , -0.7859384 , -0.12262595,  1.1809704 ,\n",
       "        1.105351  , -0.65118676, -0.30178475, -1.6821325 , -2.026614  ,\n",
       "       -1.0986936 , -0.69194144,  1.136917  ,  1.1690929 ,  0.94534516,\n",
       "        0.23761088,  0.42489293,  0.30225924,  0.6663203 , -1.3429253 ,\n",
       "        1.3189859 , -0.03314042, -2.2363074 , -0.6971842 ,  2.2603981 ,\n",
       "       -1.3405416 ,  1.4090313 ,  0.5804519 , -3.9939818 , -0.66034013,\n",
       "        0.16368221,  0.02654946,  0.748512  ,  1.2538785 ,  0.11487815,\n",
       "        0.77981335, -0.43466875, -0.02399412, -1.7127122 ,  2.5677242 ,\n",
       "        1.5583771 , -2.463931  , -2.124285  ,  0.6021237 ,  1.8831496 ,\n",
       "        0.24025728, -1.0521523 , -1.1684178 ,  0.22871004, -0.02473353,\n",
       "        0.7981079 , -3.029992  ,  1.8317384 , -2.655093  , -0.20684929,\n",
       "       -3.409929  , -0.24296136,  1.3358272 ,  0.6474219 ,  2.0844872 ,\n",
       "       -0.22206941, -1.9264103 , -2.616798  ,  1.1388392 , -0.47143218,\n",
       "       -0.8775032 ,  0.25291106,  1.5642084 , -3.2350578 ,  1.0319575 ,\n",
       "       -0.8885718 ,  0.46395564, -1.0323365 ,  1.3993392 ,  1.2672057 ,\n",
       "        1.7752045 ,  1.5170873 ,  1.8453103 ,  2.4796865 , -1.2559596 ,\n",
       "        2.9111333 , -0.6329045 , -1.3414831 , -0.75771785, -2.3379488 ,\n",
       "        0.63451624, -0.13834897, -0.4569914 ,  0.43021086,  0.88866824,\n",
       "        0.984777  , -0.5962418 ,  0.12642589,  0.01860611, -0.31467095,\n",
       "       -0.69401956, -2.846489  , -0.13789386,  0.49988073, -0.89028895,\n",
       "       -2.312333  ,  1.4680408 , -1.614642  ,  1.8881962 , -0.5228733 ,\n",
       "       -1.1143042 , -0.60045284,  3.3386464 , -0.6997146 ,  0.13416572,\n",
       "        0.7896498 , -2.041822  , -0.533954  ,  3.0005212 , -1.985573  ,\n",
       "       -2.1050496 , -1.15931   ,  0.4648776 ,  1.5126053 , -0.00891764,\n",
       "        0.22993255, -3.368822  , -0.23008265,  1.2244183 ,  0.47427917,\n",
       "       -0.6315057 ,  1.474567  ,  0.31613085,  1.6669621 , -1.2784235 ,\n",
       "        0.7236505 ,  2.624443  , -0.77727664, -2.0734618 , -0.887368  ,\n",
       "       -0.45830068, -2.610773  , -0.6853151 ,  1.3639048 , -2.14557   ,\n",
       "       -1.5023365 , -3.1970563 ,  1.0036346 , -0.78616995,  0.93674546,\n",
       "        1.1061505 ,  0.02650652,  1.7264185 ,  0.39560553,  1.7326446 ,\n",
       "        0.10475397, -0.58981466,  0.33330277, -1.7252223 , -1.1395084 ,\n",
       "       -0.60512716, -0.57990175,  1.3187164 ,  0.16391055, -1.1269491 ,\n",
       "        1.1883278 , -1.0868917 , -0.81467843,  1.3774022 ,  1.8076173 ,\n",
       "       -0.08434065, -0.7394064 , -0.6786637 , -0.72473013, -0.20313896,\n",
       "       -0.30067575, -2.4246716 ,  0.10780518, -0.68488204,  1.8056754 ,\n",
       "       -1.2836    , -1.1512452 , -0.53230315, -1.687942  ,  1.317091  ,\n",
       "        0.5853798 , -1.9306854 ,  0.57685465, -0.23903255, -0.0127258 ,\n",
       "        0.90684056,  0.5470019 , -0.79806954,  1.7646459 ,  0.4855074 ,\n",
       "        2.6699817 ,  0.0432995 , -1.6033943 , -0.2711186 ,  0.20051433,\n",
       "       -1.956277  ,  0.88311493,  0.13116385,  1.0736196 , -1.6025409 ,\n",
       "       -0.9220701 ,  0.2853508 ,  2.6981719 ,  1.596954  ,  0.5807164 ,\n",
       "        1.2043052 , -1.9331716 , -0.5423793 ,  1.3409907 ,  1.4343456 ,\n",
       "        1.5037806 , -1.3912206 ,  1.0329027 , -0.4379158 , -0.60071725,\n",
       "       -0.7093544 ,  0.7185495 ,  1.2021961 , -0.152783  , -0.6115522 ,\n",
       "        1.0305752 , -1.609031  ,  0.04012865,  0.93399787,  2.2032862 ,\n",
       "        0.17239018, -1.6801684 , -4.732087  ,  0.26738408,  0.49537733,\n",
       "       -1.7866926 ,  1.3866285 ,  0.05515203, -0.08235534,  1.3575486 ,\n",
       "        0.33323774,  3.2644773 ,  2.4652252 ,  1.944272  ,  1.5970151 ,\n",
       "       -0.27541018,  0.2828905 ,  1.9272519 , -3.471651  , -0.24758889,\n",
       "        0.76591617, -0.75024027,  0.1594394 , -1.5739589 ,  0.17230354,\n",
       "       -0.25314415,  1.0397375 , -1.6728028 , -0.9536425 ,  1.9776747 ,\n",
       "        0.37500092, -0.00786791,  0.95603734,  0.61561346,  2.4739347 ,\n",
       "       -0.77023184, -0.09126999,  1.4793407 , -1.391121  , -0.21483722,\n",
       "        0.7778696 , -1.028628  , -0.41583365, -0.5890119 , -1.0900776 ,\n",
       "        0.9490844 ,  0.8600094 ,  0.09521982, -3.0180647 ,  0.56143516],\n",
       "      dtype=float32)"
      ]
     },
     "execution_count": 21,
     "metadata": {},
     "output_type": "execute_result"
    }
   ],
   "source": [
    "word_vector(df.text[2])"
   ]
  },
  {
   "cell_type": "code",
   "execution_count": 22,
   "metadata": {},
   "outputs": [],
   "source": [
    "df['vector'] = df['text'].apply(word_vector)"
   ]
  },
  {
   "cell_type": "code",
   "execution_count": 54,
   "metadata": {},
   "outputs": [
    {
     "data": {
      "text/html": [
       "<div>\n",
       "<style scoped>\n",
       "    .dataframe tbody tr th:only-of-type {\n",
       "        vertical-align: middle;\n",
       "    }\n",
       "\n",
       "    .dataframe tbody tr th {\n",
       "        vertical-align: top;\n",
       "    }\n",
       "\n",
       "    .dataframe thead th {\n",
       "        text-align: right;\n",
       "    }\n",
       "</style>\n",
       "<table border=\"1\" class=\"dataframe\">\n",
       "  <thead>\n",
       "    <tr style=\"text-align: right;\">\n",
       "      <th></th>\n",
       "      <th>title</th>\n",
       "      <th>text</th>\n",
       "      <th>subject</th>\n",
       "      <th>date</th>\n",
       "      <th>target</th>\n",
       "      <th>vector</th>\n",
       "    </tr>\n",
       "  </thead>\n",
       "  <tbody>\n",
       "    <tr>\n",
       "      <th>0</th>\n",
       "      <td>MOTHER OUTRAGED OVER DAUGHTER BEING ASKED TO A...</td>\n",
       "      <td>Not that anyone should be surprised by this in...</td>\n",
       "      <td>left-news</td>\n",
       "      <td>May 10, 2015</td>\n",
       "      <td>0</td>\n",
       "      <td>[-2.4173713, 0.04992151, -1.3127843, 0.0763101...</td>\n",
       "    </tr>\n",
       "    <tr>\n",
       "      <th>1</th>\n",
       "      <td>BOILER ROOM – EP #47 – Establishment Hitmen &amp; ...</td>\n",
       "      <td>Tune in to the Alternate Current Radio Network...</td>\n",
       "      <td>US_News</td>\n",
       "      <td>March 10, 2016</td>\n",
       "      <td>0</td>\n",
       "      <td>[-1.4987497, -0.85132474, -1.0763875, 0.576292...</td>\n",
       "    </tr>\n",
       "    <tr>\n",
       "      <th>2</th>\n",
       "      <td>Trump BAILS On Teleprompter, Insults His Own ...</td>\n",
       "      <td>Despite not having any time to attend critical...</td>\n",
       "      <td>News</td>\n",
       "      <td>December 16, 2016</td>\n",
       "      <td>0</td>\n",
       "      <td>[-1.6787069, 0.5447232, -2.1349845, 0.39863253...</td>\n",
       "    </tr>\n",
       "    <tr>\n",
       "      <th>3</th>\n",
       "      <td>WATCH: Republican Runs Into A Buzzsaw During ...</td>\n",
       "      <td>Remember when Republicans wasted millions of d...</td>\n",
       "      <td>News</td>\n",
       "      <td>February 22, 2017</td>\n",
       "      <td>0</td>\n",
       "      <td>[-1.6364673, 0.83632517, -2.7284322, 0.3237148...</td>\n",
       "    </tr>\n",
       "    <tr>\n",
       "      <th>4</th>\n",
       "      <td>Kansas governor eyes tobacco bonds for budget fix</td>\n",
       "      <td>(Reuters) - Kansas Governor Sam Brownback offe...</td>\n",
       "      <td>politicsNews</td>\n",
       "      <td>April 21, 2016</td>\n",
       "      <td>1</td>\n",
       "      <td>[-2.7853827, 0.06117026, -2.8805842, 1.0275064...</td>\n",
       "    </tr>\n",
       "  </tbody>\n",
       "</table>\n",
       "</div>"
      ],
      "text/plain": [
       "                                               title  \\\n",
       "0  MOTHER OUTRAGED OVER DAUGHTER BEING ASKED TO A...   \n",
       "1  BOILER ROOM – EP #47 – Establishment Hitmen & ...   \n",
       "2   Trump BAILS On Teleprompter, Insults His Own ...   \n",
       "3   WATCH: Republican Runs Into A Buzzsaw During ...   \n",
       "4  Kansas governor eyes tobacco bonds for budget fix   \n",
       "\n",
       "                                                text       subject  \\\n",
       "0  Not that anyone should be surprised by this in...     left-news   \n",
       "1  Tune in to the Alternate Current Radio Network...       US_News   \n",
       "2  Despite not having any time to attend critical...          News   \n",
       "3  Remember when Republicans wasted millions of d...          News   \n",
       "4  (Reuters) - Kansas Governor Sam Brownback offe...  politicsNews   \n",
       "\n",
       "                date  target  \\\n",
       "0       May 10, 2015       0   \n",
       "1     March 10, 2016       0   \n",
       "2  December 16, 2016       0   \n",
       "3  February 22, 2017       0   \n",
       "4    April 21, 2016        1   \n",
       "\n",
       "                                              vector  \n",
       "0  [-2.4173713, 0.04992151, -1.3127843, 0.0763101...  \n",
       "1  [-1.4987497, -0.85132474, -1.0763875, 0.576292...  \n",
       "2  [-1.6787069, 0.5447232, -2.1349845, 0.39863253...  \n",
       "3  [-1.6364673, 0.83632517, -2.7284322, 0.3237148...  \n",
       "4  [-2.7853827, 0.06117026, -2.8805842, 1.0275064...  "
      ]
     },
     "execution_count": 54,
     "metadata": {},
     "output_type": "execute_result"
    }
   ],
   "source": [
    "df.head()"
   ]
  },
  {
   "attachments": {},
   "cell_type": "markdown",
   "metadata": {},
   "source": [
    "<font font size=\"6px\" color= \"yellow\">Model training</font>"
   ]
  },
  {
   "cell_type": "code",
   "execution_count": 81,
   "metadata": {},
   "outputs": [],
   "source": [
    "from sklearn.model_selection import train_test_split"
   ]
  },
  {
   "cell_type": "code",
   "execution_count": 82,
   "metadata": {},
   "outputs": [],
   "source": [
    "X_train, X_test, y_train, y_test= train_test_split(df.vector, df.target, test_size = 0.2, random_state = 2002)"
   ]
  },
  {
   "cell_type": "code",
   "execution_count": 83,
   "metadata": {},
   "outputs": [
    {
     "data": {
      "text/plain": [
       "2697    [-1.1765132, 1.1415099, -2.7665637, -0.3490375...\n",
       "1361    [-1.8744354, 0.3488976, -1.9026514, 0.6248463,...\n",
       "8208    [-1.0711887, 2.2075603, -2.177105, -0.27865118...\n",
       "6336    [-2.3101308, 0.8244837, -2.2412467, 0.73557687...\n",
       "3141    [-2.5459235, 0.22958979, -1.977623, 0.5653404,...\n",
       "                              ...                        \n",
       "8783    [-2.3061047, 0.7681667, -2.3912818, 0.5357157,...\n",
       "9559    [-1.571258, 1.2708516, -1.5384413, 1.0068055, ...\n",
       "3853    [-1.8577826, 0.7267052, -1.84998, 0.06462319, ...\n",
       "904     [-1.8330709, -0.12084502, -0.7440435, 0.322534...\n",
       "4498    [-2.3893855, 0.18748108, -1.5239509, 0.5631270...\n",
       "Name: vector, Length: 8000, dtype: object"
      ]
     },
     "execution_count": 83,
     "metadata": {},
     "output_type": "execute_result"
    }
   ],
   "source": [
    "X_train"
   ]
  },
  {
   "attachments": {},
   "cell_type": "markdown",
   "metadata": {},
   "source": [
    "<font font size=\"6px\" color= \"Yellow\">Naive Bayes Classifier</font>"
   ]
  },
  {
   "cell_type": "code",
   "execution_count": 84,
   "metadata": {},
   "outputs": [],
   "source": [
    "from sklearn.naive_bayes import MultinomialNB"
   ]
  },
  {
   "cell_type": "code",
   "execution_count": 85,
   "metadata": {},
   "outputs": [],
   "source": [
    "clf =MultinomialNB()\n",
    "# clf.fit(X_train, y_train)\n",
    "# The above line shows the below error\n",
    "# Error -> only size-1 arrays can be converted to Python scalars\n",
    "#Here, the model is expecting 2-d np array . So, we need to convert it into 2-d array"
   ]
  },
  {
   "attachments": {
    "image.png": {
     "image/png": "[encoded data removed]"
    }
   },
   "cell_type": "markdown",
   "metadata": {},
   "source": [
    "![image.png](attachment:image.png)"
   ]
  },
  {
   "cell_type": "code",
   "execution_count": 86,
   "metadata": {},
   "outputs": [],
   "source": [
    "# make a 2-d vector using numpy stack\n",
    "import numpy as np\n",
    "X_train_2d = np.stack(X_train)\n",
    "X_test_2d = np.stack(X_test)"
   ]
  },
  {
   "cell_type": "code",
   "execution_count": 87,
   "metadata": {},
   "outputs": [
    {
     "name": "stdout",
     "output_type": "stream",
     "text": [
      "[[-1.1765132   1.1415099  -2.7665637  ... -0.64788973 -4.056596\n",
      "   1.356412  ]\n",
      " [-1.8744354   0.3488976  -1.9026514  ... -1.2027428  -1.8612745\n",
      "   0.7960992 ]\n",
      " [-1.0711887   2.2075603  -2.177105   ... -0.8006663  -2.7676604\n",
      "   1.6804557 ]\n",
      " ...\n",
      " [-1.8577826   0.7267052  -1.84998    ... -0.74556875 -2.46882\n",
      "   0.907982  ]\n",
      " [-1.8330709  -0.12084502 -0.7440435  ... -0.8367772  -1.2839777\n",
      "   0.64932126]\n",
      " [-2.3893855   0.18748108 -1.5239509  ... -1.7843059  -1.8736209\n",
      "   0.80132186]]\n"
     ]
    }
   ],
   "source": [
    "print(X_train_2d)"
   ]
  },
  {
   "attachments": {},
   "cell_type": "markdown",
   "metadata": {},
   "source": [
    "Here the negative values are present in training data. So, we need to scale it between 0 and 1 using MinMaxScalar"
   ]
  },
  {
   "cell_type": "code",
   "execution_count": 88,
   "metadata": {},
   "outputs": [],
   "source": [
    "from sklearn.preprocessing import MinMaxScaler"
   ]
  },
  {
   "cell_type": "code",
   "execution_count": 89,
   "metadata": {},
   "outputs": [],
   "source": [
    "scaler= MinMaxScaler()\n",
    "X_train_scaled = scaler.fit_transform(X_train_2d)\n",
    "X_test_scaled = scaler.fit_transform(X_test_2d)\n"
   ]
  },
  {
   "cell_type": "code",
   "execution_count": 90,
   "metadata": {},
   "outputs": [
    {
     "data": {
      "text/html": [
       "<style>#sk-container-id-2 {color: black;background-color: white;}#sk-container-id-2 pre{padding: 0;}#sk-container-id-2 div.sk-toggleable {background-color: white;}#sk-container-id-2 label.sk-toggleable__label {cursor: pointer;display: block;width: 100%;margin-bottom: 0;padding: 0.3em;box-sizing: border-box;text-align: center;}#sk-container-id-2 label.sk-toggleable__label-arrow:before {content: \"▸\";float: left;margin-right: 0.25em;color: #696969;}#sk-container-id-2 label.sk-toggleable__label-arrow:hover:before {color: black;}#sk-container-id-2 div.sk-estimator:hover label.sk-toggleable__label-arrow:before {color: black;}#sk-container-id-2 div.sk-toggleable__content {max-height: 0;max-width: 0;overflow: hidden;text-align: left;background-color: #f0f8ff;}#sk-container-id-2 div.sk-toggleable__content pre {margin: 0.2em;color: black;border-radius: 0.25em;background-color: #f0f8ff;}#sk-container-id-2 input.sk-toggleable__control:checked~div.sk-toggleable__content {max-height: 200px;max-width: 100%;overflow: auto;}#sk-container-id-2 input.sk-toggleable__control:checked~label.sk-toggleable__label-arrow:before {content: \"▾\";}#sk-container-id-2 div.sk-estimator input.sk-toggleable__control:checked~label.sk-toggleable__label {background-color: #d4ebff;}#sk-container-id-2 div.sk-label input.sk-toggleable__control:checked~label.sk-toggleable__label {background-color: #d4ebff;}#sk-container-id-2 input.sk-hidden--visually {border: 0;clip: rect(1px 1px 1px 1px);clip: rect(1px, 1px, 1px, 1px);height: 1px;margin: -1px;overflow: hidden;padding: 0;position: absolute;width: 1px;}#sk-container-id-2 div.sk-estimator {font-family: monospace;background-color: #f0f8ff;border: 1px dotted black;border-radius: 0.25em;box-sizing: border-box;margin-bottom: 0.5em;}#sk-container-id-2 div.sk-estimator:hover {background-color: #d4ebff;}#sk-container-id-2 div.sk-parallel-item::after {content: \"\";width: 100%;border-bottom: 1px solid gray;flex-grow: 1;}#sk-container-id-2 div.sk-label:hover label.sk-toggleable__label {background-color: #d4ebff;}#sk-container-id-2 div.sk-serial::before {content: \"\";position: absolute;border-left: 1px solid gray;box-sizing: border-box;top: 0;bottom: 0;left: 50%;z-index: 0;}#sk-container-id-2 div.sk-serial {display: flex;flex-direction: column;align-items: center;background-color: white;padding-right: 0.2em;padding-left: 0.2em;position: relative;}#sk-container-id-2 div.sk-item {position: relative;z-index: 1;}#sk-container-id-2 div.sk-parallel {display: flex;align-items: stretch;justify-content: center;background-color: white;position: relative;}#sk-container-id-2 div.sk-item::before, #sk-container-id-2 div.sk-parallel-item::before {content: \"\";position: absolute;border-left: 1px solid gray;box-sizing: border-box;top: 0;bottom: 0;left: 50%;z-index: -1;}#sk-container-id-2 div.sk-parallel-item {display: flex;flex-direction: column;z-index: 1;position: relative;background-color: white;}#sk-container-id-2 div.sk-parallel-item:first-child::after {align-self: flex-end;width: 50%;}#sk-container-id-2 div.sk-parallel-item:last-child::after {align-self: flex-start;width: 50%;}#sk-container-id-2 div.sk-parallel-item:only-child::after {width: 0;}#sk-container-id-2 div.sk-dashed-wrapped {border: 1px dashed gray;margin: 0 0.4em 0.5em 0.4em;box-sizing: border-box;padding-bottom: 0.4em;background-color: white;}#sk-container-id-2 div.sk-label label {font-family: monospace;font-weight: bold;display: inline-block;line-height: 1.2em;}#sk-container-id-2 div.sk-label-container {text-align: center;}#sk-container-id-2 div.sk-container {/* jupyter's `normalize.less` sets `[hidden] { display: none; }` but bootstrap.min.css set `[hidden] { display: none !important; }` so we also need the `!important` here to be able to override the default hidden behavior on the sphinx rendered scikit-learn.org. See: https://github.com/scikit-learn/scikit-learn/issues/21755 */display: inline-block !important;position: relative;}#sk-container-id-2 div.sk-text-repr-fallback {display: none;}</style><div id=\"sk-container-id-2\" class=\"sk-top-container\"><div class=\"sk-text-repr-fallback\"><pre>MultinomialNB()</pre><b>In a Jupyter environment, please rerun this cell to show the HTML representation or trust the notebook. <br />On GitHub, the HTML representation is unable to render, please try loading this page with nbviewer.org.</b></div><div class=\"sk-container\" hidden><div class=\"sk-item\"><div class=\"sk-estimator sk-toggleable\"><input class=\"sk-toggleable__control sk-hidden--visually\" id=\"sk-estimator-id-2\" type=\"checkbox\" checked><label for=\"sk-estimator-id-2\" class=\"sk-toggleable__label sk-toggleable__label-arrow\">MultinomialNB</label><div class=\"sk-toggleable__content\"><pre>MultinomialNB()</pre></div></div></div></div></div>"
      ],
      "text/plain": [
       "MultinomialNB()"
      ]
     },
     "execution_count": 90,
     "metadata": {},
     "output_type": "execute_result"
    }
   ],
   "source": [
    "clf =MultinomialNB()\n",
    "clf.fit(X_train_scaled, y_train)"
   ]
  },
  {
   "cell_type": "code",
   "execution_count": 91,
   "metadata": {},
   "outputs": [],
   "source": [
    "y_pred = clf.predict(X_test_scaled)"
   ]
  },
  {
   "attachments": {},
   "cell_type": "markdown",
   "metadata": {},
   "source": [
    "Find the accuracy of the model "
   ]
  },
  {
   "cell_type": "code",
   "execution_count": 94,
   "metadata": {},
   "outputs": [],
   "source": [
    "from sklearn.metrics import accuracy_score ,classification_report"
   ]
  },
  {
   "cell_type": "code",
   "execution_count": 97,
   "metadata": {},
   "outputs": [
    {
     "name": "stdout",
     "output_type": "stream",
     "text": [
      "              precision    recall  f1-score   support\n",
      "\n",
      "           0       0.90      0.83      0.87      1014\n",
      "           1       0.84      0.91      0.87       986\n",
      "\n",
      "    accuracy                           0.87      2000\n",
      "   macro avg       0.87      0.87      0.87      2000\n",
      "weighted avg       0.87      0.87      0.87      2000\n",
      "\n"
     ]
    },
    {
     "data": {
      "text/plain": [
       "0.8705"
      ]
     },
     "execution_count": 97,
     "metadata": {},
     "output_type": "execute_result"
    }
   ],
   "source": [
    "print(classification_report(y_test, y_pred))\n",
    "accuracy_score(y_test, y_pred)"
   ]
  },
  {
   "attachments": {},
   "cell_type": "markdown",
   "metadata": {},
   "source": [
    "<font font size=\"6px\" color= \"Yellow\">K Nearest Neighbour Classifier</font>"
   ]
  },
  {
   "cell_type": "code",
   "execution_count": 136,
   "metadata": {},
   "outputs": [],
   "source": [
    "from sklearn.neighbors import KNeighborsClassifier"
   ]
  },
  {
   "cell_type": "code",
   "execution_count": 137,
   "metadata": {},
   "outputs": [],
   "source": [
    "clf1 = KNeighborsClassifier(n_neighbors=7, metric='euclidean')\n"
   ]
  },
  {
   "cell_type": "code",
   "execution_count": 140,
   "metadata": {},
   "outputs": [
    {
     "data": {
      "text/html": [
       "<style>#sk-container-id-12 {color: black;background-color: white;}#sk-container-id-12 pre{padding: 0;}#sk-container-id-12 div.sk-toggleable {background-color: white;}#sk-container-id-12 label.sk-toggleable__label {cursor: pointer;display: block;width: 100%;margin-bottom: 0;padding: 0.3em;box-sizing: border-box;text-align: center;}#sk-container-id-12 label.sk-toggleable__label-arrow:before {content: \"▸\";float: left;margin-right: 0.25em;color: #696969;}#sk-container-id-12 label.sk-toggleable__label-arrow:hover:before {color: black;}#sk-container-id-12 div.sk-estimator:hover label.sk-toggleable__label-arrow:before {color: black;}#sk-container-id-12 div.sk-toggleable__content {max-height: 0;max-width: 0;overflow: hidden;text-align: left;background-color: #f0f8ff;}#sk-container-id-12 div.sk-toggleable__content pre {margin: 0.2em;color: black;border-radius: 0.25em;background-color: #f0f8ff;}#sk-container-id-12 input.sk-toggleable__control:checked~div.sk-toggleable__content {max-height: 200px;max-width: 100%;overflow: auto;}#sk-container-id-12 input.sk-toggleable__control:checked~label.sk-toggleable__label-arrow:before {content: \"▾\";}#sk-container-id-12 div.sk-estimator input.sk-toggleable__control:checked~label.sk-toggleable__label {background-color: #d4ebff;}#sk-container-id-12 div.sk-label input.sk-toggleable__control:checked~label.sk-toggleable__label {background-color: #d4ebff;}#sk-container-id-12 input.sk-hidden--visually {border: 0;clip: rect(1px 1px 1px 1px);clip: rect(1px, 1px, 1px, 1px);height: 1px;margin: -1px;overflow: hidden;padding: 0;position: absolute;width: 1px;}#sk-container-id-12 div.sk-estimator {font-family: monospace;background-color: #f0f8ff;border: 1px dotted black;border-radius: 0.25em;box-sizing: border-box;margin-bottom: 0.5em;}#sk-container-id-12 div.sk-estimator:hover {background-color: #d4ebff;}#sk-container-id-12 div.sk-parallel-item::after {content: \"\";width: 100%;border-bottom: 1px solid gray;flex-grow: 1;}#sk-container-id-12 div.sk-label:hover label.sk-toggleable__label {background-color: #d4ebff;}#sk-container-id-12 div.sk-serial::before {content: \"\";position: absolute;border-left: 1px solid gray;box-sizing: border-box;top: 0;bottom: 0;left: 50%;z-index: 0;}#sk-container-id-12 div.sk-serial {display: flex;flex-direction: column;align-items: center;background-color: white;padding-right: 0.2em;padding-left: 0.2em;position: relative;}#sk-container-id-12 div.sk-item {position: relative;z-index: 1;}#sk-container-id-12 div.sk-parallel {display: flex;align-items: stretch;justify-content: center;background-color: white;position: relative;}#sk-container-id-12 div.sk-item::before, #sk-container-id-12 div.sk-parallel-item::before {content: \"\";position: absolute;border-left: 1px solid gray;box-sizing: border-box;top: 0;bottom: 0;left: 50%;z-index: -1;}#sk-container-id-12 div.sk-parallel-item {display: flex;flex-direction: column;z-index: 1;position: relative;background-color: white;}#sk-container-id-12 div.sk-parallel-item:first-child::after {align-self: flex-end;width: 50%;}#sk-container-id-12 div.sk-parallel-item:last-child::after {align-self: flex-start;width: 50%;}#sk-container-id-12 div.sk-parallel-item:only-child::after {width: 0;}#sk-container-id-12 div.sk-dashed-wrapped {border: 1px dashed gray;margin: 0 0.4em 0.5em 0.4em;box-sizing: border-box;padding-bottom: 0.4em;background-color: white;}#sk-container-id-12 div.sk-label label {font-family: monospace;font-weight: bold;display: inline-block;line-height: 1.2em;}#sk-container-id-12 div.sk-label-container {text-align: center;}#sk-container-id-12 div.sk-container {/* jupyter's `normalize.less` sets `[hidden] { display: none; }` but bootstrap.min.css set `[hidden] { display: none !important; }` so we also need the `!important` here to be able to override the default hidden behavior on the sphinx rendered scikit-learn.org. See: https://github.com/scikit-learn/scikit-learn/issues/21755 */display: inline-block !important;position: relative;}#sk-container-id-12 div.sk-text-repr-fallback {display: none;}</style><div id=\"sk-container-id-12\" class=\"sk-top-container\"><div class=\"sk-text-repr-fallback\"><pre>KNeighborsClassifier(metric=&#x27;euclidean&#x27;, n_neighbors=7)</pre><b>In a Jupyter environment, please rerun this cell to show the HTML representation or trust the notebook. <br />On GitHub, the HTML representation is unable to render, please try loading this page with nbviewer.org.</b></div><div class=\"sk-container\" hidden><div class=\"sk-item\"><div class=\"sk-estimator sk-toggleable\"><input class=\"sk-toggleable__control sk-hidden--visually\" id=\"sk-estimator-id-12\" type=\"checkbox\" checked><label for=\"sk-estimator-id-12\" class=\"sk-toggleable__label sk-toggleable__label-arrow\">KNeighborsClassifier</label><div class=\"sk-toggleable__content\"><pre>KNeighborsClassifier(metric=&#x27;euclidean&#x27;, n_neighbors=7)</pre></div></div></div></div></div>"
      ],
      "text/plain": [
       "KNeighborsClassifier(metric='euclidean', n_neighbors=7)"
      ]
     },
     "execution_count": 140,
     "metadata": {},
     "output_type": "execute_result"
    }
   ],
   "source": [
    "clf1.fit(X_train_2d, y_train)"
   ]
  },
  {
   "cell_type": "code",
   "execution_count": 142,
   "metadata": {},
   "outputs": [],
   "source": [
    "y_pred1 = clf1.predict(X_test_2d)"
   ]
  },
  {
   "cell_type": "code",
   "execution_count": 143,
   "metadata": {},
   "outputs": [
    {
     "name": "stdout",
     "output_type": "stream",
     "text": [
      "              precision    recall  f1-score   support\n",
      "\n",
      "           0       0.95      0.94      0.94      1014\n",
      "           1       0.94      0.95      0.94       986\n",
      "\n",
      "    accuracy                           0.94      2000\n",
      "   macro avg       0.94      0.94      0.94      2000\n",
      "weighted avg       0.94      0.94      0.94      2000\n",
      "\n"
     ]
    },
    {
     "data": {
      "text/plain": [
       "0.942"
      ]
     },
     "execution_count": 143,
     "metadata": {},
     "output_type": "execute_result"
    }
   ],
   "source": [
    "print(classification_report(y_test, y_pred))\n",
    "accuracy_score(y_test, y_pred)"
   ]
  },
  {
   "attachments": {},
   "cell_type": "markdown",
   "metadata": {},
   "source": [
    "Here the KNN is doing great job because we have only 300 dimention vector, where in the other nlp model like bag_of_word, n_gram etc we have thousands of dimention vector.\n"
   ]
  }
 ],
 "metadata": {
  "kernelspec": {
   "display_name": "Python 3",
   "language": "python",
   "name": "python3"
  },
  "language_info": {
   "codemirror_mode": {
    "name": "ipython",
    "version": 3
   },
   "file_extension": ".py",
   "mimetype": "text/x-python",
   "name": "python",
   "nbconvert_exporter": "python",
   "pygments_lexer": "ipython3",
   "version": "3.9.6"
  },
  "orig_nbformat": 4
 },
 "nbformat": 4,
 "nbformat_minor": 2
}
