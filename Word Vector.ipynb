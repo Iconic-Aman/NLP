{
 "cells": [
  {
   "cell_type": "code",
   "execution_count": 2,
   "metadata": {},
   "outputs": [],
   "source": [
    "import pandas as pd"
   ]
  },
  {
   "cell_type": "code",
   "execution_count": 3,
   "metadata": {},
   "outputs": [],
   "source": [
    "import spacy "
   ]
  },
  {
   "cell_type": "code",
   "execution_count": 16,
   "metadata": {},
   "outputs": [],
   "source": [
    "nlp = spacy.load(\"en_core_web_lg\")"
   ]
  },
  {
   "cell_type": "code",
   "execution_count": 45,
   "metadata": {},
   "outputs": [],
   "source": [
    "doc = nlp(\"dog cat banana animal , car human ;\")"
   ]
  },
  {
   "cell_type": "code",
   "execution_count": 46,
   "metadata": {},
   "outputs": [
    {
     "name": "stdout",
     "output_type": "stream",
     "text": [
      "dog True False\n",
      "cat True False\n",
      "banana True False\n",
      "animal True False\n",
      ", True False\n",
      "car True False\n",
      "human True False\n",
      "; True False\n"
     ]
    }
   ],
   "source": [
    "for token in doc:\n",
    "    print(token.text, token.has_vector, token.is_oov) #\n",
    "#is_oov -> out of vocubolary \n",
    "#has_vector -> vector of this word is present or not"
   ]
  },
  {
   "cell_type": "code",
   "execution_count": 47,
   "metadata": {},
   "outputs": [
    {
     "data": {
      "text/plain": [
       "(300,)"
      ]
     },
     "execution_count": 47,
     "metadata": {},
     "output_type": "execute_result"
    }
   ],
   "source": [
    "doc.vector.shape"
   ]
  },
  {
   "cell_type": "code",
   "execution_count": 48,
   "metadata": {},
   "outputs": [],
   "source": [
    "#take a base token and compare it with a sentence \n",
    "base_token = nlp(\"cat\")"
   ]
  },
  {
   "cell_type": "code",
   "execution_count": 49,
   "metadata": {},
   "outputs": [
    {
     "name": "stdout",
     "output_type": "stream",
     "text": [
      "cat <-> dog 0.8220816537284278 \n",
      "cat <-> cat 1.0 \n",
      "cat <-> banana 0.22358826662587866 \n",
      "cat <-> animal 0.502460730293373 \n",
      "cat <-> , -0.0753596061763003 \n",
      "cat <-> car 0.19698592505078777 \n",
      "cat <-> human 0.13821250200312798 \n",
      "cat <-> ; -0.17012982309751204 \n"
     ]
    }
   ],
   "source": [
    "for token in doc:\n",
    "    print(f\"{base_token} <-> {token} {base_token.similarity(token)} \")"
   ]
  },
  {
   "attachments": {},
   "cell_type": "markdown",
   "metadata": {},
   "source": [
    "##### make a function which can compare the similarity between a word and sentence"
   ]
  },
  {
   "cell_type": "code",
   "execution_count": 51,
   "metadata": {},
   "outputs": [],
   "source": [
    "def similarity(word, sentence):\n",
    "        base_token = nlp(word)\n",
    "        doc = nlp(sentence)\n",
    "        for token in doc:\n",
    "            print(f\"{base_token} <-> {token} {token.similarity(base_token)} \")\n"
   ]
  },
  {
   "cell_type": "code",
   "execution_count": 53,
   "metadata": {},
   "outputs": [
    {
     "name": "stdout",
     "output_type": "stream",
     "text": [
      "iphone <-> apple 0.4387907748060368 \n",
      "iphone <-> dog 0.08211864228011527 \n",
      "iphone <-> samsung 0.670859081425417 \n",
      "iphone <-> mobile 0.5803360612987323 \n",
      "iphone <-> laptop 0.6639642225896586 \n",
      "iphone <-> human 0.009960268105890685 \n"
     ]
    }
   ],
   "source": [
    "word1 = 'iphone'\n",
    "sent1 = 'apple dog samsung mobile laptop human'\n",
    "similarity(word1, sent1)"
   ]
  },
  {
   "attachments": {},
   "cell_type": "markdown",
   "metadata": {},
   "source": [
    "<font font size = '4px' color = 'aqua'>***This similarity is based on the spacy model which is made by using the context from internet. So, you might be wondered after seeing these similarity scores.***</font>"
   ]
  },
  {
   "cell_type": "code",
   "execution_count": 62,
   "metadata": {},
   "outputs": [
    {
     "name": "stdout",
     "output_type": "stream",
     "text": [
      "<spacy.vocab.Vocab object at 0x0000027AB49B2B80>\n"
     ]
    }
   ],
   "source": []
  },
  {
   "cell_type": "code",
   "execution_count": null,
   "metadata": {},
   "outputs": [],
   "source": []
  }
 ],
 "metadata": {
  "kernelspec": {
   "display_name": "Python 3",
   "language": "python",
   "name": "python3"
  },
  "language_info": {
   "codemirror_mode": {
    "name": "ipython",
    "version": 3
   },
   "file_extension": ".py",
   "mimetype": "text/x-python",
   "name": "python",
   "nbconvert_exporter": "python",
   "pygments_lexer": "ipython3",
   "version": "3.9.6"
  },
  "orig_nbformat": 4
 },
 "nbformat": 4,
 "nbformat_minor": 2
}
