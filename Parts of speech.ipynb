{
 "cells": [
  {
   "cell_type": "code",
   "execution_count": 20,
   "metadata": {},
   "outputs": [],
   "source": [
    "import spacy\n",
    "nlp = spacy.load(\"en_core_web_sm\")"
   ]
  },
  {
   "cell_type": "code",
   "execution_count": 21,
   "metadata": {},
   "outputs": [],
   "source": [
    "doc = nlp(\"Aman and Elon flew to mars yesterday. He carried a water bottle with him.\")"
   ]
  },
  {
   "cell_type": "code",
   "execution_count": 22,
   "metadata": {},
   "outputs": [
    {
     "name": "stdout",
     "output_type": "stream",
     "text": [
      "Aman | NOUN | noun | noun, singular or mass\n",
      "and | CCONJ | coordinating conjunction | conjunction, coordinating\n",
      "Elon | PROPN | proper noun | noun, proper singular\n",
      "flew | VERB | verb | verb, past tense\n",
      "to | ADP | adposition | conjunction, subordinating or preposition\n",
      "mars | NOUN | noun | noun, plural\n",
      "yesterday | NOUN | noun | noun, singular or mass\n",
      ". | PUNCT | punctuation | punctuation mark, sentence closer\n",
      "He | PRON | pronoun | pronoun, personal\n",
      "carried | VERB | verb | verb, past tense\n",
      "a | DET | determiner | determiner\n",
      "water | NOUN | noun | noun, singular or mass\n",
      "bottle | NOUN | noun | noun, singular or mass\n",
      "with | ADP | adposition | conjunction, subordinating or preposition\n",
      "him | PRON | pronoun | pronoun, personal\n",
      ". | PUNCT | punctuation | punctuation mark, sentence closer\n"
     ]
    }
   ],
   "source": [
    "for token in doc:\n",
    "    print(token, \"|\", token.pos_,\"|\", spacy.explain(token.pos_) , \"|\", spacy.explain(token.tag_))"
   ]
  },
  {
   "attachments": {},
   "cell_type": "markdown",
   "metadata": {},
   "source": [
    "**how to remove unnessary character**"
   ]
  },
  {
   "cell_type": "code",
   "execution_count": 23,
   "metadata": {},
   "outputs": [],
   "source": [
    "text = ('Hey!, i am gonna join \"google\". if u wanna also join then do focus on some stuff like consistency, hardwork and patience etc. ')\n",
    "doc = nlp(text)"
   ]
  },
  {
   "cell_type": "code",
   "execution_count": 24,
   "metadata": {},
   "outputs": [
    {
     "name": "stdout",
     "output_type": "stream",
     "text": [
      "Hey | INTJ | interjection\n",
      "! | PROPN | proper noun\n",
      ", | PUNCT | punctuation\n",
      "i | PRON | pronoun\n",
      "am | AUX | auxiliary\n",
      "gon | VERB | verb\n",
      "na | PART | particle\n",
      "join | VERB | verb\n",
      "\" | PUNCT | punctuation\n",
      "google | PROPN | proper noun\n",
      "\" | PUNCT | punctuation\n",
      ". | PUNCT | punctuation\n",
      "if | SCONJ | subordinating conjunction\n",
      "u | PRON | pronoun\n",
      "wanna | NOUN | noun\n",
      "also | ADV | adverb\n",
      "join | VERB | verb\n",
      "then | ADV | adverb\n",
      "do | AUX | auxiliary\n",
      "focus | VERB | verb\n",
      "on | ADP | adposition\n",
      "some | DET | determiner\n",
      "stuff | NOUN | noun\n",
      "like | ADP | adposition\n",
      "consistency | NOUN | noun\n",
      ", | PUNCT | punctuation\n",
      "hardwork | NOUN | noun\n",
      "and | CCONJ | coordinating conjunction\n",
      "patience | NOUN | noun\n",
      "etc | X | other\n",
      ". | PUNCT | punctuation\n"
     ]
    }
   ],
   "source": [
    "for token in doc:\n",
    "    print(token, \"|\", token.pos_, \"|\", spacy.explain(token.pos_))"
   ]
  },
  {
   "cell_type": "code",
   "execution_count": 29,
   "metadata": {},
   "outputs": [],
   "source": [
    "filter_tokens = []\n",
    "for token in doc:\n",
    "    if token.pos_ not in [\"X\", \"PUNCT\"]:\n",
    "        filter_tokens.append(token)"
   ]
  },
  {
   "cell_type": "code",
   "execution_count": 34,
   "metadata": {},
   "outputs": [
    {
     "data": {
      "text/plain": [
       "[Hey,\n",
       " !,\n",
       " i,\n",
       " am,\n",
       " gon,\n",
       " na,\n",
       " join,\n",
       " google,\n",
       " if,\n",
       " u,\n",
       " wanna,\n",
       " also,\n",
       " join,\n",
       " then,\n",
       " do,\n",
       " focus,\n",
       " on,\n",
       " some,\n",
       " stuff,\n",
       " like]"
      ]
     },
     "execution_count": 34,
     "metadata": {},
     "output_type": "execute_result"
    }
   ],
   "source": [
    "filter_tokens[:20]"
   ]
  },
  {
   "attachments": {},
   "cell_type": "markdown",
   "metadata": {},
   "source": [
    "**how to count of a single type of pos**"
   ]
  },
  {
   "cell_type": "code",
   "execution_count": 35,
   "metadata": {},
   "outputs": [
    {
     "data": {
      "text/plain": [
       "{91: 1,\n",
       " 96: 2,\n",
       " 97: 6,\n",
       " 95: 2,\n",
       " 87: 2,\n",
       " 100: 4,\n",
       " 94: 1,\n",
       " 98: 1,\n",
       " 92: 5,\n",
       " 86: 2,\n",
       " 85: 2,\n",
       " 90: 1,\n",
       " 89: 1,\n",
       " 101: 1}"
      ]
     },
     "execution_count": 35,
     "metadata": {},
     "output_type": "execute_result"
    }
   ],
   "source": [
    "cnt = doc.count_by(spacy.attrs.POS)\n",
    "cnt"
   ]
  },
  {
   "cell_type": "code",
   "execution_count": 40,
   "metadata": {},
   "outputs": [
    {
     "name": "stdout",
     "output_type": "stream",
     "text": [
      "INTJ | 1\n",
      "PROPN | 2\n",
      "PUNCT | 6\n",
      "PRON | 2\n",
      "AUX | 2\n",
      "VERB | 4\n",
      "PART | 1\n",
      "SCONJ | 1\n",
      "NOUN | 5\n",
      "ADV | 2\n",
      "ADP | 2\n",
      "DET | 1\n",
      "CCONJ | 1\n",
      "X | 1\n"
     ]
    }
   ],
   "source": [
    "for i,j in cnt.items():\n",
    "    print(doc.vocab[i].text, \"|\", j)"
   ]
  }
 ],
 "metadata": {
  "kernelspec": {
   "display_name": "Python 3",
   "language": "python",
   "name": "python3"
  },
  "language_info": {
   "codemirror_mode": {
    "name": "ipython",
    "version": 3
   },
   "file_extension": ".py",
   "mimetype": "text/x-python",
   "name": "python",
   "nbconvert_exporter": "python",
   "pygments_lexer": "ipython3",
   "version": "3.9.6"
  },
  "orig_nbformat": 4
 },
 "nbformat": 4,
 "nbformat_minor": 2
}
