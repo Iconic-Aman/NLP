{
 "cells": [
  {
   "attachments": {},
   "cell_type": "markdown",
   "metadata": {},
   "source": [
    "## News classification using Gensim word vectors"
   ]
  },
  {
   "cell_type": "code",
   "execution_count": 1,
   "metadata": {},
   "outputs": [],
   "source": [
    "import gensim.downloader as  api"
   ]
  },
  {
   "cell_type": "code",
   "execution_count": 2,
   "metadata": {},
   "outputs": [],
   "source": [
    "wv = api.load('word2vec-google-news-300')"
   ]
  },
  {
   "cell_type": "code",
   "execution_count": 3,
   "metadata": {},
   "outputs": [
    {
     "data": {
      "text/plain": [
       "array([ 0.04052734,  0.0625    , -0.01745605,  0.07861328,  0.03271484,\n",
       "       -0.01263428,  0.00964355,  0.12353516, -0.02148438,  0.15234375,\n",
       "       -0.05834961, -0.10644531,  0.02124023,  0.13574219, -0.13183594,\n",
       "        0.17675781,  0.27148438,  0.13769531, -0.17382812, -0.14160156,\n",
       "       -0.03076172,  0.19628906, -0.03295898,  0.125     ,  0.25390625,\n",
       "        0.12695312, -0.15234375,  0.03198242,  0.01135254, -0.01361084,\n",
       "       -0.12890625,  0.01019287,  0.23925781, -0.08447266,  0.140625  ,\n",
       "        0.13085938, -0.04516602,  0.06494141,  0.02539062,  0.05615234,\n",
       "        0.24609375, -0.20507812,  0.23632812, -0.00860596, -0.02294922,\n",
       "        0.05078125,  0.10644531, -0.03564453,  0.08740234, -0.05712891,\n",
       "        0.08496094,  0.23535156, -0.10107422, -0.03564453, -0.04736328,\n",
       "        0.04736328, -0.14550781, -0.10986328,  0.14746094, -0.23242188,\n",
       "       -0.07275391,  0.19628906, -0.37890625, -0.07226562,  0.04833984,\n",
       "        0.11914062,  0.06103516, -0.12109375, -0.27929688,  0.05200195,\n",
       "        0.04907227, -0.02709961,  0.1328125 ,  0.03369141, -0.32226562,\n",
       "        0.04223633, -0.08789062,  0.15429688,  0.09472656,  0.10351562,\n",
       "       -0.02856445,  0.00128174, -0.00427246,  0.24609375, -0.05957031,\n",
       "       -0.16894531, -0.09619141,  0.16796875,  0.0133667 ,  0.04882812,\n",
       "        0.08349609,  0.06347656, -0.00872803, -0.08642578, -0.03857422,\n",
       "       -0.08251953,  0.15722656,  0.22753906, -0.00762939, -0.19921875,\n",
       "       -0.06347656,  0.12792969, -0.06347656, -0.03027344,  0.0456543 ,\n",
       "        0.06298828, -0.02526855, -0.06787109, -0.01141357, -0.13574219,\n",
       "        0.02978516,  0.10400391, -0.15917969, -0.08447266,  0.29882812,\n",
       "       -0.12597656,  0.11425781, -0.08105469, -0.09082031, -0.07910156,\n",
       "       -0.11181641, -0.09619141,  0.02770996,  0.14257812, -0.26757812,\n",
       "       -0.09375   ,  0.03979492, -0.17871094, -0.02819824,  0.01464844,\n",
       "       -0.31640625, -0.24511719, -0.08935547,  0.09716797, -0.00964355,\n",
       "       -0.14746094,  0.15234375,  0.21582031,  0.05981445,  0.23828125,\n",
       "       -0.05151367,  0.14941406,  0.13574219, -0.03222656, -0.265625  ,\n",
       "       -0.11181641, -0.23046875, -0.140625  ,  0.25585938, -0.15429688,\n",
       "        0.1796875 ,  0.15527344, -0.21582031,  0.36328125, -0.1015625 ,\n",
       "        0.04980469,  0.07177734, -0.14550781, -0.03198242,  0.00952148,\n",
       "       -0.12109375,  0.12109375,  0.09765625,  0.07763672,  0.3203125 ,\n",
       "       -0.22265625, -0.08447266, -0.10742188,  0.11279297, -0.13867188,\n",
       "       -0.21875   ,  0.0145874 ,  0.13378906, -0.00921631,  0.00921631,\n",
       "        0.16894531,  0.16894531, -0.078125  , -0.00665283,  0.03735352,\n",
       "       -0.10888672, -0.25390625,  0.01452637, -0.09716797, -0.19628906,\n",
       "       -0.01782227, -0.28125   , -0.02050781, -0.02905273, -0.09375   ,\n",
       "       -0.17675781,  0.21484375, -0.05224609, -0.11572266, -0.01977539,\n",
       "       -0.10839844, -0.01342773, -0.15332031, -0.140625  , -0.11816406,\n",
       "        0.09228516,  0.109375  ,  0.05761719, -0.03466797,  0.03564453,\n",
       "       -0.12011719, -0.14257812, -0.00072479, -0.06689453,  0.11914062,\n",
       "       -0.10449219,  0.07861328, -0.12792969,  0.09570312, -0.00817871,\n",
       "        0.07128906,  0.20703125, -0.03149414,  0.09570312,  0.17285156,\n",
       "       -0.07958984, -0.02429199, -0.07519531, -0.07568359,  0.09521484,\n",
       "       -0.06494141, -0.00689697, -0.09033203,  0.03100586,  0.19921875,\n",
       "       -0.10644531, -0.11474609,  0.18652344, -0.05078125,  0.0859375 ,\n",
       "        0.00128937, -0.18847656, -0.20019531, -0.02832031,  0.11328125,\n",
       "        0.25976562,  0.22070312,  0.04101562,  0.00171661,  0.07568359,\n",
       "       -0.01196289,  0.0177002 , -0.05883789, -0.25976562, -0.234375  ,\n",
       "       -0.04956055,  0.25976562,  0.15332031,  0.15136719,  0.08300781,\n",
       "       -0.15527344,  0.04931641,  0.07519531, -0.05078125, -0.1328125 ,\n",
       "       -0.13574219,  0.04199219, -0.14257812,  0.02099609,  0.07861328,\n",
       "        0.01611328,  0.01623535, -0.21582031,  0.01599121, -0.04882812,\n",
       "       -0.02404785,  0.13476562,  0.08496094, -0.01196289,  0.10009766,\n",
       "       -0.13867188,  0.08056641, -0.22070312, -0.12011719,  0.18945312,\n",
       "        0.05444336, -0.05053711,  0.00147247,  0.14160156, -0.06494141,\n",
       "       -0.05566406, -0.09033203, -0.0267334 , -0.10498047,  0.02416992,\n",
       "        0.01422119,  0.1875    , -0.16503906,  0.01538086, -0.04174805,\n",
       "        0.05444336, -0.01184082, -0.15625   ,  0.00193024, -0.06982422],\n",
       "      dtype=float32)"
      ]
     },
     "execution_count": 3,
     "metadata": {},
     "output_type": "execute_result"
    }
   ],
   "source": [
    "wv.similarity(w1=\"man\", w2=\"dog\")\n",
    "w1 =wv[\"good\"]\n",
    "w1"
   ]
  },
  {
   "cell_type": "code",
   "execution_count": 4,
   "metadata": {},
   "outputs": [],
   "source": [
    "import pandas as pd"
   ]
  },
  {
   "cell_type": "code",
   "execution_count": 6,
   "metadata": {},
   "outputs": [],
   "source": [
    "df = pd.read_csv('D:/ML Coding Ninza/Coding/Dataset/news.csv')"
   ]
  },
  {
   "cell_type": "code",
   "execution_count": 7,
   "metadata": {},
   "outputs": [
    {
     "name": "stdout",
     "output_type": "stream",
     "text": [
      "(6335, 4)\n"
     ]
    },
    {
     "data": {
      "text/html": [
       "<div>\n",
       "<style scoped>\n",
       "    .dataframe tbody tr th:only-of-type {\n",
       "        vertical-align: middle;\n",
       "    }\n",
       "\n",
       "    .dataframe tbody tr th {\n",
       "        vertical-align: top;\n",
       "    }\n",
       "\n",
       "    .dataframe thead th {\n",
       "        text-align: right;\n",
       "    }\n",
       "</style>\n",
       "<table border=\"1\" class=\"dataframe\">\n",
       "  <thead>\n",
       "    <tr style=\"text-align: right;\">\n",
       "      <th></th>\n",
       "      <th>Unnamed: 0</th>\n",
       "      <th>title</th>\n",
       "      <th>text</th>\n",
       "      <th>label</th>\n",
       "    </tr>\n",
       "  </thead>\n",
       "  <tbody>\n",
       "    <tr>\n",
       "      <th>0</th>\n",
       "      <td>8476</td>\n",
       "      <td>You Can Smell Hillary’s Fear</td>\n",
       "      <td>Daniel Greenfield, a Shillman Journalism Fello...</td>\n",
       "      <td>FAKE</td>\n",
       "    </tr>\n",
       "    <tr>\n",
       "      <th>1</th>\n",
       "      <td>10294</td>\n",
       "      <td>Watch The Exact Moment Paul Ryan Committed Pol...</td>\n",
       "      <td>Google Pinterest Digg Linkedin Reddit Stumbleu...</td>\n",
       "      <td>FAKE</td>\n",
       "    </tr>\n",
       "    <tr>\n",
       "      <th>2</th>\n",
       "      <td>3608</td>\n",
       "      <td>Kerry to go to Paris in gesture of sympathy</td>\n",
       "      <td>U.S. Secretary of State John F. Kerry said Mon...</td>\n",
       "      <td>REAL</td>\n",
       "    </tr>\n",
       "    <tr>\n",
       "      <th>3</th>\n",
       "      <td>10142</td>\n",
       "      <td>Bernie supporters on Twitter erupt in anger ag...</td>\n",
       "      <td>— Kaydee King (@KaydeeKing) November 9, 2016 T...</td>\n",
       "      <td>FAKE</td>\n",
       "    </tr>\n",
       "    <tr>\n",
       "      <th>4</th>\n",
       "      <td>875</td>\n",
       "      <td>The Battle of New York: Why This Primary Matters</td>\n",
       "      <td>It's primary day in New York and front-runners...</td>\n",
       "      <td>REAL</td>\n",
       "    </tr>\n",
       "  </tbody>\n",
       "</table>\n",
       "</div>"
      ],
      "text/plain": [
       "   Unnamed: 0                                              title  \\\n",
       "0        8476                       You Can Smell Hillary’s Fear   \n",
       "1       10294  Watch The Exact Moment Paul Ryan Committed Pol...   \n",
       "2        3608        Kerry to go to Paris in gesture of sympathy   \n",
       "3       10142  Bernie supporters on Twitter erupt in anger ag...   \n",
       "4         875   The Battle of New York: Why This Primary Matters   \n",
       "\n",
       "                                                text label  \n",
       "0  Daniel Greenfield, a Shillman Journalism Fello...  FAKE  \n",
       "1  Google Pinterest Digg Linkedin Reddit Stumbleu...  FAKE  \n",
       "2  U.S. Secretary of State John F. Kerry said Mon...  REAL  \n",
       "3  — Kaydee King (@KaydeeKing) November 9, 2016 T...  FAKE  \n",
       "4  It's primary day in New York and front-runners...  REAL  "
      ]
     },
     "execution_count": 7,
     "metadata": {},
     "output_type": "execute_result"
    }
   ],
   "source": [
    "print(df.shape)\n",
    "df.head()"
   ]
  },
  {
   "cell_type": "code",
   "execution_count": 8,
   "metadata": {},
   "outputs": [
    {
     "name": "stdout",
     "output_type": "stream",
     "text": [
      "It's primary day in New York and front-runners Hillary Clinton and Donald Trump are leading in the polls.\n",
      "\n",
      "Trump is now vowing to win enough delegates to clinch the Republican nomination and prevent a contested convention. But Sens.Ted Cruz, R-Texas, Bernie Sanders, D-Vt., and Ohio Gov. John Kasich and aren't giving up just yet.\n",
      "\n",
      "A big win in New York could tip the scales for both the Republican and Democratic front-runners in this year's race for the White House. Clinton and Trump have each suffered losses in recent contests, shifting the momentum to their rivals.\n",
      "\n",
      "\"We have won eight out of the last nine caucuses and primaries! Cheer!\" Sanders recently told supporters.\n",
      "\n",
      "While wins in New York for Trump and Clinton are expected, the margins of those victories are also important.\n",
      "\n",
      "Trump needs to capture more than 50 percent of the vote statewide if he wants to be positioned to win all of the state's 95 GOP delegates. That would put him one step closer to avoiding a contested convention.\n",
      "\n",
      "\"We've got to vote and you know Cruz is way, way down in the polls,\" Trump urged supporters.\n",
      "\n",
      "Meanwhile, Sanders is hoping for a close race in the Empire State. A loss by 10 points means he'll need to win 80 percent of the remaining delegates to clinch the nomination.\n",
      "\n",
      "Despite a predicted loss in New York, Cruz hasn't lost momentum. He's hoping to sweep up more delegates this weekend while he's talking about how he can win in November.\n",
      "\n",
      "\"Because if I'm the nominee, we win the General Election,\" Cruz promised his supporters. \"We're beating Hillary in the key swing states, we're beating Hillary with Independents, we're beating Hillary with young people.\"\n",
      "\n",
      "For now, Cruz, Kasich, and Sanders have all moved on from New York to other states. Trump and Clinton are the only two staying in their home state to watch the results come in.\n"
     ]
    },
    {
     "data": {
      "text/plain": [
       "REAL    3171\n",
       "FAKE    3164\n",
       "Name: label, dtype: int64"
      ]
     },
     "execution_count": 8,
     "metadata": {},
     "output_type": "execute_result"
    }
   ],
   "source": [
    "print(df.text[4])\n",
    "df.label.value_counts()"
   ]
  },
  {
   "cell_type": "code",
   "execution_count": 9,
   "metadata": {},
   "outputs": [
    {
     "data": {
      "text/html": [
       "<div>\n",
       "<style scoped>\n",
       "    .dataframe tbody tr th:only-of-type {\n",
       "        vertical-align: middle;\n",
       "    }\n",
       "\n",
       "    .dataframe tbody tr th {\n",
       "        vertical-align: top;\n",
       "    }\n",
       "\n",
       "    .dataframe thead th {\n",
       "        text-align: right;\n",
       "    }\n",
       "</style>\n",
       "<table border=\"1\" class=\"dataframe\">\n",
       "  <thead>\n",
       "    <tr style=\"text-align: right;\">\n",
       "      <th></th>\n",
       "      <th>text</th>\n",
       "      <th>label</th>\n",
       "    </tr>\n",
       "  </thead>\n",
       "  <tbody>\n",
       "    <tr>\n",
       "      <th>0</th>\n",
       "      <td>Daniel Greenfield, a Shillman Journalism Fello...</td>\n",
       "      <td>FAKE</td>\n",
       "    </tr>\n",
       "    <tr>\n",
       "      <th>1</th>\n",
       "      <td>Google Pinterest Digg Linkedin Reddit Stumbleu...</td>\n",
       "      <td>FAKE</td>\n",
       "    </tr>\n",
       "    <tr>\n",
       "      <th>2</th>\n",
       "      <td>U.S. Secretary of State John F. Kerry said Mon...</td>\n",
       "      <td>REAL</td>\n",
       "    </tr>\n",
       "    <tr>\n",
       "      <th>3</th>\n",
       "      <td>— Kaydee King (@KaydeeKing) November 9, 2016 T...</td>\n",
       "      <td>FAKE</td>\n",
       "    </tr>\n",
       "    <tr>\n",
       "      <th>4</th>\n",
       "      <td>It's primary day in New York and front-runners...</td>\n",
       "      <td>REAL</td>\n",
       "    </tr>\n",
       "  </tbody>\n",
       "</table>\n",
       "</div>"
      ],
      "text/plain": [
       "                                                text label\n",
       "0  Daniel Greenfield, a Shillman Journalism Fello...  FAKE\n",
       "1  Google Pinterest Digg Linkedin Reddit Stumbleu...  FAKE\n",
       "2  U.S. Secretary of State John F. Kerry said Mon...  REAL\n",
       "3  — Kaydee King (@KaydeeKing) November 9, 2016 T...  FAKE\n",
       "4  It's primary day in New York and front-runners...  REAL"
      ]
     },
     "execution_count": 9,
     "metadata": {},
     "output_type": "execute_result"
    }
   ],
   "source": [
    "df.drop(df.columns[0:2], inplace=True, axis=1)\n",
    "df.head()"
   ]
  },
  {
   "cell_type": "code",
   "execution_count": 10,
   "metadata": {},
   "outputs": [
    {
     "data": {
      "text/html": [
       "<div>\n",
       "<style scoped>\n",
       "    .dataframe tbody tr th:only-of-type {\n",
       "        vertical-align: middle;\n",
       "    }\n",
       "\n",
       "    .dataframe tbody tr th {\n",
       "        vertical-align: top;\n",
       "    }\n",
       "\n",
       "    .dataframe thead th {\n",
       "        text-align: right;\n",
       "    }\n",
       "</style>\n",
       "<table border=\"1\" class=\"dataframe\">\n",
       "  <thead>\n",
       "    <tr style=\"text-align: right;\">\n",
       "      <th></th>\n",
       "      <th>text</th>\n",
       "      <th>label</th>\n",
       "      <th>target</th>\n",
       "    </tr>\n",
       "  </thead>\n",
       "  <tbody>\n",
       "    <tr>\n",
       "      <th>0</th>\n",
       "      <td>Daniel Greenfield, a Shillman Journalism Fello...</td>\n",
       "      <td>FAKE</td>\n",
       "      <td>0</td>\n",
       "    </tr>\n",
       "    <tr>\n",
       "      <th>1</th>\n",
       "      <td>Google Pinterest Digg Linkedin Reddit Stumbleu...</td>\n",
       "      <td>FAKE</td>\n",
       "      <td>0</td>\n",
       "    </tr>\n",
       "    <tr>\n",
       "      <th>2</th>\n",
       "      <td>U.S. Secretary of State John F. Kerry said Mon...</td>\n",
       "      <td>REAL</td>\n",
       "      <td>1</td>\n",
       "    </tr>\n",
       "    <tr>\n",
       "      <th>3</th>\n",
       "      <td>— Kaydee King (@KaydeeKing) November 9, 2016 T...</td>\n",
       "      <td>FAKE</td>\n",
       "      <td>0</td>\n",
       "    </tr>\n",
       "    <tr>\n",
       "      <th>4</th>\n",
       "      <td>It's primary day in New York and front-runners...</td>\n",
       "      <td>REAL</td>\n",
       "      <td>1</td>\n",
       "    </tr>\n",
       "  </tbody>\n",
       "</table>\n",
       "</div>"
      ],
      "text/plain": [
       "                                                text label  target\n",
       "0  Daniel Greenfield, a Shillman Journalism Fello...  FAKE       0\n",
       "1  Google Pinterest Digg Linkedin Reddit Stumbleu...  FAKE       0\n",
       "2  U.S. Secretary of State John F. Kerry said Mon...  REAL       1\n",
       "3  — Kaydee King (@KaydeeKing) November 9, 2016 T...  FAKE       0\n",
       "4  It's primary day in New York and front-runners...  REAL       1"
      ]
     },
     "execution_count": 10,
     "metadata": {},
     "output_type": "execute_result"
    }
   ],
   "source": [
    "df['target'] = df['label'].map({\n",
    "    'FAKE': 0, \n",
    "    'REAL': 1\n",
    "})\n",
    "df.head()"
   ]
  },
  {
   "cell_type": "code",
   "execution_count": 12,
   "metadata": {},
   "outputs": [
    {
     "data": {
      "text/plain": [
       "[('cats', 0.8099379539489746),\n",
       " ('dog', 0.760945737361908),\n",
       " ('kitten', 0.7464985251426697),\n",
       " ('feline', 0.7326234579086304),\n",
       " ('beagle', 0.7150582671165466),\n",
       " ('puppy', 0.7075453400611877),\n",
       " ('pup', 0.6934291124343872),\n",
       " ('pet', 0.6891531348228455),\n",
       " ('felines', 0.6755931973457336),\n",
       " ('chihuahua', 0.6709762215614319)]"
      ]
     },
     "execution_count": 12,
     "metadata": {},
     "output_type": "execute_result"
    }
   ],
   "source": [
    "wv.most_similar('cat')"
   ]
  },
  {
   "attachments": {},
   "cell_type": "markdown",
   "metadata": {},
   "source": [
    "### preprocessing"
   ]
  },
  {
   "cell_type": "code",
   "execution_count": 13,
   "metadata": {},
   "outputs": [],
   "source": [
    "import spacy \n",
    "nlp = spacy.load('en_core_web_lg')"
   ]
  },
  {
   "cell_type": "code",
   "execution_count": 62,
   "metadata": {},
   "outputs": [],
   "source": [
    "def preprocess_and_vectorize(text):\n",
    "    filtered_token = []\n",
    "    doc = nlp(text)\n",
    "    for token in doc:\n",
    "        if not token.is_stop and not token.is_punct:\n",
    "            filtered_token.append(token.lemma_)\n",
    "    \n",
    "    # for word in filtered_token:\n",
    "        # vector.append(wv['word'])\n",
    "    \n",
    "    \n",
    "    return wv.get_mean_vector(filtered_token)\n"
   ]
  },
  {
   "cell_type": "code",
   "execution_count": 63,
   "metadata": {},
   "outputs": [
    {
     "data": {
      "text/plain": [
       "(300,)"
      ]
     },
     "execution_count": 63,
     "metadata": {},
     "output_type": "execute_result"
    }
   ],
   "source": [
    "preprocess_and_vectorize(\"i am going for a walked. Do you care to join me\").shape\n"
   ]
  },
  {
   "cell_type": "code",
   "execution_count": 64,
   "metadata": {},
   "outputs": [
    {
     "data": {
      "text/plain": [
       "array([ 0.03179932,  0.09088135, -0.2290039 ], dtype=float32)"
      ]
     },
     "execution_count": 64,
     "metadata": {},
     "output_type": "execute_result"
    }
   ],
   "source": [
    "wv.get_mean_vector( ['cat' ,'dog'],pre_normalize=False)[:3]"
   ]
  },
  {
   "cell_type": "code",
   "execution_count": 65,
   "metadata": {},
   "outputs": [],
   "source": [
    "import numpy as np"
   ]
  },
  {
   "cell_type": "code",
   "execution_count": 66,
   "metadata": {},
   "outputs": [
    {
     "data": {
      "text/plain": [
       "array([ 0.03179932,  0.09088135, -0.2290039 ], dtype=float32)"
      ]
     },
     "execution_count": 66,
     "metadata": {},
     "output_type": "execute_result"
    }
   ],
   "source": [
    "w1 = wv['cat']\n",
    "w2 = wv['dog']\n",
    "np.mean([w1, w2], axis=0)[:3]\n"
   ]
  },
  {
   "cell_type": "code",
   "execution_count": 67,
   "metadata": {},
   "outputs": [],
   "source": [
    "df['vector'] = df['text'].apply(lambda text: preprocess_and_vectorize(text))"
   ]
  },
  {
   "cell_type": "code",
   "execution_count": 74,
   "metadata": {},
   "outputs": [
    {
     "data": {
      "text/plain": [
       "array([ 1.70995723e-02,  1.23965414e-02, -3.52646969e-03, -2.34477688e-03,\n",
       "       -5.17879799e-03, -2.99869385e-02, -7.15782866e-03, -1.35092493e-02,\n",
       "        2.50880402e-02,  2.63370518e-02, -1.84035953e-02, -1.56931346e-03,\n",
       "       -6.60459371e-03,  3.62214521e-02, -2.09851358e-02,  2.63604652e-02,\n",
       "        2.36558747e-02,  4.40453291e-02,  1.61714014e-02, -2.69992296e-02,\n",
       "        1.33547082e-03,  1.22623686e-02,  2.66453475e-02, -8.09775945e-03,\n",
       "        2.63188370e-02, -8.64748005e-03, -3.34688798e-02, -9.28568840e-03,\n",
       "        1.86541900e-02, -8.10821820e-03,  4.41827206e-03,  6.24958239e-03,\n",
       "       -2.36203466e-02, -1.92681141e-02,  2.71963552e-02,  1.78588333e-03,\n",
       "        1.81373321e-02,  1.33230481e-02, -3.89346271e-03,  3.32208499e-02,\n",
       "        3.33763920e-02, -3.36737819e-02,  4.47561853e-02,  2.06846725e-02,\n",
       "       -4.42348048e-02, -9.57671180e-03, -4.62444127e-03,  7.82934111e-03,\n",
       "        2.52343202e-03,  2.95096301e-02, -9.99508891e-03,  2.58867387e-02,\n",
       "       -6.96214847e-03, -4.85310052e-03, -1.60311460e-02, -3.28435889e-03,\n",
       "       -7.35801971e-03, -2.19509471e-02, -4.17556986e-03, -3.70595939e-02,\n",
       "        6.63739024e-03,  1.97020397e-02, -3.50645967e-02, -2.29638796e-02,\n",
       "       -4.80983406e-03, -4.87706717e-03, -1.18930433e-02,  3.39956358e-02,\n",
       "        1.20747723e-02,  2.48014294e-02,  5.59067028e-03, -3.90982255e-03,\n",
       "        3.25011909e-02,  1.34301856e-02, -1.24532804e-02, -2.11423412e-02,\n",
       "        2.76538264e-02,  1.52323004e-02,  2.75359116e-02,  2.62965560e-02,\n",
       "       -2.63409549e-03, -3.40993740e-02,  1.26057286e-02, -1.15830908e-02,\n",
       "       -5.35318209e-03, -1.16427485e-02, -2.79880315e-02,  2.60190964e-02,\n",
       "        1.42448768e-02, -1.29287029e-02,  2.62585264e-02,  7.07856007e-03,\n",
       "       -3.97068113e-02, -1.79042090e-02, -5.17211482e-03, -3.11014690e-02,\n",
       "        3.27981450e-02,  1.03479549e-02, -7.27700128e-04,  9.24437074e-04,\n",
       "       -2.57263966e-02, -2.35203151e-02,  1.83725897e-02,  1.22451049e-03,\n",
       "        1.22584207e-02, -3.37871313e-02, -4.68592113e-03, -4.84220162e-02,\n",
       "        3.78962350e-03, -1.60240289e-02,  7.37012248e-04, -1.61078554e-02,\n",
       "       -1.85612217e-02, -5.23634488e-03,  4.02702726e-02,  1.13634402e-02,\n",
       "        1.83582902e-02, -7.74424756e-03,  3.01564950e-02,  8.82775243e-03,\n",
       "       -1.51710240e-02,  1.08805373e-02, -7.35712936e-03, -4.64596227e-03,\n",
       "       -1.14581874e-02, -1.52546214e-02, -1.14207566e-02, -1.74210891e-02,\n",
       "       -1.17706573e-02,  1.82038769e-02, -2.54291133e-03, -4.29035574e-02,\n",
       "       -4.19806107e-04, -1.88847387e-03, -2.62759421e-02, -2.44166944e-02,\n",
       "       -4.30293148e-03,  2.68127602e-02, -1.92285348e-02,  3.44795957e-02,\n",
       "        1.74061069e-03, -2.10846178e-02, -1.13060223e-02, -1.63567830e-02,\n",
       "        7.09558185e-03,  1.36047304e-02, -1.61002241e-02, -1.83528364e-02,\n",
       "       -5.22231683e-03, -6.45112991e-03,  2.60554515e-02, -1.15551576e-02,\n",
       "        1.91019999e-03, -7.17883511e-03,  4.29785438e-03, -5.43267932e-03,\n",
       "       -1.11511443e-03, -3.24337669e-02, -1.23937503e-02, -1.42342560e-05,\n",
       "       -2.32231151e-02, -4.49151359e-03,  4.27597798e-02,  1.21881664e-02,\n",
       "        4.09374991e-03, -4.33373712e-02, -1.41224707e-03, -2.24583093e-02,\n",
       "        4.06810418e-02,  2.30354629e-02, -3.29939835e-02, -1.20613789e-02,\n",
       "        3.45065072e-03, -4.40604649e-02, -6.81814598e-03, -1.69152319e-02,\n",
       "        2.04880275e-02, -1.12006301e-02, -2.44812239e-02,  1.94423478e-02,\n",
       "       -5.63939437e-02, -2.17187945e-02,  2.73320954e-02,  2.26602564e-03,\n",
       "       -1.88491922e-02, -1.04159694e-02,  6.03496144e-03,  1.70703847e-02,\n",
       "        3.64448614e-02,  2.03812309e-02,  2.09483970e-02,  4.31750901e-03,\n",
       "        2.01937146e-02,  1.65975131e-02, -3.03149689e-02,  1.24170957e-02,\n",
       "        1.29700666e-02, -3.88946477e-03, -9.53625329e-03, -1.87563635e-02,\n",
       "       -1.52888559e-02,  3.13865207e-02,  8.31654761e-03, -1.15639279e-02,\n",
       "        5.38319757e-04, -1.72821134e-02,  1.36262821e-02, -1.19932620e-02,\n",
       "        2.64329184e-03, -3.09904851e-02, -1.34146325e-02,  3.39748934e-02,\n",
       "        2.51419307e-03,  1.52164651e-02, -4.44997586e-02, -3.67971533e-03,\n",
       "       -2.97794794e-03, -9.27490089e-03, -6.68155355e-03, -4.71838145e-03,\n",
       "        1.37230719e-03,  2.08524186e-02,  1.18199605e-02, -1.08207185e-02,\n",
       "        2.87136226e-03, -1.75869875e-02,  2.89923232e-02,  2.78036334e-02,\n",
       "        3.56945880e-02,  3.52293300e-03, -4.95296111e-03,  1.79394037e-02,\n",
       "       -5.26975561e-03, -4.35715681e-03,  6.44588098e-03, -2.16126861e-03,\n",
       "       -1.73396301e-02, -2.47392692e-02,  2.31070444e-02,  5.57226082e-03,\n",
       "        1.97137743e-02, -2.22996622e-02,  1.22502903e-02, -3.06167919e-02,\n",
       "       -6.76239096e-03,  7.70787103e-03,  2.84151994e-02,  3.03467382e-02,\n",
       "       -1.35801360e-03, -2.08549406e-02, -2.26020087e-02,  1.50344800e-02,\n",
       "       -6.81027677e-03,  4.19672485e-03,  2.80247233e-03,  3.45468259e-04,\n",
       "        1.96958911e-02,  9.39673930e-03, -2.53569297e-02, -2.91708950e-02,\n",
       "        1.71997249e-02,  1.70787368e-02, -1.12951165e-02,  1.44969700e-02,\n",
       "        2.55941600e-02,  3.18329819e-02, -6.33740053e-03,  5.44942776e-03,\n",
       "       -2.45247781e-02, -8.75225384e-03,  1.00896070e-02,  3.07576191e-02,\n",
       "        1.00438707e-02, -8.91805626e-03,  1.12408251e-02, -1.94826480e-02,\n",
       "       -4.78237227e-04, -5.19901589e-02, -1.64968465e-02, -6.28277846e-03,\n",
       "        6.64384617e-03,  1.06545712e-03,  9.37322155e-03,  2.51829531e-02,\n",
       "       -1.35281514e-02, -2.77004968e-02, -2.58820597e-02,  1.22085307e-03,\n",
       "        1.40557131e-02, -6.30138861e-03, -1.82852373e-02, -7.19329622e-03,\n",
       "       -3.86957340e-02, -2.07443871e-02,  2.35998817e-03, -2.71639340e-02,\n",
       "       -2.02959767e-04, -1.79818403e-02,  6.43240474e-03, -8.21593683e-03],\n",
       "      dtype=float32)"
      ]
     },
     "execution_count": 74,
     "metadata": {},
     "output_type": "execute_result"
    }
   ],
   "source": [
    "df.vector[4]"
   ]
  },
  {
   "cell_type": "code",
   "execution_count": 75,
   "metadata": {},
   "outputs": [
    {
     "data": {
      "text/html": [
       "<div>\n",
       "<style scoped>\n",
       "    .dataframe tbody tr th:only-of-type {\n",
       "        vertical-align: middle;\n",
       "    }\n",
       "\n",
       "    .dataframe tbody tr th {\n",
       "        vertical-align: top;\n",
       "    }\n",
       "\n",
       "    .dataframe thead th {\n",
       "        text-align: right;\n",
       "    }\n",
       "</style>\n",
       "<table border=\"1\" class=\"dataframe\">\n",
       "  <thead>\n",
       "    <tr style=\"text-align: right;\">\n",
       "      <th></th>\n",
       "      <th>text</th>\n",
       "      <th>label</th>\n",
       "      <th>target</th>\n",
       "      <th>vector</th>\n",
       "    </tr>\n",
       "  </thead>\n",
       "  <tbody>\n",
       "    <tr>\n",
       "      <th>0</th>\n",
       "      <td>Daniel Greenfield, a Shillman Journalism Fello...</td>\n",
       "      <td>FAKE</td>\n",
       "      <td>0</td>\n",
       "      <td>[0.024779696, 0.012828968, -0.00094372977, 0.0...</td>\n",
       "    </tr>\n",
       "    <tr>\n",
       "      <th>1</th>\n",
       "      <td>Google Pinterest Digg Linkedin Reddit Stumbleu...</td>\n",
       "      <td>FAKE</td>\n",
       "      <td>0</td>\n",
       "      <td>[0.027095925, 0.010018359, -0.003129262, 0.026...</td>\n",
       "    </tr>\n",
       "    <tr>\n",
       "      <th>2</th>\n",
       "      <td>U.S. Secretary of State John F. Kerry said Mon...</td>\n",
       "      <td>REAL</td>\n",
       "      <td>1</td>\n",
       "      <td>[0.007654696, 0.017431496, 0.01465004, 0.02029...</td>\n",
       "    </tr>\n",
       "    <tr>\n",
       "      <th>3</th>\n",
       "      <td>— Kaydee King (@KaydeeKing) November 9, 2016 T...</td>\n",
       "      <td>FAKE</td>\n",
       "      <td>0</td>\n",
       "      <td>[0.026231475, 0.0026343616, -0.004902629, 0.01...</td>\n",
       "    </tr>\n",
       "    <tr>\n",
       "      <th>4</th>\n",
       "      <td>It's primary day in New York and front-runners...</td>\n",
       "      <td>REAL</td>\n",
       "      <td>1</td>\n",
       "      <td>[0.017099572, 0.012396541, -0.0035264697, -0.0...</td>\n",
       "    </tr>\n",
       "  </tbody>\n",
       "</table>\n",
       "</div>"
      ],
      "text/plain": [
       "                                                text label  target  \\\n",
       "0  Daniel Greenfield, a Shillman Journalism Fello...  FAKE       0   \n",
       "1  Google Pinterest Digg Linkedin Reddit Stumbleu...  FAKE       0   \n",
       "2  U.S. Secretary of State John F. Kerry said Mon...  REAL       1   \n",
       "3  — Kaydee King (@KaydeeKing) November 9, 2016 T...  FAKE       0   \n",
       "4  It's primary day in New York and front-runners...  REAL       1   \n",
       "\n",
       "                                              vector  \n",
       "0  [0.024779696, 0.012828968, -0.00094372977, 0.0...  \n",
       "1  [0.027095925, 0.010018359, -0.003129262, 0.026...  \n",
       "2  [0.007654696, 0.017431496, 0.01465004, 0.02029...  \n",
       "3  [0.026231475, 0.0026343616, -0.004902629, 0.01...  \n",
       "4  [0.017099572, 0.012396541, -0.0035264697, -0.0...  "
      ]
     },
     "execution_count": 75,
     "metadata": {},
     "output_type": "execute_result"
    }
   ],
   "source": [
    "df.head()"
   ]
  },
  {
   "attachments": {},
   "cell_type": "markdown",
   "metadata": {},
   "source": [
    "### Training the data"
   ]
  },
  {
   "cell_type": "code",
   "execution_count": 76,
   "metadata": {},
   "outputs": [],
   "source": [
    "from sklearn.model_selection import train_test_split\n",
    "X_train, X_test, y_train, y_test = train_test_split(df.vector, df.target, \n",
    "test_size=0.2, random_state=2003, stratify=df.target)"
   ]
  },
  {
   "cell_type": "code",
   "execution_count": 77,
   "metadata": {},
   "outputs": [
    {
     "data": {
      "text/plain": [
       "((5068,), (1267,), (5068,), (5068,))"
      ]
     },
     "execution_count": 77,
     "metadata": {},
     "output_type": "execute_result"
    }
   ],
   "source": [
    "X_train.shape, X_test.shape, y_train.shape, y_train.shape"
   ]
  },
  {
   "cell_type": "code",
   "execution_count": 79,
   "metadata": {},
   "outputs": [
    {
     "data": {
      "text/plain": [
       "array([array([ 1.64968222e-02,  1.54385790e-02,  5.54654421e-03,  1.37493259e-03,\n",
       "              -2.77393702e-02, -2.39225551e-02,  9.92960483e-03, -2.98539530e-02,\n",
       "               4.22187559e-02, -1.08222105e-02, -3.05113886e-02, -2.16162694e-03,\n",
       "              -2.39147060e-03,  2.61639655e-02, -5.29644042e-02,  2.85068080e-02,\n",
       "              -7.93061554e-05,  2.29024608e-02, -7.49576837e-03, -8.18362087e-02,\n",
       "               1.85181890e-02,  3.71239409e-02, -1.37076678e-03, -2.78396960e-02,\n",
       "              -3.68070602e-02, -3.85002494e-02, -2.05816124e-02,  1.73196215e-02,\n",
       "               2.23900378e-02,  3.17006782e-02,  7.72407511e-03,  2.30512396e-02,\n",
       "              -3.62387411e-02,  5.61018055e-03,  2.42047440e-02, -2.47776061e-02,\n",
       "               1.06984302e-02,  3.52591164e-02,  1.28122082e-03,  2.03686059e-02,\n",
       "               2.16993596e-02, -4.24958952e-02,  2.16555912e-02,  1.84704419e-02,\n",
       "              -4.43166941e-02, -2.66845077e-02, -1.81479994e-02,  1.00787086e-02,\n",
       "              -4.20333296e-02,  8.00364930e-03, -1.80561580e-02, -1.01484433e-02,\n",
       "              -1.57005489e-02, -5.13620414e-02, -4.45634453e-03, -7.69066764e-03,\n",
       "               2.38812659e-02,  2.86531314e-04, -2.17432771e-02, -2.00111847e-02,\n",
       "               7.11711869e-03, -4.75001289e-03, -3.74818519e-02, -3.89453024e-02,\n",
       "               8.93772766e-03,  2.12791041e-02, -4.50941287e-02,  3.23318616e-02,\n",
       "               5.68096377e-02,  3.47976573e-02, -6.17007213e-03,  4.13300507e-02,\n",
       "               3.32342051e-02, -3.55677567e-02, -3.78223993e-02,  4.69396859e-02,\n",
       "               2.45072488e-02,  1.05430430e-03,  2.84855086e-02,  2.60633007e-02,\n",
       "               3.45300883e-02, -8.98688380e-03,  2.26123855e-02, -4.74570505e-02,\n",
       "               4.33964701e-03, -1.63486172e-02, -1.40126338e-02, -1.12769380e-02,\n",
       "               1.79793555e-02, -4.79526110e-02,  7.35498592e-02,  1.37430215e-02,\n",
       "              -1.87959317e-02, -1.50304763e-02, -7.06637139e-03, -1.11701712e-03,\n",
       "               1.39604360e-02,  2.78721750e-02,  3.49903032e-02, -1.46132123e-04,\n",
       "              -3.93608920e-02, -2.84911897e-02,  8.74830119e-04,  2.67706066e-02,\n",
       "               9.93240532e-03, -4.17742915e-02, -3.70070525e-02, -2.63765082e-02,\n",
       "               6.63138134e-03, -3.71118300e-02, -1.38875730e-02, -1.85563918e-02,\n",
       "              -8.41265824e-03,  1.09878853e-02,  2.33684164e-02, -2.89653596e-02,\n",
       "               1.81008559e-02, -1.68895572e-02,  6.70141354e-02, -6.38303673e-03,\n",
       "              -2.41410602e-02,  1.71094853e-02, -9.01328307e-03,  1.21798972e-02,\n",
       "              -1.57275668e-03, -7.49800866e-03, -6.19280757e-03, -2.59669200e-02,\n",
       "               5.16409986e-02,  1.03246691e-02,  1.51346251e-03, -6.51896223e-02,\n",
       "              -1.22239301e-02, -1.58669613e-03, -2.54628807e-02, -6.11733682e-02,\n",
       "              -3.98238376e-02,  8.68975371e-03,  4.08899924e-03,  1.33085130e-02,\n",
       "               1.74651109e-02,  3.72641794e-02,  2.52447799e-02,  2.58992519e-02,\n",
       "               2.67310049e-02, -3.14348447e-03, -4.77583287e-03, -1.77506730e-02,\n",
       "              -2.86911074e-02, -1.10068843e-02,  6.32770881e-02,  5.06146997e-03,\n",
       "               2.03128904e-04,  1.68566070e-02,  7.21599385e-02, -2.30750833e-02,\n",
       "              -3.33686247e-02, -2.28489581e-02, -9.36491881e-03, -2.71912906e-02,\n",
       "              -5.02964891e-02,  2.28459928e-02,  4.21588682e-02,  2.61957329e-02,\n",
       "               2.40591411e-02, -1.63935442e-02,  1.91558395e-02, -4.70149377e-03,\n",
       "              -3.52176577e-02,  2.92162341e-03,  1.50029222e-02, -3.07009984e-02,\n",
       "              -2.00468600e-02, -8.24247003e-02, -2.37751845e-02, -8.60360730e-03,\n",
       "              -2.94718635e-03, -3.09870020e-02,  3.23483092e-03, -1.01438034e-02,\n",
       "              -5.24518490e-02, -1.38635654e-03, -2.89082658e-02, -4.32997458e-02,\n",
       "               3.19749303e-02, -2.46153474e-02, -6.86727278e-03,  6.16157912e-02,\n",
       "               1.79209504e-02,  8.12711865e-02,  1.85663588e-02,  9.29430313e-03,\n",
       "              -7.58822029e-03,  4.74419864e-03,  2.01874971e-02, -1.78663374e-03,\n",
       "               2.10685972e-02,  3.71235050e-02, -2.63526593e-03, -1.99865997e-02,\n",
       "              -3.91202271e-02,  2.45388299e-02, -2.01527122e-02, -5.07517420e-02,\n",
       "              -8.53110943e-03,  2.29361490e-03,  5.53886890e-02,  1.86429452e-02,\n",
       "               2.42368411e-02, -1.58936046e-02, -1.91309582e-02,  9.03105084e-03,\n",
       "              -2.13407632e-02, -2.97403615e-02, -4.83805500e-02,  3.75189073e-02,\n",
       "              -4.44715424e-03, -1.19243367e-02, -2.91142818e-02,  1.38900578e-02,\n",
       "               5.35102673e-02,  2.32902970e-02,  7.84882903e-03, -6.19121315e-03,\n",
       "               1.97372977e-02,  4.05278914e-02, -1.18693672e-02,  7.47884214e-02,\n",
       "               2.50103325e-02, -2.03283727e-02,  2.19488386e-02,  4.63780994e-03,\n",
       "               1.56466160e-02, -3.50100324e-02, -5.32770017e-03,  8.99180025e-03,\n",
       "               2.80312821e-02, -9.08388197e-03,  3.30737699e-03, -3.09275906e-03,\n",
       "               4.87657124e-03, -2.62856041e-03,  1.57089960e-02, -2.78689265e-02,\n",
       "               4.23072837e-02,  4.98522073e-03,  1.68459974e-02,  2.88874265e-02,\n",
       "              -1.23272771e-02, -1.92380100e-02, -3.75700183e-02, -1.67753976e-02,\n",
       "              -2.96209455e-02,  5.43905608e-03, -1.37892999e-02, -1.01745187e-03,\n",
       "               4.37228233e-02,  1.34398052e-02, -1.48244267e-02, -3.59146707e-02,\n",
       "               3.41052227e-02, -8.30784533e-03, -1.61362197e-02, -1.96119007e-02,\n",
       "               5.24833016e-02,  2.90437993e-02,  2.89476421e-02,  1.97417904e-02,\n",
       "              -8.47341940e-02, -7.72909075e-03,  9.09542106e-03,  1.05704553e-02,\n",
       "               9.48650111e-03, -4.09908779e-02,  1.02450512e-03,  2.13081297e-02,\n",
       "               4.13963497e-02, -5.25096655e-02, -3.21804173e-02,  4.51916410e-03,\n",
       "               3.31975543e-03,  2.60552019e-02, -2.60792822e-02, -6.42893463e-03,\n",
       "              -2.56195739e-02, -7.56747322e-03, -2.55389065e-02,  2.53997277e-02,\n",
       "               1.64219551e-02,  2.21166778e-02,  3.65970726e-03, -7.90095609e-03,\n",
       "              -3.84262986e-02, -2.70988047e-02,  3.06371246e-02, -1.32612661e-02,\n",
       "               2.53862441e-02, -3.67187709e-02, -5.45430817e-02,  2.15744078e-02],\n",
       "             dtype=float32)                                                       ,\n",
       "       array([ 1.17422566e-02,  7.30911503e-03, -7.41954148e-03,  9.68340039e-03,\n",
       "              -7.79490080e-03,  6.51594298e-03,  2.09196713e-02, -2.57497877e-02,\n",
       "               2.96237357e-02, -8.76735896e-03, -1.30212819e-03, -8.65860283e-03,\n",
       "              -4.27576294e-03,  2.41082497e-02, -4.02002521e-02,  3.55837531e-02,\n",
       "               1.63667160e-03,  3.55934277e-02,  5.91658871e-04, -1.13932341e-02,\n",
       "               9.43279825e-03,  2.30472498e-02,  1.63368182e-03,  1.41334580e-02,\n",
       "               3.25382309e-04, -7.48704653e-03, -1.97482090e-02,  1.62711721e-02,\n",
       "              -6.36650575e-03, -1.79184861e-02, -5.08649880e-03, -4.18630801e-03,\n",
       "              -1.36544993e-02, -1.67672187e-02,  5.56124607e-03, -1.84427910e-02,\n",
       "               1.56728253e-02,  7.47273560e-04,  6.51880214e-03,  1.55420536e-02,\n",
       "               1.17743257e-02, -2.76280171e-03,  2.37964485e-02, -5.01797395e-03,\n",
       "              -2.45173350e-02, -2.98204217e-02, -1.50514971e-02,  4.62680170e-03,\n",
       "              -8.17746576e-03,  1.41692879e-02,  2.55260943e-03,  8.54185876e-03,\n",
       "              -2.27997396e-02, -1.36842905e-02, -2.57981545e-03,  1.16972653e-02,\n",
       "              -2.54148692e-02, -1.97210349e-02,  2.89485347e-03, -2.57323440e-02,\n",
       "              -1.84982140e-02,  8.29566922e-03, -2.70378161e-02, -3.29264719e-03,\n",
       "               8.12918041e-03, -1.36520732e-02, -7.66448863e-03,  2.78299265e-02,\n",
       "               1.48904771e-02, -5.48129494e-04,  1.75532792e-02,  4.01519099e-03,\n",
       "               3.41147445e-02,  7.62737123e-04, -3.79317477e-02, -2.32939590e-02,\n",
       "               1.68296378e-02,  2.49105282e-02,  2.57645082e-03,  2.15599127e-02,\n",
       "               7.29667582e-03, -2.35569924e-02,  6.23550126e-03,  2.21644919e-02,\n",
       "              -6.22119009e-03, -9.23846103e-03, -3.20577212e-02,  3.68289202e-02,\n",
       "               6.03009714e-03, -2.04624631e-03,  3.13507468e-02, -1.48489084e-02,\n",
       "              -2.63216905e-02, -1.61222238e-02, -1.67844130e-03, -2.21527237e-02,\n",
       "               3.32864150e-02,  2.88619171e-03,  7.83193950e-03, -1.94428451e-02,\n",
       "              -6.15390949e-03, -1.99018307e-02,  9.51251108e-03, -6.51237462e-03,\n",
       "               1.02302507e-02, -1.13411043e-02, -9.96784866e-03, -2.48517767e-02,\n",
       "               1.56078013e-02, -2.21350454e-02, -3.06264032e-02, -7.72135751e-03,\n",
       "              -4.10616212e-03, -7.60303345e-03,  1.81877874e-02, -1.10138794e-02,\n",
       "              -4.07269131e-03, -1.27099520e-02,  3.16169970e-02,  1.12680327e-02,\n",
       "              -2.33825594e-02, -3.49080027e-03, -2.59055234e-02,  2.44661160e-02,\n",
       "              -6.54462306e-03, -2.05695778e-02, -6.28245389e-03,  6.81372359e-04,\n",
       "               3.09465080e-02,  2.03712303e-02, -5.57549298e-03, -4.16893475e-02,\n",
       "              -2.31789742e-02, -1.20162256e-02,  1.01379619e-03, -1.60352644e-02,\n",
       "               4.20976197e-03,  9.38990619e-03, -8.08283780e-03,  3.29115205e-02,\n",
       "               2.63020582e-02, -1.70884226e-02, -3.77718871e-03,  4.84731747e-03,\n",
       "               4.06602211e-03, -9.62305628e-03, -1.28045296e-02, -1.89050026e-02,\n",
       "              -1.24370204e-02, -3.51427798e-03,  2.84112673e-02,  9.24967404e-04,\n",
       "              -2.18386501e-02,  2.89777387e-02,  1.50049562e-02, -1.41619360e-02,\n",
       "              -1.03288839e-05, -2.61349771e-02, -1.71205029e-02, -8.22514109e-03,\n",
       "               5.53910434e-03,  1.60963088e-02,  1.51174841e-02, -9.82319820e-04,\n",
       "               1.44322282e-02, -2.38668751e-02,  1.99371725e-02, -2.83724032e-02,\n",
       "               1.06461477e-02,  5.23912162e-03, -1.29830334e-02, -2.05162708e-02,\n",
       "              -1.18465032e-02, -3.57893445e-02,  2.01751515e-02, -9.40587185e-03,\n",
       "               4.00079750e-02, -6.61124103e-03, -2.25138720e-02,  6.56128104e-04,\n",
       "              -4.28277589e-02, -1.65685117e-02,  2.05370761e-03, -9.93721187e-04,\n",
       "              -1.39440298e-02, -1.73451733e-02,  3.80483805e-03,  2.88371556e-02,\n",
       "               2.60719564e-02,  7.44592724e-03, -1.81209389e-02, -7.80240400e-03,\n",
       "               4.71375883e-03, -4.37311502e-03, -3.19769941e-02,  1.33647900e-02,\n",
       "              -6.25901343e-03, -1.61018316e-02, -1.22038238e-02, -3.08420490e-02,\n",
       "              -1.92197561e-02,  3.55390050e-02, -1.04641793e-02,  4.85195173e-03,\n",
       "              -3.61821870e-03, -1.13053117e-02, -1.37141971e-02,  1.32191293e-02,\n",
       "               4.93634632e-03, -2.16791686e-02, -2.17914581e-02,  5.15910517e-03,\n",
       "              -1.77947879e-02,  1.51222339e-02, -1.95944458e-02,  1.52007230e-02,\n",
       "               9.47031472e-03,  1.48873720e-02, -2.48064194e-02, -2.41207816e-02,\n",
       "              -1.12651698e-02,  8.34141206e-03, -1.75384376e-02,  1.72635983e-03,\n",
       "               9.13798530e-03, -8.26990139e-03,  1.20242052e-02,  7.06232525e-03,\n",
       "               3.01870750e-03, -1.14702163e-02, -5.12043154e-03,  6.20679324e-03,\n",
       "              -1.32162040e-02, -9.74266417e-03, -1.59205298e-03, -9.41702072e-03,\n",
       "              -5.35695232e-04, -9.99801233e-03,  2.60426197e-02, -3.35875736e-03,\n",
       "               1.04107792e-02, -9.52860992e-03, -2.38402002e-03, -2.62960754e-02,\n",
       "              -1.17317378e-03,  4.03547566e-03,  9.63461678e-03,  1.52543960e-02,\n",
       "               1.48262819e-02, -3.41188088e-02, -5.24270535e-03,  1.32958731e-02,\n",
       "               5.73490513e-03,  1.34732081e-02,  1.41278058e-02, -9.57571808e-03,\n",
       "               1.76204881e-03,  5.83680905e-03, -2.35618893e-02, -1.22748557e-02,\n",
       "               6.87973667e-03, -5.93789213e-04, -1.70537997e-02,  1.51399160e-02,\n",
       "               1.14988359e-02,  3.40715684e-02, -1.47035047e-02, -1.91836413e-02,\n",
       "              -3.93422693e-02, -1.21796539e-03,  1.05129676e-02,  3.36546898e-02,\n",
       "               2.41724811e-02, -6.60908362e-03, -1.32798427e-03, -1.70780327e-02,\n",
       "              -6.22837711e-03, -2.63225678e-02, -1.69099905e-02, -4.95467382e-03,\n",
       "              -1.17969587e-02,  1.13089554e-04,  5.04739303e-03,  2.79783681e-02,\n",
       "               4.67396388e-03,  6.87888963e-03, -3.02241910e-02,  7.96013605e-03,\n",
       "               2.98203304e-02,  7.52515020e-03, -2.86174398e-02,  3.37522430e-03,\n",
       "              -2.16415972e-02,  1.36056133e-02, -1.23644453e-02, -1.72545295e-02,\n",
       "               5.56540815e-03,  2.19592731e-03,  1.53884583e-03, -1.05865970e-02],\n",
       "             dtype=float32)                                                       ,\n",
       "       array([ 0.02343049,  0.01363296, -0.00836552,  0.02972563, -0.02427519,\n",
       "              -0.02181013,  0.00125255, -0.00456653,  0.03081819,  0.01475777,\n",
       "              -0.00535018, -0.00513392, -0.0055766 ,  0.02433147, -0.02610531,\n",
       "               0.03545419,  0.02099015,  0.03921353,  0.00270888, -0.02989049,\n",
       "               0.00441402,  0.01993289,  0.00937753, -0.00574127,  0.00698054,\n",
       "              -0.01096577, -0.03175755,  0.0019329 ,  0.02935952,  0.0021158 ,\n",
       "               0.01196139,  0.01398697, -0.02640651, -0.00160521,  0.01853061,\n",
       "              -0.00607255,  0.02035416,  0.00043322, -0.00088157,  0.03465588,\n",
       "               0.03248071, -0.02439188,  0.04759806,  0.00197371, -0.04520999,\n",
       "               0.00088723, -0.01153952,  0.01050377, -0.00520828,  0.02407243,\n",
       "              -0.0055207 ,  0.01312454, -0.01618551, -0.01929972, -0.00637529,\n",
       "               0.01193967, -0.01489378, -0.01163843,  0.00043707, -0.02606465,\n",
       "               0.01239637,  0.01193624, -0.02972733, -0.01785454, -0.00056253,\n",
       "              -0.0020523 , -0.00895648,  0.0332449 ,  0.0060606 ,  0.0194306 ,\n",
       "               0.00886548,  0.00443312,  0.02041592,  0.01139354, -0.01458935,\n",
       "              -0.01442097,  0.01568285,  0.0221739 ,  0.01460288,  0.03693584,\n",
       "               0.01258588, -0.03250173,  0.01169958, -0.00960773, -0.00844362,\n",
       "              -0.01107944, -0.0386703 ,  0.02023958,  0.01720086, -0.00354837,\n",
       "               0.02255565, -0.00323138, -0.03350768, -0.01001923, -0.00664006,\n",
       "              -0.01853612,  0.01945659,  0.01389092, -0.00097817, -0.02442718,\n",
       "              -0.02259818, -0.03168468,  0.0223736 , -0.00375858,  0.00731468,\n",
       "              -0.04029946,  0.00671326, -0.03736027,  0.01582533, -0.02314854,\n",
       "              -0.0078729 , -0.02766471, -0.01363792,  0.01634688,  0.03789582,\n",
       "              -0.00669999,  0.01260914, -0.00897573,  0.03723084,  0.03243657,\n",
       "              -0.01994539,  0.01153531, -0.01018095, -0.0011026 , -0.00365877,\n",
       "              -0.00731738, -0.004813  , -0.00588387,  0.00668052,  0.00988305,\n",
       "              -0.0078958 , -0.04093025,  0.00320778,  0.00423605, -0.02595498,\n",
       "              -0.01218637, -0.00062091,  0.01384241,  0.00366616,  0.02969399,\n",
       "               0.00618609, -0.00819141, -0.01881337,  0.01107988,  0.00821969,\n",
       "               0.00139635, -0.01604477, -0.02504034, -0.01292879, -0.01433339,\n",
       "               0.04051737, -0.00594101, -0.00858635,  0.00655252,  0.00809383,\n",
       "              -0.02245768, -0.01826737, -0.03492002, -0.01140658, -0.00717291,\n",
       "              -0.01952422,  0.00445443,  0.03905706,  0.00506413,  0.01331671,\n",
       "              -0.02960438,  0.02319678, -0.01507599,  0.03648839,  0.02472337,\n",
       "              -0.02603664, -0.00737132,  0.00669269, -0.04862648, -0.00129293,\n",
       "              -0.02188378,  0.01965035, -0.01528827, -0.01711521,  0.00358006,\n",
       "              -0.03286541, -0.02118514, -0.00525703, -0.00459451, -0.00557641,\n",
       "              -0.01192385, -0.00340863,  0.00484454,  0.02340673,  0.03233204,\n",
       "               0.01422968,  0.00197196,  0.02272172,  0.01666643, -0.01973723,\n",
       "               0.02266289, -0.00685422, -0.0026596 , -0.00762371, -0.01905482,\n",
       "              -0.0225974 ,  0.02621697,  0.00318982, -0.01407079,  0.01430668,\n",
       "              -0.01374458,  0.02334676, -0.01471688, -0.00862265, -0.02809953,\n",
       "              -0.01306695,  0.01582551,  0.00507443,  0.00360394, -0.02373889,\n",
       "              -0.00253582,  0.00056471,  0.0049444 , -0.01279892, -0.00824569,\n",
       "               0.00310372,  0.02318206,  0.00976874, -0.00359585,  0.02876713,\n",
       "              -0.02164696,  0.027021  ,  0.03973265,  0.02851128, -0.0009801 ,\n",
       "              -0.00734906,  0.00714104, -0.00807671,  0.00364945,  0.00577566,\n",
       "              -0.00546553,  0.0030101 , -0.03651245,  0.01827894, -0.01442459,\n",
       "               0.02180026, -0.00839699,  0.00764761, -0.02593769, -0.00449367,\n",
       "               0.00786969,  0.02408124,  0.03615548,  0.00341364, -0.01736857,\n",
       "              -0.02682122,  0.00617199, -0.00144157,  0.01339214,  0.01849726,\n",
       "              -0.00830651,  0.01515234,  0.01525915, -0.01717184, -0.02729787,\n",
       "              -0.00151435,  0.00279709, -0.01472816,  0.01932   ,  0.01240044,\n",
       "               0.03251059, -0.02145624, -0.01193448, -0.03955193, -0.00725615,\n",
       "               0.00713011,  0.02893252,  0.00929312, -0.00173302,  0.0010347 ,\n",
       "              -0.01780076,  0.00641429, -0.05771366, -0.01140464, -0.00157523,\n",
       "               0.00441095, -0.01655528,  0.00384685,  0.03196053, -0.01407097,\n",
       "              -0.02414843, -0.02651521, -0.00111184,  0.01205825,  0.00792494,\n",
       "              -0.02391523, -0.0104589 , -0.03350724, -0.01202068, -0.00297487,\n",
       "              -0.02198594,  0.00745397, -0.01096017,  0.01038288,  0.00658286],\n",
       "             dtype=float32)                                                    ,\n",
       "       ...,\n",
       "       array([ 7.81972241e-03,  1.62861720e-02,  3.33882798e-03,  3.48023064e-02,\n",
       "              -3.54394279e-02, -2.24488452e-02,  1.75160225e-02, -2.56620478e-02,\n",
       "               3.54437903e-02,  1.31339766e-02, -2.14978177e-02, -1.50697203e-02,\n",
       "              -4.29834891e-03,  1.99018158e-02, -4.29618917e-02,  3.01964544e-02,\n",
       "               1.07648205e-02,  3.48624177e-02,  1.76213647e-03, -2.71195062e-02,\n",
       "              -8.64630565e-03,  1.45370672e-02,  6.36858540e-03,  8.45370349e-03,\n",
       "               1.70935020e-02,  3.61705455e-03, -2.87492462e-02,  2.41465075e-03,\n",
       "               7.03598186e-03, -8.70827306e-03, -6.44081645e-03, -2.14418676e-02,\n",
       "              -2.01189835e-02, -8.28337306e-06,  1.92349330e-02, -2.26026354e-03,\n",
       "               1.23081934e-02, -1.02184364e-04,  1.83395874e-02,  2.12808140e-02,\n",
       "               3.00017949e-02,  1.82201690e-03,  3.94741632e-02,  6.63822517e-03,\n",
       "              -2.14648731e-02, -3.29076983e-02, -1.63619537e-02,  1.53180538e-02,\n",
       "              -2.46224124e-02,  6.24758936e-03,  2.76086153e-03,  8.95969756e-03,\n",
       "              -1.25210974e-02, -1.89658813e-02,  4.51382669e-03,  1.36519475e-02,\n",
       "              -2.76788455e-02, -2.69727800e-02, -1.54597638e-03, -3.06447148e-02,\n",
       "              -1.03307962e-02,  2.10001543e-02, -2.84911729e-02, -1.48402974e-02,\n",
       "              -1.04433298e-03, -7.16954237e-05, -1.92575250e-02,  4.60693277e-02,\n",
       "              -9.96340998e-03,  1.55212386e-02, -5.17138420e-03,  4.98040440e-03,\n",
       "               3.40349004e-02,  2.53785658e-03, -2.29182877e-02, -4.39758413e-02,\n",
       "               2.26334389e-02,  3.24479081e-02,  1.04459841e-02,  2.91081592e-02,\n",
       "               1.05968975e-02, -1.26755871e-02,  9.09278356e-03,  3.55497794e-03,\n",
       "              -8.23422521e-03, -1.48667907e-02, -4.06137854e-02,  2.83609461e-02,\n",
       "               3.22723179e-03,  1.44597730e-02,  3.13902833e-02, -1.36006940e-02,\n",
       "              -1.76293831e-02, -3.30805667e-02,  3.62224970e-03, -2.65604518e-02,\n",
       "               1.18844714e-02,  6.55611372e-03,  1.03822574e-02, -7.12370733e-03,\n",
       "               5.29041456e-04, -5.33544226e-03,  7.31013902e-03,  6.31068973e-03,\n",
       "              -2.00368115e-03, -2.01234836e-02, -1.41769182e-02, -2.82431319e-02,\n",
       "               2.15501804e-02, -2.39849910e-02, -1.27341831e-02, -1.19624687e-02,\n",
       "              -2.13804599e-02,  1.28594469e-02,  3.45924608e-02,  3.18831904e-03,\n",
       "               1.76822990e-02, -1.68354735e-02,  3.57345901e-02,  2.22701523e-02,\n",
       "              -2.19302122e-02, -9.08355112e-04, -1.85926780e-02,  1.95407327e-02,\n",
       "              -1.55605571e-02, -6.26882166e-03, -7.47838477e-03, -1.26333022e-02,\n",
       "              -8.77225655e-04,  1.43362079e-02,  9.91211738e-03, -1.73394270e-02,\n",
       "              -2.47035734e-02, -6.94693299e-03, -1.54431572e-03, -8.29666574e-03,\n",
       "               7.45052891e-03, -7.12709874e-03,  1.03424233e-03,  1.93838049e-02,\n",
       "               9.53941233e-03, -2.53656302e-02, -1.04442425e-02,  3.26422490e-02,\n",
       "               3.94361187e-03, -1.25088720e-02, -5.77023253e-03, -9.60358884e-03,\n",
       "              -6.22589979e-03, -4.98606532e-04,  3.71073969e-02, -8.95564817e-03,\n",
       "              -1.32594220e-02,  1.68756377e-02,  1.46282400e-04, -1.36700831e-02,\n",
       "              -1.44020943e-02, -3.63388248e-02, -9.72898677e-03, -2.35824753e-02,\n",
       "              -4.27283486e-03,  1.54674659e-02,  8.44564382e-03, -1.51839377e-02,\n",
       "               7.41170673e-03, -2.36887354e-02,  1.02109415e-02, -1.98959373e-02,\n",
       "               2.86282245e-02,  6.98190508e-03, -2.03735568e-02, -2.51167128e-03,\n",
       "               4.86789551e-03, -3.82818840e-02,  1.64144151e-02, -2.01982427e-02,\n",
       "               2.19053887e-02, -2.27124114e-02, -1.87861528e-02, -6.44868659e-03,\n",
       "              -5.97355291e-02, -3.32281515e-02,  4.35063150e-03, -1.34094413e-02,\n",
       "              -7.60040479e-03, -1.74942648e-03,  7.61242071e-03,  1.53573919e-02,\n",
       "               1.28001394e-02,  3.30845565e-02,  3.00602918e-03,  1.05950367e-02,\n",
       "               1.35635892e-02, -3.00029246e-03, -2.50969771e-02, -2.51661375e-04,\n",
       "              -1.20648392e-03, -1.56955142e-03, -3.17232008e-03, -3.75452153e-02,\n",
       "              -9.98274982e-03,  3.52527574e-02,  1.09765464e-02, -1.43163567e-02,\n",
       "              -2.73182662e-03, -5.68613131e-03, -4.40851413e-03, -9.16811544e-03,\n",
       "              -2.08704523e-03, -2.04262417e-02, -1.78396963e-02,  8.38002749e-03,\n",
       "              -1.23762051e-02,  2.30395887e-02, -2.26279441e-02,  7.23867631e-03,\n",
       "               1.97605118e-02,  1.25493975e-02, -2.83304788e-02,  4.33652941e-03,\n",
       "              -1.13905938e-02, -4.70299274e-04, -6.96711335e-03,  4.48146975e-03,\n",
       "               1.61535051e-02, -1.31713832e-02,  3.31173241e-02,  1.46033783e-02,\n",
       "               2.08956040e-02,  6.56819344e-03, -2.14110967e-03,  4.46001627e-03,\n",
       "               1.12021377e-03, -1.16624020e-03,  1.55911213e-02, -9.28564114e-04,\n",
       "               2.36779312e-03, -1.90504454e-02,  2.86774226e-02, -1.01071279e-02,\n",
       "               4.06011194e-03, -1.49551956e-02,  1.69174979e-03, -2.24802531e-02,\n",
       "               8.61111097e-03, -4.41731943e-04, -2.34249490e-03,  1.35405818e-02,\n",
       "              -8.05741735e-03, -3.43897264e-03,  4.65405500e-03,  9.73832328e-03,\n",
       "               3.31477635e-03,  8.76626745e-03,  1.13047594e-02, -1.36007527e-02,\n",
       "               1.43411485e-02,  5.44600748e-03, -2.51201652e-02, -1.78143103e-02,\n",
       "               8.99831206e-03, -1.22825457e-02, -1.09169343e-02,  2.14691404e-02,\n",
       "               8.39569420e-03,  3.54139283e-02, -1.72092114e-02, -1.95772089e-02,\n",
       "              -4.70588170e-02, -7.29365181e-03,  4.99710813e-03,  3.49616297e-02,\n",
       "               2.69699767e-02, -3.02532921e-03, -5.95595501e-03, -1.78676639e-02,\n",
       "              -2.25566681e-02, -3.61968316e-02, -1.16358679e-02, -2.94129713e-03,\n",
       "              -1.16393501e-02, -5.87902917e-03,  2.97178682e-02,  2.82378551e-02,\n",
       "              -7.21710594e-03, -8.63973328e-05, -2.75351852e-02, -3.91922565e-03,\n",
       "               2.38203425e-02,  2.00168160e-03, -4.07413542e-02,  2.99045001e-03,\n",
       "              -2.71843299e-02, -1.32267154e-03, -1.67421456e-02, -5.70766069e-03,\n",
       "               8.06342578e-04, -2.57808366e-03,  1.26446495e-02, -1.19214656e-03],\n",
       "             dtype=float32)                                                       ,\n",
       "       array([ 0.01630071,  0.0028702 ,  0.00181022,  0.02044713, -0.02250259,\n",
       "              -0.02218878,  0.00694849, -0.01343571,  0.03098088,  0.00846596,\n",
       "              -0.01821517, -0.01025834, -0.00386018,  0.02745   , -0.04015559,\n",
       "               0.03791722,  0.02887067,  0.0314586 , -0.0095803 , -0.03305424,\n",
       "               0.00272599,  0.01485024,  0.01632322,  0.00960159,  0.01919939,\n",
       "              -0.00606154, -0.02063599,  0.00354449,  0.0218    , -0.00031817,\n",
       "               0.00351003, -0.0027238 , -0.02410553, -0.00064259,  0.01880528,\n",
       "              -0.00091214,  0.02783849,  0.01584133, -0.00075152,  0.01914461,\n",
       "               0.03549727, -0.01870009,  0.04701149, -0.0015324 , -0.05318687,\n",
       "              -0.01883325, -0.01413946,  0.00044688, -0.00755662,  0.02450614,\n",
       "              -0.00604408,  0.00670264, -0.01177774, -0.01413151, -0.00364453,\n",
       "               0.01291271, -0.01278248, -0.02955771, -0.00526434, -0.03834698,\n",
       "               0.00326394,  0.01424429, -0.02602469, -0.01478918,  0.00245416,\n",
       "              -0.01607928, -0.01738146,  0.04009201,  0.0047493 ,  0.02603324,\n",
       "               0.01551328,  0.00332246,  0.03594432,  0.01061442, -0.02328124,\n",
       "              -0.02537258,  0.02119778,  0.02010765,  0.02980253,  0.02952582,\n",
       "               0.01577842, -0.02370092,  0.01064843,  0.00254218, -0.0028638 ,\n",
       "              -0.01731014, -0.02481383,  0.03051745,  0.00986853, -0.00452983,\n",
       "               0.03575444, -0.00462055, -0.02792428, -0.01918783,  0.00778304,\n",
       "              -0.01645658,  0.0118518 ,  0.00080624,  0.00210151, -0.01254979,\n",
       "              -0.02120178, -0.01732898,  0.01088159,  0.00357984,  0.01186985,\n",
       "              -0.02781273,  0.00388347, -0.04100471,  0.00925473, -0.02374501,\n",
       "              -0.01132434, -0.01906475, -0.01584866,  0.00458318,  0.0371902 ,\n",
       "              -0.00553997,  0.02115354, -0.0129062 ,  0.03508387,  0.01557273,\n",
       "              -0.0205453 ,  0.00556445, -0.01560906,  0.01553177,  0.00013737,\n",
       "              -0.01991481,  0.00094292, -0.010794  , -0.00108355,  0.00404007,\n",
       "               0.00668799, -0.03472368,  0.00129813,  0.00616321, -0.01415638,\n",
       "              -0.0138738 , -0.00344734,  0.0212984 , -0.00937576,  0.01733059,\n",
       "               0.01248427, -0.0123933 , -0.00853043, -0.00032965,  0.0151742 ,\n",
       "              -0.00135667, -0.01907738, -0.0219414 ,  0.00997123,  0.00575106,\n",
       "               0.03153392, -0.00201263,  0.00228622,  0.00374031,  0.02271703,\n",
       "              -0.01069506, -0.00938857, -0.03003677, -0.0061095 , -0.00501177,\n",
       "              -0.0116098 ,  0.01169104,  0.03219332, -0.00131284,  0.00025479,\n",
       "              -0.02902539,  0.01795558, -0.01780644,  0.03941252,  0.02089415,\n",
       "              -0.01935148, -0.00643199,  0.00112845, -0.04549105,  0.0082987 ,\n",
       "              -0.0342011 ,  0.02487291, -0.01222745, -0.02166009, -0.00213116,\n",
       "              -0.04035405, -0.01596211,  0.00626749, -0.0005554 , -0.00105911,\n",
       "              -0.01499244, -0.00106869,  0.00539959,  0.01899538,  0.02796298,\n",
       "               0.01203295,  0.01033491,  0.01591071,  0.01651956, -0.02252251,\n",
       "               0.00752401,  0.00250823, -0.00572012, -0.0027121 , -0.01921057,\n",
       "              -0.0061614 ,  0.03124786,  0.00320652, -0.01063151, -0.0039677 ,\n",
       "              -0.00292611,  0.02026227, -0.00322604, -0.00204871, -0.02187699,\n",
       "              -0.01105685,  0.01602906, -0.00434933,  0.00581196, -0.02590073,\n",
       "               0.00355445, -0.00199693,  0.00608684, -0.01129243, -0.00688417,\n",
       "               0.00286196,  0.01359644,  0.00547242,  0.00360076,  0.02481389,\n",
       "              -0.01504411,  0.03442109,  0.03491548,  0.03364241,  0.00555047,\n",
       "              -0.0022459 ,  0.00859351, -0.01351001, -0.00263734,  0.01712997,\n",
       "              -0.00466159,  0.00479739, -0.02505702,  0.02022075, -0.01031949,\n",
       "               0.00510781, -0.02219157,  0.00081225, -0.025783  , -0.00023519,\n",
       "               0.00505676,  0.00868196,  0.03862255,  0.00531511, -0.01371092,\n",
       "              -0.0156194 ,  0.00873481, -0.00633917, -0.00183408,  0.01820283,\n",
       "              -0.00614408,  0.01197854,  0.01771837, -0.01414771, -0.03166801,\n",
       "               0.00825039, -0.00020495, -0.01519729,  0.02129348,  0.02013084,\n",
       "               0.02818956, -0.00985784, -0.00377831, -0.03806494, -0.0114812 ,\n",
       "               0.01366502,  0.03575713,  0.01641984, -0.00254543,  0.00032909,\n",
       "              -0.0241497 , -0.00484563, -0.04084958, -0.01415829,  0.00132555,\n",
       "               0.00752329, -0.00184788,  0.01122131,  0.03202595, -0.00498029,\n",
       "              -0.00790565, -0.0257312 ,  0.00737362,  0.02081689,  0.01458619,\n",
       "              -0.01187751, -0.0084812 , -0.01922373, -0.0122607 ,  0.0015385 ,\n",
       "              -0.01967963,  0.01257312, -0.01200747,  0.01151585,  0.00979295],\n",
       "             dtype=float32)                                                    ,\n",
       "       array([ 1.68351308e-02,  1.04180248e-02,  7.02361949e-03,  3.18971351e-02,\n",
       "              -2.32733022e-02,  5.70288813e-03,  2.21463330e-02, -1.65651459e-02,\n",
       "               2.78694015e-02,  8.98999628e-03, -1.17991623e-02, -2.19166894e-02,\n",
       "              -2.85364036e-03,  2.19485909e-02, -4.29638401e-02,  3.32070701e-02,\n",
       "               6.88033924e-03,  3.30925472e-02,  2.01297668e-03, -2.28314735e-02,\n",
       "               8.76722764e-03,  8.32186546e-03,  9.22739785e-03,  5.26036369e-03,\n",
       "               1.79556403e-02, -3.78030515e-03, -2.54563168e-02,  1.99038591e-02,\n",
       "               1.70753449e-02, -1.25278709e-02, -1.24556490e-03, -1.56348813e-02,\n",
       "              -2.26017758e-02,  5.19213406e-03,  3.16919154e-03,  1.70346873e-03,\n",
       "               2.12229695e-02, -2.92969029e-03,  1.69781409e-02,  1.28776450e-02,\n",
       "               3.31923179e-02,  1.10288186e-03,  2.35537663e-02,  6.93353359e-03,\n",
       "              -1.27503248e-02, -3.01503781e-02, -1.48965148e-02,  6.94672205e-03,\n",
       "              -1.42370565e-02,  1.18643297e-02, -1.40109919e-02,  1.52085600e-02,\n",
       "              -1.69929601e-02, -1.31285749e-02,  8.12603533e-03,  1.93789396e-02,\n",
       "              -2.64776777e-02, -3.56780328e-02,  1.96086150e-03, -2.76904888e-02,\n",
       "               5.83318155e-03,  1.70383751e-02, -1.21237608e-02, -1.20352125e-02,\n",
       "              -3.81593755e-03, -1.14512537e-02, -1.48363952e-02,  4.59016263e-02,\n",
       "              -4.34284518e-03,  1.76418982e-02,  7.64174620e-05,  5.51051181e-03,\n",
       "               3.10074296e-02,  3.10708652e-03, -2.21680831e-02, -4.41452637e-02,\n",
       "               1.88177880e-02,  1.98303405e-02,  1.50217004e-02,  2.35062111e-02,\n",
       "               8.73361062e-03, -6.41454710e-03,  3.31355515e-03, -1.52153091e-03,\n",
       "              -1.06706843e-02, -1.70410667e-02, -2.84090228e-02,  3.15604806e-02,\n",
       "               1.33228432e-02,  1.25006177e-02,  1.28709953e-02, -1.97868217e-02,\n",
       "              -2.89620720e-02, -2.10287832e-02, -2.95025384e-04, -1.11898640e-02,\n",
       "               1.27724260e-02, -2.39994121e-03,  1.55022079e-02, -1.97208356e-02,\n",
       "              -9.06210020e-03,  7.46815512e-03,  5.55260479e-03,  4.88792080e-03,\n",
       "               2.89297383e-03, -2.48188283e-02, -1.25823682e-02, -6.15211343e-03,\n",
       "               9.48034134e-03, -2.05314625e-02, -2.08978578e-02, -8.84843990e-03,\n",
       "              -1.74095929e-02,  4.49956115e-03,  3.30098979e-02,  1.69191835e-03,\n",
       "               3.74095188e-03, -8.79832450e-03,  3.67317535e-02,  2.44405512e-02,\n",
       "              -1.90652963e-02, -6.06075069e-03, -1.89503673e-02,  2.01848727e-02,\n",
       "              -2.04798710e-02, -6.02269685e-03, -4.37865639e-03, -9.22697596e-03,\n",
       "              -7.94095045e-04,  1.02527244e-02, -2.97051389e-03, -2.60171108e-02,\n",
       "              -1.60097647e-02,  2.11972947e-04,  7.69659597e-03, -7.03629386e-03,\n",
       "               1.29373162e-03,  9.64013487e-03,  4.38389508e-03,  1.41816363e-02,\n",
       "               1.91071276e-02, -2.05489919e-02, -3.54972947e-03,  1.67427380e-02,\n",
       "               1.16041452e-02, -2.83561181e-03, -2.09232816e-03, -4.14161570e-03,\n",
       "              -2.27196608e-03, -3.52191157e-03,  4.48765904e-02, -1.07851103e-02,\n",
       "              -1.02326684e-02,  2.57684011e-02,  3.43307876e-03, -1.77690666e-02,\n",
       "              -1.70154460e-02, -3.85097973e-02, -5.25111752e-03, -2.89907474e-02,\n",
       "              -1.11369547e-02,  4.43074387e-03,  5.91224479e-03, -1.77147686e-02,\n",
       "               1.37999922e-03, -1.48180174e-02,  2.29844451e-02, -2.22932491e-02,\n",
       "              -1.39548816e-03,  1.25923213e-02, -1.90976616e-02, -1.43865440e-02,\n",
       "               3.96603718e-03, -3.24668214e-02,  1.96068007e-02, -1.58279501e-02,\n",
       "               1.55635141e-02, -3.17942798e-02, -1.72739346e-02, -1.95473377e-02,\n",
       "              -4.05726880e-02, -3.50528136e-02,  6.18446758e-03, -1.15696853e-02,\n",
       "              -1.03488946e-02, -8.73878039e-03,  1.04652625e-03,  2.66732695e-03,\n",
       "               2.64915340e-02,  2.63607223e-02,  1.80046668e-03,  8.86140484e-03,\n",
       "               1.56192100e-02,  2.72258325e-03, -3.18960547e-02,  4.92797117e-04,\n",
       "              -2.07036757e-03, -1.85059616e-03, -1.35793770e-02, -2.93254703e-02,\n",
       "               4.30900510e-03,  2.66781021e-02, -3.55726550e-03, -1.84828676e-02,\n",
       "              -3.11929453e-03, -9.63559933e-03, -2.77216127e-03, -2.93558021e-03,\n",
       "              -1.49187390e-02, -2.38145348e-02, -2.62922943e-02,  1.26213217e-02,\n",
       "               3.52645526e-03,  1.15122758e-02, -2.94811707e-02,  7.68762780e-03,\n",
       "               1.05337808e-02,  9.81518161e-03, -1.81555003e-02, -4.98286076e-03,\n",
       "              -1.06646074e-02,  1.34228333e-03,  8.20821803e-03,  4.76286514e-03,\n",
       "               8.37289449e-03, -1.11410478e-02,  3.54407132e-02,  8.14841315e-03,\n",
       "               9.76481847e-03,  4.11036564e-03,  6.74280664e-03, -3.99935013e-03,\n",
       "              -4.67197358e-04,  3.67490062e-03,  2.66118683e-02, -8.21495336e-03,\n",
       "               1.09722894e-02, -5.86741185e-03,  2.28933971e-02, -9.51445010e-03,\n",
       "               8.73338804e-03, -1.60426516e-02, -4.07078443e-03, -2.00703889e-02,\n",
       "               5.85770060e-04,  1.37177743e-02, -3.74567555e-03,  1.25773931e-02,\n",
       "              -7.70992972e-03, -6.82719098e-03,  4.06022213e-04,  1.62318852e-02,\n",
       "               2.13345443e-03,  2.53632888e-02,  1.27418563e-02, -2.39690840e-02,\n",
       "              -4.31658886e-03, -5.20937936e-03, -1.23119978e-02, -1.30830407e-02,\n",
       "               7.69203622e-03, -1.06148710e-02, -1.68388095e-02,  1.86350383e-02,\n",
       "               8.81178491e-03,  3.89641039e-02, -1.41538521e-02, -1.72138363e-02,\n",
       "              -4.02438641e-02, -7.84231257e-03, -6.02025166e-03,  2.78199781e-02,\n",
       "               1.92858297e-02,  1.39515381e-03,  6.15988579e-03, -1.81538183e-02,\n",
       "              -2.25194190e-02, -2.43751016e-02, -1.43714137e-02,  1.93960369e-02,\n",
       "              -4.45151655e-03, -2.88164848e-03,  1.37917018e-02,  1.15392385e-02,\n",
       "               3.53494822e-03,  3.10481386e-03, -2.66329609e-02,  1.24943070e-02,\n",
       "               1.15832714e-02,  1.46516366e-02, -3.11482586e-02,  8.44864920e-03,\n",
       "              -3.65175083e-02,  8.97854194e-03, -2.23834123e-02, -1.28943780e-02,\n",
       "               5.86693874e-03, -9.97206196e-03,  1.14024039e-02,  3.10199847e-03],\n",
       "             dtype=float32)                                                       ],\n",
       "      dtype=object)"
      ]
     },
     "execution_count": 79,
     "metadata": {},
     "output_type": "execute_result"
    }
   ],
   "source": [
    "X_train.values"
   ]
  },
  {
   "cell_type": "code",
   "execution_count": 82,
   "metadata": {},
   "outputs": [],
   "source": [
    "from sklearn.preprocessing import MinMaxScaler\n",
    "scaler= MinMaxScaler()"
   ]
  },
  {
   "cell_type": "code",
   "execution_count": 86,
   "metadata": {},
   "outputs": [
    {
     "data": {
      "text/plain": [
       "array([[ 0.01649682,  0.01543858,  0.00554654, ..., -0.03671877,\n",
       "        -0.05454308,  0.02157441],\n",
       "       [ 0.01174226,  0.00730912, -0.00741954, ...,  0.00219593,\n",
       "         0.00153885, -0.0105866 ],\n",
       "       [ 0.02343049,  0.01363296, -0.00836552, ..., -0.01096017,\n",
       "         0.01038288,  0.00658286],\n",
       "       ...,\n",
       "       [ 0.00781972,  0.01628617,  0.00333883, ..., -0.00257808,\n",
       "         0.01264465, -0.00119215],\n",
       "       [ 0.01630071,  0.0028702 ,  0.00181022, ..., -0.01200747,\n",
       "         0.01151585,  0.00979295],\n",
       "       [ 0.01683513,  0.01041802,  0.00702362, ..., -0.00997206,\n",
       "         0.0114024 ,  0.003102  ]], dtype=float32)"
      ]
     },
     "execution_count": 86,
     "metadata": {},
     "output_type": "execute_result"
    }
   ],
   "source": [
    "X_train_2d = np.stack(X_train)\n",
    "X_test_2d = np.stack(X_test)\n",
    "X_train_2d"
   ]
  },
  {
   "cell_type": "code",
   "execution_count": 87,
   "metadata": {},
   "outputs": [
    {
     "data": {
      "text/plain": [
       "array([[0.47418422, 0.27450725, 0.70521164, ..., 0.47171444, 0.        ,\n",
       "        0.7424964 ],\n",
       "       [0.42644846, 0.23356505, 0.595996  , ..., 0.732085  , 0.49702486,\n",
       "        0.51876116],\n",
       "       [0.5437981 , 0.26541364, 0.5880279 , ..., 0.64406013, 0.5754049 ,\n",
       "        0.63820434],\n",
       "       ...,\n",
       "       [0.38706627, 0.27877596, 0.6866157 , ..., 0.700143  , 0.5954498 ,\n",
       "        0.58411574],\n",
       "       [0.47221524, 0.21120946, 0.67373997, ..., 0.6370528 , 0.5854458 ,\n",
       "        0.660536  ],\n",
       "       [0.47758085, 0.24922237, 0.71765333, ..., 0.65067136, 0.5844404 ,\n",
       "        0.61398894]], dtype=float32)"
      ]
     },
     "execution_count": 87,
     "metadata": {},
     "output_type": "execute_result"
    }
   ],
   "source": [
    "X_train_scaled = scaler.fit_transform(X_train_2d)\n",
    "X_test_scaled = scaler.fit_transform(X_test_2d)\n",
    "X_train_scaled"
   ]
  },
  {
   "cell_type": "code",
   "execution_count": 92,
   "metadata": {},
   "outputs": [],
   "source": [
    "from sklearn.ensemble import RandomForestClassifier, GradientBoostingClassifier"
   ]
  },
  {
   "cell_type": "code",
   "execution_count": 96,
   "metadata": {},
   "outputs": [],
   "source": [
    "clf = GradientBoostingClassifier()\n",
    "clf.fit(X_train_scaled, y_train)\n",
    "y_pred = clf.predict(X_test_scaled)"
   ]
  },
  {
   "cell_type": "code",
   "execution_count": 97,
   "metadata": {},
   "outputs": [],
   "source": [
    "from sklearn.metrics import accuracy_score, classification_report, confusion_matrix"
   ]
  },
  {
   "cell_type": "code",
   "execution_count": 98,
   "metadata": {},
   "outputs": [
    {
     "name": "stdout",
     "output_type": "stream",
     "text": [
      "              precision    recall  f1-score   support\n",
      "\n",
      "           0       0.51      1.00      0.68       633\n",
      "           1       1.00      0.05      0.09       634\n",
      "\n",
      "    accuracy                           0.52      1267\n",
      "   macro avg       0.76      0.52      0.38      1267\n",
      "weighted avg       0.76      0.52      0.38      1267\n",
      "\n"
     ]
    },
    {
     "data": {
      "text/plain": [
       "0.5232833464877664"
      ]
     },
     "execution_count": 98,
     "metadata": {},
     "output_type": "execute_result"
    }
   ],
   "source": [
    "print(classification_report(y_test, y_pred))\n",
    "accuracy_score(y_test, y_pred)"
   ]
  },
  {
   "cell_type": "code",
   "execution_count": null,
   "metadata": {},
   "outputs": [],
   "source": []
  }
 ],
 "metadata": {
  "kernelspec": {
   "display_name": "Python 3",
   "language": "python",
   "name": "python3"
  },
  "language_info": {
   "codemirror_mode": {
    "name": "ipython",
    "version": 3
   },
   "file_extension": ".py",
   "mimetype": "text/x-python",
   "name": "python",
   "nbconvert_exporter": "python",
   "pygments_lexer": "ipython3",
   "version": "3.9.6"
  },
  "orig_nbformat": 4
 },
 "nbformat": 4,
 "nbformat_minor": 2
}
