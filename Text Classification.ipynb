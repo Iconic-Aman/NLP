{
 "cells": [
  {
   "attachments": {},
   "cell_type": "markdown",
   "metadata": {},
   "source": [
    "<font>We are going to make a text classification project using **spacy word embedding**</font>\n",
    "<font>It comes under **multi-class** classification problem</font>"
   ]
  },
  {
   "cell_type": "code",
   "execution_count": 294,
   "metadata": {},
   "outputs": [],
   "source": [
    "import pandas as pd"
   ]
  },
  {
   "attachments": {},
   "cell_type": "markdown",
   "metadata": {},
   "source": [
    "SyntaxError: (unicode error) 'unicodeescape' codec can't decode bytes in position 33-34: malformed \\N character escape\n",
    "<p></p>\n",
    "just change '\\' -> '/'"
   ]
  },
  {
   "cell_type": "code",
   "execution_count": 295,
   "metadata": {},
   "outputs": [],
   "source": [
    "df = pd.read_json(\"D:/ML Coding Ninza/Coding/Dataset/News_Category_Dataset_v3.json\",lines=True)"
   ]
  },
  {
   "cell_type": "code",
   "execution_count": 296,
   "metadata": {},
   "outputs": [
    {
     "data": {
      "text/html": [
       "<div>\n",
       "<style scoped>\n",
       "    .dataframe tbody tr th:only-of-type {\n",
       "        vertical-align: middle;\n",
       "    }\n",
       "\n",
       "    .dataframe tbody tr th {\n",
       "        vertical-align: top;\n",
       "    }\n",
       "\n",
       "    .dataframe thead th {\n",
       "        text-align: right;\n",
       "    }\n",
       "</style>\n",
       "<table border=\"1\" class=\"dataframe\">\n",
       "  <thead>\n",
       "    <tr style=\"text-align: right;\">\n",
       "      <th></th>\n",
       "      <th>link</th>\n",
       "      <th>headline</th>\n",
       "      <th>category</th>\n",
       "      <th>short_description</th>\n",
       "      <th>authors</th>\n",
       "      <th>date</th>\n",
       "    </tr>\n",
       "  </thead>\n",
       "  <tbody>\n",
       "    <tr>\n",
       "      <th>0</th>\n",
       "      <td>https://www.huffpost.com/entry/covid-boosters-...</td>\n",
       "      <td>Over 4 Million Americans Roll Up Sleeves For O...</td>\n",
       "      <td>U.S. NEWS</td>\n",
       "      <td>Health experts said it is too early to predict...</td>\n",
       "      <td>Carla K. Johnson, AP</td>\n",
       "      <td>2022-09-23</td>\n",
       "    </tr>\n",
       "    <tr>\n",
       "      <th>1</th>\n",
       "      <td>https://www.huffpost.com/entry/american-airlin...</td>\n",
       "      <td>American Airlines Flyer Charged, Banned For Li...</td>\n",
       "      <td>U.S. NEWS</td>\n",
       "      <td>He was subdued by passengers and crew when he ...</td>\n",
       "      <td>Mary Papenfuss</td>\n",
       "      <td>2022-09-23</td>\n",
       "    </tr>\n",
       "    <tr>\n",
       "      <th>2</th>\n",
       "      <td>https://www.huffpost.com/entry/funniest-tweets...</td>\n",
       "      <td>23 Of The Funniest Tweets About Cats And Dogs ...</td>\n",
       "      <td>COMEDY</td>\n",
       "      <td>\"Until you have a dog you don't understand wha...</td>\n",
       "      <td>Elyse Wanshel</td>\n",
       "      <td>2022-09-23</td>\n",
       "    </tr>\n",
       "    <tr>\n",
       "      <th>3</th>\n",
       "      <td>https://www.huffpost.com/entry/funniest-parent...</td>\n",
       "      <td>The Funniest Tweets From Parents This Week (Se...</td>\n",
       "      <td>PARENTING</td>\n",
       "      <td>\"Accidentally put grown-up toothpaste on my to...</td>\n",
       "      <td>Caroline Bologna</td>\n",
       "      <td>2022-09-23</td>\n",
       "    </tr>\n",
       "    <tr>\n",
       "      <th>4</th>\n",
       "      <td>https://www.huffpost.com/entry/amy-cooper-lose...</td>\n",
       "      <td>Woman Who Called Cops On Black Bird-Watcher Lo...</td>\n",
       "      <td>U.S. NEWS</td>\n",
       "      <td>Amy Cooper accused investment firm Franklin Te...</td>\n",
       "      <td>Nina Golgowski</td>\n",
       "      <td>2022-09-22</td>\n",
       "    </tr>\n",
       "  </tbody>\n",
       "</table>\n",
       "</div>"
      ],
      "text/plain": [
       "                                                link  \\\n",
       "0  https://www.huffpost.com/entry/covid-boosters-...   \n",
       "1  https://www.huffpost.com/entry/american-airlin...   \n",
       "2  https://www.huffpost.com/entry/funniest-tweets...   \n",
       "3  https://www.huffpost.com/entry/funniest-parent...   \n",
       "4  https://www.huffpost.com/entry/amy-cooper-lose...   \n",
       "\n",
       "                                            headline   category  \\\n",
       "0  Over 4 Million Americans Roll Up Sleeves For O...  U.S. NEWS   \n",
       "1  American Airlines Flyer Charged, Banned For Li...  U.S. NEWS   \n",
       "2  23 Of The Funniest Tweets About Cats And Dogs ...     COMEDY   \n",
       "3  The Funniest Tweets From Parents This Week (Se...  PARENTING   \n",
       "4  Woman Who Called Cops On Black Bird-Watcher Lo...  U.S. NEWS   \n",
       "\n",
       "                                   short_description               authors  \\\n",
       "0  Health experts said it is too early to predict...  Carla K. Johnson, AP   \n",
       "1  He was subdued by passengers and crew when he ...        Mary Papenfuss   \n",
       "2  \"Until you have a dog you don't understand wha...         Elyse Wanshel   \n",
       "3  \"Accidentally put grown-up toothpaste on my to...      Caroline Bologna   \n",
       "4  Amy Cooper accused investment firm Franklin Te...        Nina Golgowski   \n",
       "\n",
       "        date  \n",
       "0 2022-09-23  \n",
       "1 2022-09-23  \n",
       "2 2022-09-23  \n",
       "3 2022-09-23  \n",
       "4 2022-09-22  "
      ]
     },
     "execution_count": 296,
     "metadata": {},
     "output_type": "execute_result"
    }
   ],
   "source": [
    "df.head()"
   ]
  },
  {
   "cell_type": "code",
   "execution_count": 297,
   "metadata": {},
   "outputs": [
    {
     "name": "stdout",
     "output_type": "stream",
     "text": [
      "(209527, 6)\n"
     ]
    },
    {
     "data": {
      "text/html": [
       "<div>\n",
       "<style scoped>\n",
       "    .dataframe tbody tr th:only-of-type {\n",
       "        vertical-align: middle;\n",
       "    }\n",
       "\n",
       "    .dataframe tbody tr th {\n",
       "        vertical-align: top;\n",
       "    }\n",
       "\n",
       "    .dataframe thead th {\n",
       "        text-align: right;\n",
       "    }\n",
       "</style>\n",
       "<table border=\"1\" class=\"dataframe\">\n",
       "  <thead>\n",
       "    <tr style=\"text-align: right;\">\n",
       "      <th></th>\n",
       "      <th>link</th>\n",
       "      <th>headline</th>\n",
       "      <th>category</th>\n",
       "      <th>short_description</th>\n",
       "      <th>authors</th>\n",
       "      <th>date</th>\n",
       "    </tr>\n",
       "  </thead>\n",
       "  <tbody>\n",
       "    <tr>\n",
       "      <th>0</th>\n",
       "      <td>https://www.huffpost.com/entry/covid-boosters-...</td>\n",
       "      <td>Over 4 Million Americans Roll Up Sleeves For O...</td>\n",
       "      <td>U.S. NEWS</td>\n",
       "      <td>Health experts said it is too early to predict...</td>\n",
       "      <td>Carla K. Johnson, AP</td>\n",
       "      <td>2022-09-23</td>\n",
       "    </tr>\n",
       "    <tr>\n",
       "      <th>1</th>\n",
       "      <td>https://www.huffpost.com/entry/american-airlin...</td>\n",
       "      <td>American Airlines Flyer Charged, Banned For Li...</td>\n",
       "      <td>U.S. NEWS</td>\n",
       "      <td>He was subdued by passengers and crew when he ...</td>\n",
       "      <td>Mary Papenfuss</td>\n",
       "      <td>2022-09-23</td>\n",
       "    </tr>\n",
       "    <tr>\n",
       "      <th>2</th>\n",
       "      <td>https://www.huffpost.com/entry/funniest-tweets...</td>\n",
       "      <td>23 Of The Funniest Tweets About Cats And Dogs ...</td>\n",
       "      <td>COMEDY</td>\n",
       "      <td>\"Until you have a dog you don't understand wha...</td>\n",
       "      <td>Elyse Wanshel</td>\n",
       "      <td>2022-09-23</td>\n",
       "    </tr>\n",
       "    <tr>\n",
       "      <th>3</th>\n",
       "      <td>https://www.huffpost.com/entry/funniest-parent...</td>\n",
       "      <td>The Funniest Tweets From Parents This Week (Se...</td>\n",
       "      <td>PARENTING</td>\n",
       "      <td>\"Accidentally put grown-up toothpaste on my to...</td>\n",
       "      <td>Caroline Bologna</td>\n",
       "      <td>2022-09-23</td>\n",
       "    </tr>\n",
       "    <tr>\n",
       "      <th>4</th>\n",
       "      <td>https://www.huffpost.com/entry/amy-cooper-lose...</td>\n",
       "      <td>Woman Who Called Cops On Black Bird-Watcher Lo...</td>\n",
       "      <td>U.S. NEWS</td>\n",
       "      <td>Amy Cooper accused investment firm Franklin Te...</td>\n",
       "      <td>Nina Golgowski</td>\n",
       "      <td>2022-09-22</td>\n",
       "    </tr>\n",
       "  </tbody>\n",
       "</table>\n",
       "</div>"
      ],
      "text/plain": [
       "                                                link  \\\n",
       "0  https://www.huffpost.com/entry/covid-boosters-...   \n",
       "1  https://www.huffpost.com/entry/american-airlin...   \n",
       "2  https://www.huffpost.com/entry/funniest-tweets...   \n",
       "3  https://www.huffpost.com/entry/funniest-parent...   \n",
       "4  https://www.huffpost.com/entry/amy-cooper-lose...   \n",
       "\n",
       "                                            headline   category  \\\n",
       "0  Over 4 Million Americans Roll Up Sleeves For O...  U.S. NEWS   \n",
       "1  American Airlines Flyer Charged, Banned For Li...  U.S. NEWS   \n",
       "2  23 Of The Funniest Tweets About Cats And Dogs ...     COMEDY   \n",
       "3  The Funniest Tweets From Parents This Week (Se...  PARENTING   \n",
       "4  Woman Who Called Cops On Black Bird-Watcher Lo...  U.S. NEWS   \n",
       "\n",
       "                                   short_description               authors  \\\n",
       "0  Health experts said it is too early to predict...  Carla K. Johnson, AP   \n",
       "1  He was subdued by passengers and crew when he ...        Mary Papenfuss   \n",
       "2  \"Until you have a dog you don't understand wha...         Elyse Wanshel   \n",
       "3  \"Accidentally put grown-up toothpaste on my to...      Caroline Bologna   \n",
       "4  Amy Cooper accused investment firm Franklin Te...        Nina Golgowski   \n",
       "\n",
       "        date  \n",
       "0 2022-09-23  \n",
       "1 2022-09-23  \n",
       "2 2022-09-23  \n",
       "3 2022-09-23  \n",
       "4 2022-09-22  "
      ]
     },
     "execution_count": 297,
     "metadata": {},
     "output_type": "execute_result"
    }
   ],
   "source": [
    "print(df.shape)\n",
    "df.head()\n"
   ]
  },
  {
   "cell_type": "code",
   "execution_count": 298,
   "metadata": {},
   "outputs": [],
   "source": [
    "df = df.drop(['link' , 'headline', 'authors','date'], axis=1 )"
   ]
  },
  {
   "cell_type": "code",
   "execution_count": 299,
   "metadata": {},
   "outputs": [
    {
     "data": {
      "text/plain": [
       "(209527, 2)"
      ]
     },
     "execution_count": 299,
     "metadata": {},
     "output_type": "execute_result"
    }
   ],
   "source": [
    "df.shape"
   ]
  },
  {
   "cell_type": "code",
   "execution_count": 300,
   "metadata": {},
   "outputs": [
    {
     "data": {
      "text/plain": [
       "POLITICS          35602\n",
       "WELLNESS          17945\n",
       "ENTERTAINMENT     17362\n",
       "TRAVEL             9900\n",
       "STYLE & BEAUTY     9814\n",
       "PARENTING          8791\n",
       "HEALTHY LIVING     6694\n",
       "QUEER VOICES       6347\n",
       "FOOD & DRINK       6340\n",
       "BUSINESS           5992\n",
       "COMEDY             5400\n",
       "SPORTS             5077\n",
       "BLACK VOICES       4583\n",
       "HOME & LIVING      4320\n",
       "PARENTS            3955\n",
       "THE WORLDPOST      3664\n",
       "WEDDINGS           3653\n",
       "WOMEN              3572\n",
       "CRIME              3562\n",
       "IMPACT             3484\n",
       "DIVORCE            3426\n",
       "WORLD NEWS         3299\n",
       "MEDIA              2944\n",
       "WEIRD NEWS         2777\n",
       "GREEN              2622\n",
       "WORLDPOST          2579\n",
       "RELIGION           2577\n",
       "STYLE              2254\n",
       "SCIENCE            2206\n",
       "TECH               2104\n",
       "TASTE              2096\n",
       "MONEY              1756\n",
       "ARTS               1509\n",
       "ENVIRONMENT        1444\n",
       "FIFTY              1401\n",
       "GOOD NEWS          1398\n",
       "U.S. NEWS          1377\n",
       "ARTS & CULTURE     1339\n",
       "COLLEGE            1144\n",
       "LATINO VOICES      1130\n",
       "CULTURE & ARTS     1074\n",
       "EDUCATION          1014\n",
       "Name: category, dtype: int64"
      ]
     },
     "execution_count": 300,
     "metadata": {},
     "output_type": "execute_result"
    }
   ],
   "source": [
    "df.category.value_counts()"
   ]
  },
  {
   "cell_type": "code",
   "execution_count": 301,
   "metadata": {},
   "outputs": [
    {
     "data": {
      "text/plain": [
       "0         U.S. NEWS\n",
       "1         U.S. NEWS\n",
       "2            COMEDY\n",
       "3         PARENTING\n",
       "4         U.S. NEWS\n",
       "            ...    \n",
       "209522         TECH\n",
       "209523       SPORTS\n",
       "209524       SPORTS\n",
       "209525       SPORTS\n",
       "209526       SPORTS\n",
       "Name: category, Length: 209527, dtype: object"
      ]
     },
     "execution_count": 301,
     "metadata": {},
     "output_type": "execute_result"
    }
   ],
   "source": [
    "df.category"
   ]
  },
  {
   "attachments": {},
   "cell_type": "markdown",
   "metadata": {},
   "source": [
    "Now we want only BUSINESS, SPORTS and CRIME dataset\n",
    "so we can use \n",
    "<font><p>**df[df.category.isin(['BUSINESS', 'SPORTS', 'CRIME'])]</p>**<font/>\n",
    "or we can use function "
   ]
  },
  {
   "cell_type": "code",
   "execution_count": 302,
   "metadata": {},
   "outputs": [],
   "source": [
    "# df = df[df.category.isin(['BUSINESS', 'SPORTS', 'CRIME',])]"
   ]
  },
  {
   "cell_type": "code",
   "execution_count": 303,
   "metadata": {},
   "outputs": [],
   "source": [
    "def func(x):\n",
    "    if x=='BUSINESS' or x=='SPORTS' or x=='CRIME':\n",
    "        return x\n",
    "    else:\n",
    "        return 0"
   ]
  },
  {
   "cell_type": "code",
   "execution_count": 304,
   "metadata": {},
   "outputs": [
    {
     "data": {
      "text/plain": [
       "(209527, 2)"
      ]
     },
     "execution_count": 304,
     "metadata": {},
     "output_type": "execute_result"
    }
   ],
   "source": [
    "df.shape"
   ]
  },
  {
   "cell_type": "code",
   "execution_count": 305,
   "metadata": {},
   "outputs": [],
   "source": [
    "df['category'] = df['category'].apply(func)"
   ]
  },
  {
   "cell_type": "code",
   "execution_count": 306,
   "metadata": {},
   "outputs": [
    {
     "data": {
      "text/plain": [
       "0           194896\n",
       "BUSINESS      5992\n",
       "SPORTS        5077\n",
       "CRIME         3562\n",
       "Name: category, dtype: int64"
      ]
     },
     "execution_count": 306,
     "metadata": {},
     "output_type": "execute_result"
    }
   ],
   "source": [
    "df.category.value_counts()"
   ]
  },
  {
   "cell_type": "code",
   "execution_count": 307,
   "metadata": {},
   "outputs": [
    {
     "name": "stdout",
     "output_type": "stream",
     "text": [
      "(14631, 2)\n"
     ]
    },
    {
     "data": {
      "text/plain": [
       "BUSINESS    5992\n",
       "SPORTS      5077\n",
       "CRIME       3562\n",
       "Name: category, dtype: int64"
      ]
     },
     "execution_count": 307,
     "metadata": {},
     "output_type": "execute_result"
    }
   ],
   "source": [
    "df.drop(df[df['category']==0].index, inplace =True) #.index returns the indes label of the filtered Dataframe\n",
    "print(df.shape)\n",
    "df.category.value_counts()"
   ]
  },
  {
   "cell_type": "code",
   "execution_count": 308,
   "metadata": {},
   "outputs": [],
   "source": [
    "#make a new target variable with a in which we assign the category column's values in number, \n",
    "#so that we can use it in ML model.\n",
    "df['target'] = df.category.map({\n",
    "    'BUSINESS' : 0, \n",
    "    'SPORTS' : 1,\n",
    "    'CRIME' : 2\n",
    "})"
   ]
  },
  {
   "cell_type": "code",
   "execution_count": 309,
   "metadata": {},
   "outputs": [],
   "source": [
    "df = df.sample(12000).reset_index(drop = True)"
   ]
  },
  {
   "cell_type": "code",
   "execution_count": 310,
   "metadata": {},
   "outputs": [
    {
     "data": {
      "text/plain": [
       "BUSINESS    4927\n",
       "SPORTS      4139\n",
       "CRIME       2934\n",
       "Name: category, dtype: int64"
      ]
     },
     "execution_count": 310,
     "metadata": {},
     "output_type": "execute_result"
    }
   ],
   "source": [
    "df.category.value_counts()"
   ]
  },
  {
   "cell_type": "code",
   "execution_count": 311,
   "metadata": {},
   "outputs": [
    {
     "data": {
      "text/html": [
       "<div>\n",
       "<style scoped>\n",
       "    .dataframe tbody tr th:only-of-type {\n",
       "        vertical-align: middle;\n",
       "    }\n",
       "\n",
       "    .dataframe tbody tr th {\n",
       "        vertical-align: top;\n",
       "    }\n",
       "\n",
       "    .dataframe thead th {\n",
       "        text-align: right;\n",
       "    }\n",
       "</style>\n",
       "<table border=\"1\" class=\"dataframe\">\n",
       "  <thead>\n",
       "    <tr style=\"text-align: right;\">\n",
       "      <th></th>\n",
       "      <th>category</th>\n",
       "      <th>short_description</th>\n",
       "      <th>target</th>\n",
       "    </tr>\n",
       "  </thead>\n",
       "  <tbody>\n",
       "    <tr>\n",
       "      <th>0</th>\n",
       "      <td>CRIME</td>\n",
       "      <td>Some people will do anything for a Five Guys b...</td>\n",
       "      <td>2</td>\n",
       "    </tr>\n",
       "    <tr>\n",
       "      <th>1</th>\n",
       "      <td>CRIME</td>\n",
       "      <td></td>\n",
       "      <td>2</td>\n",
       "    </tr>\n",
       "    <tr>\n",
       "      <th>2</th>\n",
       "      <td>BUSINESS</td>\n",
       "      <td>New technology offers a glimpse into what 21st...</td>\n",
       "      <td>0</td>\n",
       "    </tr>\n",
       "    <tr>\n",
       "      <th>3</th>\n",
       "      <td>BUSINESS</td>\n",
       "      <td>“Good things come in threes,\" she told azfamil...</td>\n",
       "      <td>0</td>\n",
       "    </tr>\n",
       "    <tr>\n",
       "      <th>4</th>\n",
       "      <td>SPORTS</td>\n",
       "      <td>Scroll down for LIVE updates. Stanley Cup Fina...</td>\n",
       "      <td>1</td>\n",
       "    </tr>\n",
       "  </tbody>\n",
       "</table>\n",
       "</div>"
      ],
      "text/plain": [
       "   category                                  short_description  target\n",
       "0     CRIME  Some people will do anything for a Five Guys b...       2\n",
       "1     CRIME                                                          2\n",
       "2  BUSINESS  New technology offers a glimpse into what 21st...       0\n",
       "3  BUSINESS  “Good things come in threes,\" she told azfamil...       0\n",
       "4    SPORTS  Scroll down for LIVE updates. Stanley Cup Fina...       1"
      ]
     },
     "execution_count": 311,
     "metadata": {},
     "output_type": "execute_result"
    }
   ],
   "source": [
    "df.head()"
   ]
  },
  {
   "attachments": {},
   "cell_type": "markdown",
   "metadata": {},
   "source": [
    "**Preprocessing the Text using spacy**"
   ]
  },
  {
   "cell_type": "code",
   "execution_count": 312,
   "metadata": {},
   "outputs": [],
   "source": [
    "import spacy\n",
    "nlp = spacy.load(\"en_core_web_lg\")"
   ]
  },
  {
   "cell_type": "code",
   "execution_count": 321,
   "metadata": {},
   "outputs": [],
   "source": [
    "#make a function for preprocessing\n",
    "def preprocess(text):\n",
    "    doc = nlp(text)\n",
    "    filtered_tokens = []\n",
    "    for token in doc:\n",
    "        if(token.is_stop or token.is_punct):\n",
    "            continue\n",
    "        filtered_tokens.append(token.lemma_)\n",
    "    return \" \".join(filtered_tokens)\n"
   ]
  },
  {
   "cell_type": "code",
   "execution_count": 322,
   "metadata": {},
   "outputs": [
    {
     "data": {
      "text/html": [
       "<div>\n",
       "<style scoped>\n",
       "    .dataframe tbody tr th:only-of-type {\n",
       "        vertical-align: middle;\n",
       "    }\n",
       "\n",
       "    .dataframe tbody tr th {\n",
       "        vertical-align: top;\n",
       "    }\n",
       "\n",
       "    .dataframe thead th {\n",
       "        text-align: right;\n",
       "    }\n",
       "</style>\n",
       "<table border=\"1\" class=\"dataframe\">\n",
       "  <thead>\n",
       "    <tr style=\"text-align: right;\">\n",
       "      <th></th>\n",
       "      <th>category</th>\n",
       "      <th>short_description</th>\n",
       "      <th>target</th>\n",
       "    </tr>\n",
       "  </thead>\n",
       "  <tbody>\n",
       "    <tr>\n",
       "      <th>0</th>\n",
       "      <td>CRIME</td>\n",
       "      <td>Some people will do anything for a Five Guys b...</td>\n",
       "      <td>2</td>\n",
       "    </tr>\n",
       "    <tr>\n",
       "      <th>1</th>\n",
       "      <td>CRIME</td>\n",
       "      <td></td>\n",
       "      <td>2</td>\n",
       "    </tr>\n",
       "    <tr>\n",
       "      <th>2</th>\n",
       "      <td>BUSINESS</td>\n",
       "      <td>New technology offers a glimpse into what 21st...</td>\n",
       "      <td>0</td>\n",
       "    </tr>\n",
       "    <tr>\n",
       "      <th>3</th>\n",
       "      <td>BUSINESS</td>\n",
       "      <td>“Good things come in threes,\" she told azfamil...</td>\n",
       "      <td>0</td>\n",
       "    </tr>\n",
       "    <tr>\n",
       "      <th>4</th>\n",
       "      <td>SPORTS</td>\n",
       "      <td>Scroll down for LIVE updates. Stanley Cup Fina...</td>\n",
       "      <td>1</td>\n",
       "    </tr>\n",
       "  </tbody>\n",
       "</table>\n",
       "</div>"
      ],
      "text/plain": [
       "   category                                  short_description  target\n",
       "0     CRIME  Some people will do anything for a Five Guys b...       2\n",
       "1     CRIME                                                          2\n",
       "2  BUSINESS  New technology offers a glimpse into what 21st...       0\n",
       "3  BUSINESS  “Good things come in threes,\" she told azfamil...       0\n",
       "4    SPORTS  Scroll down for LIVE updates. Stanley Cup Fina...       1"
      ]
     },
     "execution_count": 322,
     "metadata": {},
     "output_type": "execute_result"
    }
   ],
   "source": [
    "df.head()"
   ]
  },
  {
   "cell_type": "code",
   "execution_count": 323,
   "metadata": {},
   "outputs": [],
   "source": [
    "df['preprocessed_text'] = df['short_description'].apply(preprocess)"
   ]
  },
  {
   "cell_type": "code",
   "execution_count": 359,
   "metadata": {},
   "outputs": [
    {
     "data": {
      "text/html": [
       "<div>\n",
       "<style scoped>\n",
       "    .dataframe tbody tr th:only-of-type {\n",
       "        vertical-align: middle;\n",
       "    }\n",
       "\n",
       "    .dataframe tbody tr th {\n",
       "        vertical-align: top;\n",
       "    }\n",
       "\n",
       "    .dataframe thead th {\n",
       "        text-align: right;\n",
       "    }\n",
       "</style>\n",
       "<table border=\"1\" class=\"dataframe\">\n",
       "  <thead>\n",
       "    <tr style=\"text-align: right;\">\n",
       "      <th></th>\n",
       "      <th>category</th>\n",
       "      <th>short_description</th>\n",
       "      <th>target</th>\n",
       "      <th>preprocessed_text</th>\n",
       "      <th>vector</th>\n",
       "    </tr>\n",
       "  </thead>\n",
       "  <tbody>\n",
       "    <tr>\n",
       "      <th>0</th>\n",
       "      <td>CRIME</td>\n",
       "      <td>Some people will do anything for a Five Guys b...</td>\n",
       "      <td>2</td>\n",
       "      <td>people guy burger allegedly</td>\n",
       "      <td>[-1.82685, 0.5247851, -3.92625, 0.4604175, 0.9...</td>\n",
       "    </tr>\n",
       "    <tr>\n",
       "      <th>1</th>\n",
       "      <td>CRIME</td>\n",
       "      <td></td>\n",
       "      <td>2</td>\n",
       "      <td></td>\n",
       "      <td>[0.0, 0.0, 0.0, 0.0, 0.0, 0.0, 0.0, 0.0, 0.0, ...</td>\n",
       "    </tr>\n",
       "    <tr>\n",
       "      <th>2</th>\n",
       "      <td>BUSINESS</td>\n",
       "      <td>New technology offers a glimpse into what 21st...</td>\n",
       "      <td>0</td>\n",
       "      <td>new technology offer glimpse 21st century urba...</td>\n",
       "      <td>[0.46615705, 0.29726297, 0.90944016, -0.635389...</td>\n",
       "    </tr>\n",
       "    <tr>\n",
       "      <th>3</th>\n",
       "      <td>BUSINESS</td>\n",
       "      <td>“Good things come in threes,\" she told azfamil...</td>\n",
       "      <td>0</td>\n",
       "      <td>good thing come three tell azfamily.com compar...</td>\n",
       "      <td>[-1.1675137, -0.6381413, -1.2195907, 0.8574025...</td>\n",
       "    </tr>\n",
       "    <tr>\n",
       "      <th>4</th>\n",
       "      <td>SPORTS</td>\n",
       "      <td>Scroll down for LIVE updates. Stanley Cup Fina...</td>\n",
       "      <td>1</td>\n",
       "      <td>scroll live update Stanley Cup Final Game 2 Lo...</td>\n",
       "      <td>[-0.85084945, -1.2317462, 0.46607557, 3.039693...</td>\n",
       "    </tr>\n",
       "  </tbody>\n",
       "</table>\n",
       "</div>"
      ],
      "text/plain": [
       "   category                                  short_description  target  \\\n",
       "0     CRIME  Some people will do anything for a Five Guys b...       2   \n",
       "1     CRIME                                                          2   \n",
       "2  BUSINESS  New technology offers a glimpse into what 21st...       0   \n",
       "3  BUSINESS  “Good things come in threes,\" she told azfamil...       0   \n",
       "4    SPORTS  Scroll down for LIVE updates. Stanley Cup Fina...       1   \n",
       "\n",
       "                                   preprocessed_text  \\\n",
       "0                        people guy burger allegedly   \n",
       "1                                                      \n",
       "2  new technology offer glimpse 21st century urba...   \n",
       "3  good thing come three tell azfamily.com compar...   \n",
       "4  scroll live update Stanley Cup Final Game 2 Lo...   \n",
       "\n",
       "                                              vector  \n",
       "0  [-1.82685, 0.5247851, -3.92625, 0.4604175, 0.9...  \n",
       "1  [0.0, 0.0, 0.0, 0.0, 0.0, 0.0, 0.0, 0.0, 0.0, ...  \n",
       "2  [0.46615705, 0.29726297, 0.90944016, -0.635389...  \n",
       "3  [-1.1675137, -0.6381413, -1.2195907, 0.8574025...  \n",
       "4  [-0.85084945, -1.2317462, 0.46607557, 3.039693...  "
      ]
     },
     "execution_count": 359,
     "metadata": {},
     "output_type": "execute_result"
    }
   ],
   "source": [
    "df.head()"
   ]
  },
  {
   "cell_type": "code",
   "execution_count": 326,
   "metadata": {},
   "outputs": [
    {
     "data": {
      "text/plain": [
       "'scroll live update Stanley Cup Final Game 2 Los Angeles king vs. New Jersey Devils Prudential Center Newark'"
      ]
     },
     "execution_count": 326,
     "metadata": {},
     "output_type": "execute_result"
    }
   ],
   "source": [
    "sent = df.preprocessed_text[4]\n",
    "sent"
   ]
  },
  {
   "cell_type": "code",
   "execution_count": 333,
   "metadata": {},
   "outputs": [
    {
     "data": {
      "text/plain": [
       "array([-8.50849450e-01, -1.23174620e+00,  4.66075569e-01,  3.03969312e+00,\n",
       "        1.99327362e+00,  6.11599505e-01,  1.01598489e+00,  5.58894455e-01,\n",
       "        3.16223890e-01, -1.79702178e-01,  5.13774395e-01,  1.33917993e-02,\n",
       "        3.70906085e-01,  1.51993558e-01, -3.15370679e-01,  1.43882525e+00,\n",
       "        1.47073627e+00,  5.48302889e-01, -3.30321640e-01, -3.46350670e-01,\n",
       "        9.89193618e-01, -2.48586312e-02,  7.35997379e-01,  3.93440545e-01,\n",
       "        3.70671690e-01, -5.93599379e-01, -3.35482478e+00,  9.92555618e-02,\n",
       "        2.04163742e+00, -1.62466634e-02,  6.67273283e-01,  2.65309334e+00,\n",
       "        5.94796062e-01, -3.59273028e+00, -7.48782754e-01, -7.44496107e-01,\n",
       "        8.39033052e-02, -5.24597406e-01, -1.76070428e+00,  8.21760744e-02,\n",
       "        3.74245077e-01,  8.87363374e-01, -1.60845780e+00,  2.18134260e+00,\n",
       "       -1.58350945e+00,  1.94761086e+00, -3.26535292e-02,  1.10327840e+00,\n",
       "        1.61480796e+00, -2.03398466e+00,  4.51320797e-01,  2.70844603e+00,\n",
       "       -7.50846744e-01,  7.22416162e-01, -1.01745331e+00,  7.79014111e-01,\n",
       "       -2.15451980e+00, -4.06459987e-01,  5.26104391e-01, -3.63243103e-01,\n",
       "       -1.15191674e+00,  7.69555330e-01, -4.01944429e-01,  2.12456751e+00,\n",
       "        2.05630708e+00,  1.32238889e+00, -1.09081030e+00, -6.24609411e-01,\n",
       "        1.13839388e-01,  1.04052746e+00, -6.10071681e-02,  4.14123327e-01,\n",
       "       -9.29498434e-01,  1.03036344e+00, -1.89247504e-01,  1.49825120e+00,\n",
       "        7.64432013e-01,  8.89780581e-01, -8.22772741e-01,  1.50437903e+00,\n",
       "        1.07790756e+00, -2.48719589e-03, -3.58303833e+00, -4.97857094e-01,\n",
       "       -1.50969669e-01, -1.90023398e+00, -7.41487205e-01, -4.74091172e-01,\n",
       "       -1.56804049e+00,  1.78661668e+00, -5.37482381e-01,  1.11149275e+00,\n",
       "       -1.59065199e+00,  2.99886656e+00, -1.25742829e+00,  1.64365053e+00,\n",
       "       -2.54645586e-01, -3.54445577e-01,  1.02248944e-01,  1.73752892e+00,\n",
       "        8.74400496e-01, -1.99366021e+00,  2.28111744e+00,  2.61451030e+00,\n",
       "        4.61223930e-01,  1.13192391e+00, -3.04463911e+00, -1.01010859e+00,\n",
       "        1.49644840e+00, -2.80842471e+00, -6.95899576e-02, -2.65549552e-02,\n",
       "        6.42533362e-01,  2.03346491e+00, -8.92616510e-01, -1.10727847e+00,\n",
       "       -2.86971033e-01, -4.00767177e-01, -1.09232581e+00,  8.46317053e-01,\n",
       "        3.71464044e-01, -9.29947138e-01,  2.68864727e+00, -2.42772245e+00,\n",
       "        6.39775038e-01, -8.48191381e-01,  8.12340498e-01, -2.31201553e+00,\n",
       "        1.11396480e+00, -1.80641448e+00, -2.15716791e+00,  1.42611802e-01,\n",
       "        2.45324103e-03,  2.92128944e+00, -2.39883736e-01, -1.05730772e+00,\n",
       "        1.01115167e+00,  1.78890395e+00, -9.19051588e-01, -9.56098139e-02,\n",
       "        4.96432662e-01,  1.13712883e+00, -1.35447609e+00,  1.00711727e+00,\n",
       "       -2.47218639e-01,  1.54277217e+00, -2.87824345e+00,  9.09892201e-01,\n",
       "       -1.61102772e-01,  1.11996281e+00,  1.91077638e+00, -1.52586496e+00,\n",
       "       -2.34845534e-01, -1.26028776e+00, -1.46677196e-01, -1.27796400e+00,\n",
       "        1.91428232e+00, -3.08664262e-01,  1.81807113e+00, -2.09944868e+00,\n",
       "       -1.40187895e+00, -1.65733576e+00,  6.41910672e-01,  1.38977075e+00,\n",
       "       -1.69164956e+00,  9.33271706e-01, -5.52569926e-01, -1.61698186e+00,\n",
       "        8.56827796e-02,  1.30510890e+00, -1.39543772e+00,  2.74628311e-01,\n",
       "       -1.63572490e+00,  1.69160636e-03,  4.23966110e-01,  1.69928610e+00,\n",
       "       -1.54080343e+00, -1.00242281e+00, -9.83888358e-02, -2.81136036e-01,\n",
       "       -7.32370540e-02,  7.59232864e-02, -1.14376128e+00,  4.78916317e-01,\n",
       "       -8.29360485e-01,  1.66063738e+00, -2.64911920e-01,  7.77705610e-01,\n",
       "        1.50615764e+00,  4.17803496e-01, -6.51573360e-01, -1.02808666e+00,\n",
       "        3.85517478e-01, -1.11512828e+00,  1.87566781e+00,  1.16494322e+00,\n",
       "       -2.63083267e+00, -6.75102711e-01, -1.95452738e+00,  3.03728849e-01,\n",
       "        2.18498325e+00,  8.16170454e-01, -4.62094136e-02, -1.00676727e+00,\n",
       "        2.28777194e+00,  2.15377390e-01, -5.99916339e-01,  1.62565267e+00,\n",
       "       -1.87347069e-01,  8.16011131e-02,  8.77918005e-01, -7.15700030e-01,\n",
       "        3.59727263e-01,  3.17267489e+00,  1.56797194e+00,  3.04243541e+00,\n",
       "        2.66291738e-01, -1.42197537e+00, -9.38827470e-02, -2.36192441e+00,\n",
       "       -4.78557855e-01, -7.08627328e-02, -1.55599880e+00, -4.67732223e-03,\n",
       "       -3.24620914e+00, -1.04427636e+00, -2.00234994e-01,  1.33849490e+00,\n",
       "       -1.65559781e+00, -1.42505920e+00,  1.74230659e+00, -1.21231556e+00,\n",
       "       -3.86728123e-02, -5.51230192e-01,  6.14083111e-01,  3.43876153e-01,\n",
       "        2.07648844e-01,  6.63416535e-02, -1.37601507e+00, -1.38225412e+00,\n",
       "       -1.08493340e+00, -1.59275517e-01, -1.56874990e+00,  1.61376715e+00,\n",
       "        9.14961278e-01, -1.04831290e+00,  1.01080024e+00,  5.15130401e-01,\n",
       "       -1.05595446e+00, -5.12808263e-01,  1.26169050e+00, -2.75001121e+00,\n",
       "       -8.45734358e-01,  1.76869822e+00, -4.13361549e-01,  1.36440229e-02,\n",
       "        1.54259348e+00, -1.56984460e+00,  1.32766449e+00,  3.86757195e-01,\n",
       "       -1.28990495e+00, -3.08400822e+00, -3.28241080e-01, -7.32240200e-01,\n",
       "       -1.56228817e+00, -8.91572833e-01,  1.50914800e+00,  4.36908364e-01,\n",
       "       -1.27052057e+00, -2.13629889e+00, -1.16272688e+00,  7.58088350e-01,\n",
       "        2.01804256e+00, -2.99738377e-01,  4.66506004e-01,  8.77783298e-02,\n",
       "       -1.95501670e-01,  1.43023908e-01,  1.16565788e+00, -1.87749863e-02,\n",
       "        3.01705861e+00, -6.29643023e-01, -1.49572504e+00, -1.21809721e+00,\n",
       "       -5.56833334e-02,  5.25879525e-02,  5.81603289e-01, -8.14083755e-01,\n",
       "       -5.31784222e-02, -9.83927846e-01,  7.07916737e-01, -1.50663340e+00,\n",
       "        4.17319477e-01,  2.19725299e+00, -7.61765599e-01, -2.95152813e-01,\n",
       "        1.26028001e+00, -2.95625186e+00,  2.58128121e-02, -1.31358457e+00],\n",
       "      dtype=float32)"
      ]
     },
     "execution_count": 333,
     "metadata": {},
     "output_type": "execute_result"
    }
   ],
   "source": [
    "s1 = nlp(sent)\n",
    "s1.vector\n"
   ]
  },
  {
   "cell_type": "code",
   "execution_count": 334,
   "metadata": {},
   "outputs": [],
   "source": [
    "#make a function for using spacy word embedding\n",
    "def word_vector(sent):\n",
    "    doc = nlp(sent)\n",
    "\n",
    "    return doc.vector"
   ]
  },
  {
   "cell_type": "code",
   "execution_count": 336,
   "metadata": {},
   "outputs": [
    {
     "data": {
      "text/plain": [
       "array([ 0.46615705,  0.29726297,  0.90944016, -0.6353899 ,  1.577297  ,\n",
       "        0.02983804,  1.96117   ,  3.55059   , -2.411909  ,  0.04512302,\n",
       "        4.16825   ,  1.398948  , -5.5330896 ,  1.6887531 ,  2.326822  ,\n",
       "        0.76940906,  2.544241  , -0.10861196, -1.536207  , -1.1405494 ,\n",
       "        0.95977604,  1.7430321 , -0.37364098, -1.0885929 ,  0.09457402,\n",
       "       -0.60124004, -1.7158296 , -1.2495109 ,  0.22063093,  3.2462916 ,\n",
       "       -0.45342907, -1.0789459 ,  0.36818498, -3.48445   , -0.18314722,\n",
       "       -1.021645  , -0.06800099,  1.5658791 ,  0.35774598, -0.51078016,\n",
       "       -0.74785995,  0.90481997, -0.11579704, -0.80860597, -2.588742  ,\n",
       "        3.637682  , -0.03748194, -0.2558971 ,  0.52925605, -0.02968006,\n",
       "       -0.38586098,  2.578588  , -1.2326645 , -4.8964505 ,  0.35634   ,\n",
       "       -0.292687  ,  0.7809044 ,  1.4034721 ,  2.0207093 , -1.1850255 ,\n",
       "        1.0876751 ,  0.52217513,  0.46150804, -2.2604294 ,  1.236103  ,\n",
       "        3.15318   , -3.362331  , -4.8165903 ,  0.695082  ,  0.61400896,\n",
       "       -1.83526   , -1.3241357 ,  0.613665  , -1.0257267 , -0.34684318,\n",
       "        2.0742009 , -2.8757138 ,  1.005948  , -1.1587851 , -0.867206  ,\n",
       "       -4.262171  ,  1.410791  ,  2.1869283 ,  0.44477606,  0.715158  ,\n",
       "       -0.580511  ,  1.430516  , -2.648879  , -1.555315  , -0.01131701,\n",
       "       -1.4687068 ,  0.23780863,  0.8115339 , -4.585037  , -0.7289551 ,\n",
       "       -1.492198  ,  1.594758  , -1.219516  ,  1.2463691 ,  0.60471594,\n",
       "        2.0514863 , -0.00854001,  0.78313315,  1.70622   , -0.5969129 ,\n",
       "        1.9529082 , -0.06374104, -1.9242611 , -1.004433  , -1.4696059 ,\n",
       "        1.9683361 ,  0.6845601 , -1.4216721 , -0.655673  ,  1.370913  ,\n",
       "        2.2020662 , -3.01973   , -3.0671976 ,  0.05041412, -1.7558918 ,\n",
       "       -2.674199  , -2.555615  ,  1.104986  ,  1.5381814 ,  0.11592603,\n",
       "       -2.943981  ,  1.395365  , -2.1727002 ,  2.07322   , -1.848724  ,\n",
       "       -2.9527493 , -0.41330495,  1.4075    , -0.428994  , -2.675572  ,\n",
       "       -1.505161  , -3.377617  ,  0.36808503,  3.56412   , -0.703514  ,\n",
       "       -0.465702  ,  1.278751  , -2.4902465 ,  1.465821  , -0.25077003,\n",
       "       -1.323776  , -5.624771  , -1.4233321 , -1.04498   ,  2.5568001 ,\n",
       "        3.0599482 ,  0.72332305,  1.723918  ,  1.00724   , -1.524646  ,\n",
       "        0.47627568,  3.648152  ,  1.789648  ,  0.12998998, -0.27891603,\n",
       "       -1.9421822 , -0.07439897,  0.918886  ,  0.9548669 , -2.0931878 ,\n",
       "        0.900504  , -3.2574737 , -1.11121   ,  1.1944546 , -0.884027  ,\n",
       "        1.0137831 , -0.33035484,  1.264004  ,  1.0493519 , -0.20216699,\n",
       "       -0.0189658 ,  0.635222  ,  2.0397487 ,  0.5737418 , -1.5835769 ,\n",
       "       -0.694528  ,  0.634029  ,  3.4303508 , -2.0175629 , -1.812371  ,\n",
       "       -1.5190352 ,  0.518005  , -1.087522  ,  1.2921581 ,  3.1648395 ,\n",
       "       -2.1476455 , -2.117352  , -0.35899407, -1.8580431 ,  0.09549296,\n",
       "       -1.4792262 , -1.8571405 , -0.72651434, -1.7399511 ,  0.560083  ,\n",
       "       -0.16416495, -1.5847499 , -1.137255  , -1.010088  ,  2.5364048 ,\n",
       "        1.4314439 , -2.4902139 ,  3.1178298 ,  1.2164502 , -1.6570561 ,\n",
       "        3.26567   ,  0.160539  , -0.86488104, -0.370907  ,  0.825895  ,\n",
       "        2.4503932 ,  3.38102   , -2.444535  , -1.3898319 ,  0.28446704,\n",
       "        0.48682696,  1.2269421 , -1.951779  ,  3.0066    , -1.11569   ,\n",
       "       -1.4741219 ,  0.15491097,  1.812056  ,  2.165552  , -0.19779198,\n",
       "        1.891803  , -0.9910759 , -0.70532715,  2.1337273 ,  0.42255002,\n",
       "        0.58021796, -1.4962121 ,  0.688269  ,  1.2235969 ,  1.239319  ,\n",
       "       -2.807623  , -0.8591181 , -1.141011  ,  0.00847204, -1.4070984 ,\n",
       "       -1.3897359 , -3.75442   ,  0.10523593,  1.7996728 , -0.222785  ,\n",
       "       -0.930373  , -0.120501  , -4.217784  , -0.607563  ,  1.113231  ,\n",
       "       -3.4605699 ,  1.3328208 ,  1.7484715 , -1.0289031 ,  1.0471795 ,\n",
       "       -1.1246759 ,  1.9470742 ,  1.025509  ,  0.9450013 ,  0.84318006,\n",
       "        1.2172585 , -1.7763125 , -0.771593  , -0.58777   , -0.71573794,\n",
       "        0.72306   , -2.2287068 , -1.66241   , -2.1988058 ,  1.5748401 ,\n",
       "       -1.89564   ,  2.9699771 , -1.2933853 , -1.112594  ,  0.20822898,\n",
       "        2.2993798 ,  0.6182889 ,  1.412439  , -1.5267991 ,  1.7318408 ,\n",
       "        0.910089  ,  0.5860247 ,  1.1195061 , -0.20152697,  0.4288271 ,\n",
       "        1.2774311 , -0.752937  ,  0.1380254 , -0.5435441 ,  0.34722462,\n",
       "       -1.2384841 , -0.07809101,  0.24854597, -2.87392   ,  1.5567229 ],\n",
       "      dtype=float32)"
      ]
     },
     "execution_count": 336,
     "metadata": {},
     "output_type": "execute_result"
    }
   ],
   "source": [
    "word_vector(df.preprocessed_text[2])"
   ]
  },
  {
   "cell_type": "code",
   "execution_count": 338,
   "metadata": {},
   "outputs": [],
   "source": [
    "df['vector'] = df['preprocessed_text'].apply(word_vector)"
   ]
  },
  {
   "cell_type": "code",
   "execution_count": 360,
   "metadata": {},
   "outputs": [
    {
     "data": {
      "text/html": [
       "<div>\n",
       "<style scoped>\n",
       "    .dataframe tbody tr th:only-of-type {\n",
       "        vertical-align: middle;\n",
       "    }\n",
       "\n",
       "    .dataframe tbody tr th {\n",
       "        vertical-align: top;\n",
       "    }\n",
       "\n",
       "    .dataframe thead th {\n",
       "        text-align: right;\n",
       "    }\n",
       "</style>\n",
       "<table border=\"1\" class=\"dataframe\">\n",
       "  <thead>\n",
       "    <tr style=\"text-align: right;\">\n",
       "      <th></th>\n",
       "      <th>category</th>\n",
       "      <th>short_description</th>\n",
       "      <th>target</th>\n",
       "      <th>preprocessed_text</th>\n",
       "      <th>vector</th>\n",
       "    </tr>\n",
       "  </thead>\n",
       "  <tbody>\n",
       "    <tr>\n",
       "      <th>0</th>\n",
       "      <td>CRIME</td>\n",
       "      <td>Some people will do anything for a Five Guys b...</td>\n",
       "      <td>2</td>\n",
       "      <td>people guy burger allegedly</td>\n",
       "      <td>[-1.82685, 0.5247851, -3.92625, 0.4604175, 0.9...</td>\n",
       "    </tr>\n",
       "    <tr>\n",
       "      <th>1</th>\n",
       "      <td>CRIME</td>\n",
       "      <td></td>\n",
       "      <td>2</td>\n",
       "      <td></td>\n",
       "      <td>[0.0, 0.0, 0.0, 0.0, 0.0, 0.0, 0.0, 0.0, 0.0, ...</td>\n",
       "    </tr>\n",
       "    <tr>\n",
       "      <th>2</th>\n",
       "      <td>BUSINESS</td>\n",
       "      <td>New technology offers a glimpse into what 21st...</td>\n",
       "      <td>0</td>\n",
       "      <td>new technology offer glimpse 21st century urba...</td>\n",
       "      <td>[0.46615705, 0.29726297, 0.90944016, -0.635389...</td>\n",
       "    </tr>\n",
       "    <tr>\n",
       "      <th>3</th>\n",
       "      <td>BUSINESS</td>\n",
       "      <td>“Good things come in threes,\" she told azfamil...</td>\n",
       "      <td>0</td>\n",
       "      <td>good thing come three tell azfamily.com compar...</td>\n",
       "      <td>[-1.1675137, -0.6381413, -1.2195907, 0.8574025...</td>\n",
       "    </tr>\n",
       "    <tr>\n",
       "      <th>4</th>\n",
       "      <td>SPORTS</td>\n",
       "      <td>Scroll down for LIVE updates. Stanley Cup Fina...</td>\n",
       "      <td>1</td>\n",
       "      <td>scroll live update Stanley Cup Final Game 2 Lo...</td>\n",
       "      <td>[-0.85084945, -1.2317462, 0.46607557, 3.039693...</td>\n",
       "    </tr>\n",
       "  </tbody>\n",
       "</table>\n",
       "</div>"
      ],
      "text/plain": [
       "   category                                  short_description  target  \\\n",
       "0     CRIME  Some people will do anything for a Five Guys b...       2   \n",
       "1     CRIME                                                          2   \n",
       "2  BUSINESS  New technology offers a glimpse into what 21st...       0   \n",
       "3  BUSINESS  “Good things come in threes,\" she told azfamil...       0   \n",
       "4    SPORTS  Scroll down for LIVE updates. Stanley Cup Fina...       1   \n",
       "\n",
       "                                   preprocessed_text  \\\n",
       "0                        people guy burger allegedly   \n",
       "1                                                      \n",
       "2  new technology offer glimpse 21st century urba...   \n",
       "3  good thing come three tell azfamily.com compar...   \n",
       "4  scroll live update Stanley Cup Final Game 2 Lo...   \n",
       "\n",
       "                                              vector  \n",
       "0  [-1.82685, 0.5247851, -3.92625, 0.4604175, 0.9...  \n",
       "1  [0.0, 0.0, 0.0, 0.0, 0.0, 0.0, 0.0, 0.0, 0.0, ...  \n",
       "2  [0.46615705, 0.29726297, 0.90944016, -0.635389...  \n",
       "3  [-1.1675137, -0.6381413, -1.2195907, 0.8574025...  \n",
       "4  [-0.85084945, -1.2317462, 0.46607557, 3.039693...  "
      ]
     },
     "execution_count": 360,
     "metadata": {},
     "output_type": "execute_result"
    }
   ],
   "source": [
    "df.head()"
   ]
  },
  {
   "attachments": {},
   "cell_type": "markdown",
   "metadata": {},
   "source": [
    "<font font size=\"6px\" color= \"Blue\">Model training</font>"
   ]
  },
  {
   "cell_type": "code",
   "execution_count": 349,
   "metadata": {},
   "outputs": [],
   "source": [
    "from sklearn.model_selection import train_test_split"
   ]
  },
  {
   "attachments": {},
   "cell_type": "markdown",
   "metadata": {},
   "source": [
    "using bag of words"
   ]
  },
  {
   "cell_type": "code",
   "execution_count": 434,
   "metadata": {},
   "outputs": [],
   "source": [
    "X_train, X_test, y_train, y_test= train_test_split(df.short_description, df.target, test_size = 0.2, random_state = 2002)"
   ]
  },
  {
   "cell_type": "code",
   "execution_count": 438,
   "metadata": {},
   "outputs": [
    {
     "data": {
      "text/plain": [
       "((9600,), (2400,))"
      ]
     },
     "execution_count": 438,
     "metadata": {},
     "output_type": "execute_result"
    }
   ],
   "source": [
    "X_train.shape, X_test.shape"
   ]
  },
  {
   "attachments": {},
   "cell_type": "markdown",
   "metadata": {},
   "source": [
    "<font font size=\"6px\" color= \"red\">K Nearest Neighbour Classifier</font>"
   ]
  },
  {
   "cell_type": "code",
   "execution_count": 457,
   "metadata": {},
   "outputs": [],
   "source": [
    "from sklearn.neighbors import KNeighborsClassifier\n",
    "from sklearn.naive_bayes import MultinomialNB\n",
    "from sklearn.metrics import classification_report, accuracy_score"
   ]
  },
  {
   "cell_type": "code",
   "execution_count": 458,
   "metadata": {},
   "outputs": [],
   "source": [
    "clf = KNeighborsClassifier(n_neighbors=5, metric='euclidean')\n",
    "clf1 = MultinomialNB()\n"
   ]
  },
  {
   "cell_type": "code",
   "execution_count": 459,
   "metadata": {},
   "outputs": [],
   "source": [
    "#import countvectorizer for bag of words\n",
    "from sklearn.feature_extraction.text import CountVectorizer"
   ]
  },
  {
   "cell_type": "code",
   "execution_count": 460,
   "metadata": {},
   "outputs": [
    {
     "data": {
      "text/plain": [
       "((9600, 16525), (2400, 16525))"
      ]
     },
     "execution_count": 460,
     "metadata": {},
     "output_type": "execute_result"
    }
   ],
   "source": [
    "cv = CountVectorizer()\n",
    "X_train_cv = cv.fit_transform(X_train)\n",
    "X_test_cv = cv.transform(X_test)\n",
    "X_train_cv.shape, X_test_cv.shape"
   ]
  },
  {
   "cell_type": "code",
   "execution_count": 461,
   "metadata": {},
   "outputs": [
    {
     "data": {
      "text/plain": [
       "array(['00', '000', '0000', ..., 'zuzanna', 'zuzu', 'zywicki'],\n",
       "      dtype=object)"
      ]
     },
     "execution_count": 461,
     "metadata": {},
     "output_type": "execute_result"
    }
   ],
   "source": [
    "cv.get_feature_names_out([1, 5])"
   ]
  },
  {
   "cell_type": "code",
   "execution_count": 462,
   "metadata": {},
   "outputs": [
    {
     "data": {
      "text/plain": [
       "array([[0, 0, 0, ..., 0, 0, 0],\n",
       "       [0, 0, 0, ..., 0, 0, 0],\n",
       "       [0, 0, 0, ..., 0, 0, 0],\n",
       "       ...,\n",
       "       [0, 0, 0, ..., 0, 0, 0],\n",
       "       [0, 0, 0, ..., 0, 0, 0],\n",
       "       [0, 0, 0, ..., 0, 0, 0]], dtype=int64)"
      ]
     },
     "execution_count": 462,
     "metadata": {},
     "output_type": "execute_result"
    }
   ],
   "source": [
    "X_train_cv.toarray()"
   ]
  },
  {
   "cell_type": "code",
   "execution_count": 468,
   "metadata": {},
   "outputs": [
    {
     "data": {
      "text/html": [
       "<style>#sk-container-id-11 {color: black;background-color: white;}#sk-container-id-11 pre{padding: 0;}#sk-container-id-11 div.sk-toggleable {background-color: white;}#sk-container-id-11 label.sk-toggleable__label {cursor: pointer;display: block;width: 100%;margin-bottom: 0;padding: 0.3em;box-sizing: border-box;text-align: center;}#sk-container-id-11 label.sk-toggleable__label-arrow:before {content: \"▸\";float: left;margin-right: 0.25em;color: #696969;}#sk-container-id-11 label.sk-toggleable__label-arrow:hover:before {color: black;}#sk-container-id-11 div.sk-estimator:hover label.sk-toggleable__label-arrow:before {color: black;}#sk-container-id-11 div.sk-toggleable__content {max-height: 0;max-width: 0;overflow: hidden;text-align: left;background-color: #f0f8ff;}#sk-container-id-11 div.sk-toggleable__content pre {margin: 0.2em;color: black;border-radius: 0.25em;background-color: #f0f8ff;}#sk-container-id-11 input.sk-toggleable__control:checked~div.sk-toggleable__content {max-height: 200px;max-width: 100%;overflow: auto;}#sk-container-id-11 input.sk-toggleable__control:checked~label.sk-toggleable__label-arrow:before {content: \"▾\";}#sk-container-id-11 div.sk-estimator input.sk-toggleable__control:checked~label.sk-toggleable__label {background-color: #d4ebff;}#sk-container-id-11 div.sk-label input.sk-toggleable__control:checked~label.sk-toggleable__label {background-color: #d4ebff;}#sk-container-id-11 input.sk-hidden--visually {border: 0;clip: rect(1px 1px 1px 1px);clip: rect(1px, 1px, 1px, 1px);height: 1px;margin: -1px;overflow: hidden;padding: 0;position: absolute;width: 1px;}#sk-container-id-11 div.sk-estimator {font-family: monospace;background-color: #f0f8ff;border: 1px dotted black;border-radius: 0.25em;box-sizing: border-box;margin-bottom: 0.5em;}#sk-container-id-11 div.sk-estimator:hover {background-color: #d4ebff;}#sk-container-id-11 div.sk-parallel-item::after {content: \"\";width: 100%;border-bottom: 1px solid gray;flex-grow: 1;}#sk-container-id-11 div.sk-label:hover label.sk-toggleable__label {background-color: #d4ebff;}#sk-container-id-11 div.sk-serial::before {content: \"\";position: absolute;border-left: 1px solid gray;box-sizing: border-box;top: 0;bottom: 0;left: 50%;z-index: 0;}#sk-container-id-11 div.sk-serial {display: flex;flex-direction: column;align-items: center;background-color: white;padding-right: 0.2em;padding-left: 0.2em;position: relative;}#sk-container-id-11 div.sk-item {position: relative;z-index: 1;}#sk-container-id-11 div.sk-parallel {display: flex;align-items: stretch;justify-content: center;background-color: white;position: relative;}#sk-container-id-11 div.sk-item::before, #sk-container-id-11 div.sk-parallel-item::before {content: \"\";position: absolute;border-left: 1px solid gray;box-sizing: border-box;top: 0;bottom: 0;left: 50%;z-index: -1;}#sk-container-id-11 div.sk-parallel-item {display: flex;flex-direction: column;z-index: 1;position: relative;background-color: white;}#sk-container-id-11 div.sk-parallel-item:first-child::after {align-self: flex-end;width: 50%;}#sk-container-id-11 div.sk-parallel-item:last-child::after {align-self: flex-start;width: 50%;}#sk-container-id-11 div.sk-parallel-item:only-child::after {width: 0;}#sk-container-id-11 div.sk-dashed-wrapped {border: 1px dashed gray;margin: 0 0.4em 0.5em 0.4em;box-sizing: border-box;padding-bottom: 0.4em;background-color: white;}#sk-container-id-11 div.sk-label label {font-family: monospace;font-weight: bold;display: inline-block;line-height: 1.2em;}#sk-container-id-11 div.sk-label-container {text-align: center;}#sk-container-id-11 div.sk-container {/* jupyter's `normalize.less` sets `[hidden] { display: none; }` but bootstrap.min.css set `[hidden] { display: none !important; }` so we also need the `!important` here to be able to override the default hidden behavior on the sphinx rendered scikit-learn.org. See: https://github.com/scikit-learn/scikit-learn/issues/21755 */display: inline-block !important;position: relative;}#sk-container-id-11 div.sk-text-repr-fallback {display: none;}</style><div id=\"sk-container-id-11\" class=\"sk-top-container\"><div class=\"sk-text-repr-fallback\"><pre>KNeighborsClassifier(metric=&#x27;euclidean&#x27;)</pre><b>In a Jupyter environment, please rerun this cell to show the HTML representation or trust the notebook. <br />On GitHub, the HTML representation is unable to render, please try loading this page with nbviewer.org.</b></div><div class=\"sk-container\" hidden><div class=\"sk-item\"><div class=\"sk-estimator sk-toggleable\"><input class=\"sk-toggleable__control sk-hidden--visually\" id=\"sk-estimator-id-11\" type=\"checkbox\" checked><label for=\"sk-estimator-id-11\" class=\"sk-toggleable__label sk-toggleable__label-arrow\">KNeighborsClassifier</label><div class=\"sk-toggleable__content\"><pre>KNeighborsClassifier(metric=&#x27;euclidean&#x27;)</pre></div></div></div></div></div>"
      ],
      "text/plain": [
       "KNeighborsClassifier(metric='euclidean')"
      ]
     },
     "execution_count": 468,
     "metadata": {},
     "output_type": "execute_result"
    }
   ],
   "source": [
    "clf.fit(X_train_cv, y_train)"
   ]
  },
  {
   "cell_type": "code",
   "execution_count": 469,
   "metadata": {},
   "outputs": [],
   "source": [
    "y_pred = clf.predict(X_test_cv)"
   ]
  },
  {
   "cell_type": "code",
   "execution_count": 470,
   "metadata": {},
   "outputs": [
    {
     "name": "stdout",
     "output_type": "stream",
     "text": [
      "              precision    recall  f1-score   support\n",
      "\n",
      "           0       0.42      0.26      0.32      1002\n",
      "           1       0.33      0.63      0.43       824\n",
      "           2       0.34      0.11      0.17       574\n",
      "\n",
      "    accuracy                           0.35      2400\n",
      "   macro avg       0.36      0.33      0.31      2400\n",
      "weighted avg       0.37      0.35      0.32      2400\n",
      "\n"
     ]
    },
    {
     "data": {
      "text/plain": [
       "0.3516666666666667"
      ]
     },
     "execution_count": 470,
     "metadata": {},
     "output_type": "execute_result"
    }
   ],
   "source": [
    "print(classification_report(y_test, y_pred))\n",
    "accuracy_score(y_test, y_pred)"
   ]
  },
  {
   "attachments": {},
   "cell_type": "markdown",
   "metadata": {},
   "source": [
    "using word embedding"
   ]
  },
  {
   "cell_type": "code",
   "execution_count": 471,
   "metadata": {},
   "outputs": [],
   "source": [
    "X_train, X_test, y_train, y_test= train_test_split(df.vector, df.target, test_size = 0.2, random_state = 2002)"
   ]
  },
  {
   "cell_type": "code",
   "execution_count": 472,
   "metadata": {},
   "outputs": [
    {
     "data": {
      "text/plain": [
       "((9600,), (2400,))"
      ]
     },
     "execution_count": 472,
     "metadata": {},
     "output_type": "execute_result"
    }
   ],
   "source": [
    "X_train.shape, X_test.shape"
   ]
  },
  {
   "cell_type": "code",
   "execution_count": 473,
   "metadata": {},
   "outputs": [
    {
     "data": {
      "text/plain": [
       "((9600, 300), (2400, 300))"
      ]
     },
     "execution_count": 473,
     "metadata": {},
     "output_type": "execute_result"
    }
   ],
   "source": [
    "# make a 2-d vector using numpy stack\n",
    "import numpy as np\n",
    "X_train_2d = np.stack(X_train)\n",
    "X_test_2d = np.stack(X_test)\n",
    "X_train_2d.shape, X_test_2d.shape"
   ]
  },
  {
   "cell_type": "code",
   "execution_count": 484,
   "metadata": {},
   "outputs": [
    {
     "data": {
      "text/plain": [
       "array([ 2.08900034e-01,  7.90354788e-01, -4.01833147e-01, -5.18750012e-01,\n",
       "        2.06934619e+00,  5.79717636e-01,  1.52272388e-01,  3.08135009e+00,\n",
       "        1.19578004e+00,  1.46414256e+00,  1.20449328e+00,  5.84037423e-01,\n",
       "       -1.79833245e+00,  2.21467555e-01,  5.26603997e-01,  5.42646289e-01,\n",
       "       -6.77438796e-01,  1.29816258e+00,  6.29975379e-01, -6.25894904e-01,\n",
       "        1.03065860e+00,  3.08369994e-01,  2.00464630e+00, -1.95921242e-01,\n",
       "       -7.43736446e-01, -1.12346292e-01, -2.38189387e+00, -1.78906000e+00,\n",
       "        7.38749981e-01,  1.20572996e+00,  2.65397489e-01,  3.18515003e-01,\n",
       "        8.53244066e-02, -1.44891131e+00, -8.31946254e-01, -1.34275866e+00,\n",
       "       -6.72364950e-01,  2.80136228e-01, -2.55365014e-01, -5.03412545e-01,\n",
       "       -1.14773524e+00, -9.59487498e-01,  1.69325495e+00,  1.66961238e-01,\n",
       "        4.29253727e-01,  4.17677611e-01, -3.06072503e-01,  2.75316268e-01,\n",
       "       -5.77652514e-01, -2.79631257e-01,  8.64398718e-01, -8.35962474e-01,\n",
       "       -2.82207489e-01, -7.63192326e-02,  4.01750058e-02, -1.27969360e+00,\n",
       "        1.09948385e+00, -2.19997883e+00,  2.58754969e-01,  1.27296495e+00,\n",
       "       -1.37138224e+00, -6.55898809e-01, -2.23999119e+00,  3.01518708e-01,\n",
       "        1.29270375e+00,  2.36282140e-01, -1.63137245e+00,  8.04739833e-01,\n",
       "       -1.09747052e-03,  2.60640383e+00,  9.30201292e-01,  4.88728791e-01,\n",
       "       -5.17802477e-01,  1.15601271e-01,  1.19048762e+00,  1.22154999e+00,\n",
       "        5.21087527e-01, -8.36059928e-01, -9.37252522e-01,  5.43645024e-01,\n",
       "       -1.30210257e+00, -2.45724618e-02,  2.23402485e-01,  5.20227492e-01,\n",
       "        1.32033253e+00,  1.32942468e-01,  1.94944906e+00,  7.94695020e-01,\n",
       "       -6.64443612e-01,  3.69055033e-01,  4.55162495e-01, -3.52198720e-01,\n",
       "       -1.25903630e+00,  1.58753723e-01,  1.79950148e-02, -5.13935804e-01,\n",
       "       -4.63933766e-01, -1.20177245e+00,  2.68891245e-01,  9.63540018e-01,\n",
       "       -4.71923724e-02,  1.52500510e+00, -1.68099999e-01,  3.24218810e-01,\n",
       "        1.83488697e-01, -2.74724960e-01, -3.73871267e-01, -5.38875163e-02,\n",
       "       -1.55518246e+00, -1.76438734e-01, -7.02470064e-01, -2.95315266e+00,\n",
       "       -1.25376117e+00, -2.01367736e-02, -7.75825083e-02,  4.52085018e-01,\n",
       "       -6.00555092e-02, -6.40612125e-01,  9.18093801e-01, -9.46849585e-02,\n",
       "        2.52630144e-01, -1.73181379e+00,  1.80787072e-02,  7.10720062e-01,\n",
       "       -1.80183613e+00,  6.48125052e-01,  9.34550047e-01,  1.91502762e+00,\n",
       "        1.34589124e+00,  1.06644273e+00, -3.60473365e-01,  9.54901218e-01,\n",
       "        7.41332233e-01, -1.68408740e+00, -7.59786248e-01, -1.02765119e+00,\n",
       "       -3.94151211e-01,  5.34578741e-01,  2.10223985e+00,  5.92490137e-01,\n",
       "       -3.09716970e-01,  6.29368782e-01,  3.83603275e-01,  1.75227630e+00,\n",
       "        6.35706246e-01,  1.68059492e+00, -1.99477506e+00, -2.57742524e-01,\n",
       "       -1.63476372e+00,  3.66008699e-01,  6.03107512e-01,  5.07759988e-01,\n",
       "        1.17166567e+00,  1.10537755e+00,  2.42321923e-01,  1.26243234e+00,\n",
       "        1.64817381e+00, -1.60257125e+00,  9.13650036e-01, -3.44675004e-01,\n",
       "       -1.62527502e-01, -1.35550439e+00, -9.84262079e-02, -5.14140487e-01,\n",
       "       -2.56294996e-01,  1.10203254e+00, -3.26540232e-01,  7.03037381e-02,\n",
       "        1.76513255e-01,  1.98067510e+00, -3.83224696e-01,  1.92931008e+00,\n",
       "        1.39679742e+00, -1.40577102e+00, -1.16093493e+00, -4.62936223e-01,\n",
       "       -2.07857752e+00, -1.78985500e+00, -4.21237499e-01, -3.11656266e-01,\n",
       "        2.58385003e-01, -1.13144957e-01, -9.28982496e-01,  6.66061878e-01,\n",
       "       -1.65472507e+00,  7.55764961e-01,  5.47508776e-01, -1.47638750e+00,\n",
       "        8.08586180e-01, -8.15550685e-02, -4.93297458e-01, -1.43018007e+00,\n",
       "        6.61482513e-01, -1.00616252e+00, -9.54716206e-01,  3.54104966e-01,\n",
       "       -4.53835011e-01, -7.04816222e-01, -5.13307452e-01,  4.21999991e-01,\n",
       "        1.66926205e-01,  1.16847122e+00,  2.56775022e-01, -1.48067868e+00,\n",
       "        8.67791235e-01,  2.02732354e-01, -4.80951518e-02, -6.71776295e-01,\n",
       "       -1.07998621e+00,  3.56542498e-01, -1.08599246e+00,  1.08209038e+00,\n",
       "       -2.04920626e+00, -8.52722406e-01, -4.41901267e-01,  1.24597356e-01,\n",
       "        5.47771335e-01,  1.64962597e-02, -1.66594255e+00, -3.64160031e-01,\n",
       "        3.32938731e-01, -4.42730516e-01, -6.73037529e-01,  1.74475241e+00,\n",
       "       -1.49491632e+00,  7.38609880e-02, -6.37369990e-01,  2.12124634e+00,\n",
       "        1.32654369e+00, -6.33244991e-01,  1.35911369e+00, -2.58651286e-01,\n",
       "       -1.84844124e+00,  2.29580015e-01, -1.36373997e+00,  3.38110000e-01,\n",
       "       -4.37438726e-01,  5.69337308e-02,  4.67289209e-01, -1.00782663e-01,\n",
       "       -1.36523986e+00,  3.86646539e-01,  1.38139009e+00,  9.67979968e-01,\n",
       "        8.09566259e-01, -1.40287054e+00, -6.09387517e-01,  3.31116289e-01,\n",
       "       -2.51256371e+00,  1.80107045e+00, -8.48031044e-01,  7.39442587e-01,\n",
       "       -1.68821132e+00,  7.15951025e-01,  1.10105753e+00, -6.85166299e-01,\n",
       "        2.92106211e-01, -1.16267991e+00,  1.50485873e+00,  5.00272512e-01,\n",
       "        3.98697466e-01,  2.10387647e-01,  9.89763737e-01,  1.79033145e-01,\n",
       "        1.68563724e-01, -2.52207875e+00, -1.28630722e+00, -2.01165035e-01,\n",
       "       -1.16504109e+00, -1.17827630e+00, -5.64538717e-01, -6.73133969e-01,\n",
       "       -2.55278796e-01, -4.40257490e-01, -1.98293701e-01, -1.51957500e+00,\n",
       "        6.47165656e-01, -2.19272256e+00,  1.11063123e+00,  3.96731287e-01,\n",
       "        1.04327530e-01,  3.25893730e-01,  2.05100011e-02, -1.37537825e+00,\n",
       "        4.14535344e-01,  9.20496285e-01, -2.16318250e+00, -3.44402492e-01,\n",
       "       -1.59339595e+00,  1.72607511e-01,  1.39223814e-01,  1.03645235e-01,\n",
       "        3.02724659e-01,  1.11072755e+00, -1.84100246e+00,  2.18027472e-01,\n",
       "       -1.91574961e-01,  7.35474825e-02,  8.11600089e-01, -1.09120440e+00],\n",
       "      dtype=float32)"
      ]
     },
     "execution_count": 484,
     "metadata": {},
     "output_type": "execute_result"
    }
   ],
   "source": [
    "X_train_2d[0].size\n",
    "X_train_2d[10]"
   ]
  },
  {
   "cell_type": "code",
   "execution_count": 490,
   "metadata": {},
   "outputs": [
    {
     "data": {
      "text/html": [
       "<style>#sk-container-id-13 {color: black;background-color: white;}#sk-container-id-13 pre{padding: 0;}#sk-container-id-13 div.sk-toggleable {background-color: white;}#sk-container-id-13 label.sk-toggleable__label {cursor: pointer;display: block;width: 100%;margin-bottom: 0;padding: 0.3em;box-sizing: border-box;text-align: center;}#sk-container-id-13 label.sk-toggleable__label-arrow:before {content: \"▸\";float: left;margin-right: 0.25em;color: #696969;}#sk-container-id-13 label.sk-toggleable__label-arrow:hover:before {color: black;}#sk-container-id-13 div.sk-estimator:hover label.sk-toggleable__label-arrow:before {color: black;}#sk-container-id-13 div.sk-toggleable__content {max-height: 0;max-width: 0;overflow: hidden;text-align: left;background-color: #f0f8ff;}#sk-container-id-13 div.sk-toggleable__content pre {margin: 0.2em;color: black;border-radius: 0.25em;background-color: #f0f8ff;}#sk-container-id-13 input.sk-toggleable__control:checked~div.sk-toggleable__content {max-height: 200px;max-width: 100%;overflow: auto;}#sk-container-id-13 input.sk-toggleable__control:checked~label.sk-toggleable__label-arrow:before {content: \"▾\";}#sk-container-id-13 div.sk-estimator input.sk-toggleable__control:checked~label.sk-toggleable__label {background-color: #d4ebff;}#sk-container-id-13 div.sk-label input.sk-toggleable__control:checked~label.sk-toggleable__label {background-color: #d4ebff;}#sk-container-id-13 input.sk-hidden--visually {border: 0;clip: rect(1px 1px 1px 1px);clip: rect(1px, 1px, 1px, 1px);height: 1px;margin: -1px;overflow: hidden;padding: 0;position: absolute;width: 1px;}#sk-container-id-13 div.sk-estimator {font-family: monospace;background-color: #f0f8ff;border: 1px dotted black;border-radius: 0.25em;box-sizing: border-box;margin-bottom: 0.5em;}#sk-container-id-13 div.sk-estimator:hover {background-color: #d4ebff;}#sk-container-id-13 div.sk-parallel-item::after {content: \"\";width: 100%;border-bottom: 1px solid gray;flex-grow: 1;}#sk-container-id-13 div.sk-label:hover label.sk-toggleable__label {background-color: #d4ebff;}#sk-container-id-13 div.sk-serial::before {content: \"\";position: absolute;border-left: 1px solid gray;box-sizing: border-box;top: 0;bottom: 0;left: 50%;z-index: 0;}#sk-container-id-13 div.sk-serial {display: flex;flex-direction: column;align-items: center;background-color: white;padding-right: 0.2em;padding-left: 0.2em;position: relative;}#sk-container-id-13 div.sk-item {position: relative;z-index: 1;}#sk-container-id-13 div.sk-parallel {display: flex;align-items: stretch;justify-content: center;background-color: white;position: relative;}#sk-container-id-13 div.sk-item::before, #sk-container-id-13 div.sk-parallel-item::before {content: \"\";position: absolute;border-left: 1px solid gray;box-sizing: border-box;top: 0;bottom: 0;left: 50%;z-index: -1;}#sk-container-id-13 div.sk-parallel-item {display: flex;flex-direction: column;z-index: 1;position: relative;background-color: white;}#sk-container-id-13 div.sk-parallel-item:first-child::after {align-self: flex-end;width: 50%;}#sk-container-id-13 div.sk-parallel-item:last-child::after {align-self: flex-start;width: 50%;}#sk-container-id-13 div.sk-parallel-item:only-child::after {width: 0;}#sk-container-id-13 div.sk-dashed-wrapped {border: 1px dashed gray;margin: 0 0.4em 0.5em 0.4em;box-sizing: border-box;padding-bottom: 0.4em;background-color: white;}#sk-container-id-13 div.sk-label label {font-family: monospace;font-weight: bold;display: inline-block;line-height: 1.2em;}#sk-container-id-13 div.sk-label-container {text-align: center;}#sk-container-id-13 div.sk-container {/* jupyter's `normalize.less` sets `[hidden] { display: none; }` but bootstrap.min.css set `[hidden] { display: none !important; }` so we also need the `!important` here to be able to override the default hidden behavior on the sphinx rendered scikit-learn.org. See: https://github.com/scikit-learn/scikit-learn/issues/21755 */display: inline-block !important;position: relative;}#sk-container-id-13 div.sk-text-repr-fallback {display: none;}</style><div id=\"sk-container-id-13\" class=\"sk-top-container\"><div class=\"sk-text-repr-fallback\"><pre>KNeighborsClassifier(metric=&#x27;euclidean&#x27;)</pre><b>In a Jupyter environment, please rerun this cell to show the HTML representation or trust the notebook. <br />On GitHub, the HTML representation is unable to render, please try loading this page with nbviewer.org.</b></div><div class=\"sk-container\" hidden><div class=\"sk-item\"><div class=\"sk-estimator sk-toggleable\"><input class=\"sk-toggleable__control sk-hidden--visually\" id=\"sk-estimator-id-13\" type=\"checkbox\" checked><label for=\"sk-estimator-id-13\" class=\"sk-toggleable__label sk-toggleable__label-arrow\">KNeighborsClassifier</label><div class=\"sk-toggleable__content\"><pre>KNeighborsClassifier(metric=&#x27;euclidean&#x27;)</pre></div></div></div></div></div>"
      ],
      "text/plain": [
       "KNeighborsClassifier(metric='euclidean')"
      ]
     },
     "execution_count": 490,
     "metadata": {},
     "output_type": "execute_result"
    }
   ],
   "source": [
    "clf.fit(X_train_2d, y_train)"
   ]
  },
  {
   "cell_type": "code",
   "execution_count": 491,
   "metadata": {},
   "outputs": [],
   "source": [
    "y_pred1 = clf.predict(X_test_2d)"
   ]
  },
  {
   "cell_type": "code",
   "execution_count": 492,
   "metadata": {},
   "outputs": [
    {
     "name": "stdout",
     "output_type": "stream",
     "text": [
      "              precision    recall  f1-score   support\n",
      "\n",
      "           0       0.71      0.76      0.73      1002\n",
      "           1       0.85      0.55      0.67       824\n",
      "           2       0.53      0.74      0.62       574\n",
      "\n",
      "    accuracy                           0.68      2400\n",
      "   macro avg       0.70      0.68      0.67      2400\n",
      "weighted avg       0.72      0.68      0.68      2400\n",
      "\n"
     ]
    },
    {
     "data": {
      "text/plain": [
       "0.6816666666666666"
      ]
     },
     "execution_count": 492,
     "metadata": {},
     "output_type": "execute_result"
    }
   ],
   "source": [
    "print(classification_report(y_test, y_pred1))\n",
    "accuracy_score(y_test, y_pred1)"
   ]
  },
  {
   "attachments": {},
   "cell_type": "markdown",
   "metadata": {},
   "source": [
    "using MultinomialNB"
   ]
  },
  {
   "cell_type": "code",
   "execution_count": 493,
   "metadata": {},
   "outputs": [],
   "source": [
    "from sklearn.preprocessing import MinMaxScaler"
   ]
  },
  {
   "cell_type": "code",
   "execution_count": 498,
   "metadata": {},
   "outputs": [],
   "source": [
    "scaler = MinMaxScaler()\n",
    "X_train_scaled = scaler.fit_transform(X_train_2d)\n",
    "X_test_scaled = scaler.transform(X_test_2d)"
   ]
  },
  {
   "cell_type": "code",
   "execution_count": 500,
   "metadata": {},
   "outputs": [
    {
     "data": {
      "text/html": [
       "<style>#sk-container-id-16 {color: black;background-color: white;}#sk-container-id-16 pre{padding: 0;}#sk-container-id-16 div.sk-toggleable {background-color: white;}#sk-container-id-16 label.sk-toggleable__label {cursor: pointer;display: block;width: 100%;margin-bottom: 0;padding: 0.3em;box-sizing: border-box;text-align: center;}#sk-container-id-16 label.sk-toggleable__label-arrow:before {content: \"▸\";float: left;margin-right: 0.25em;color: #696969;}#sk-container-id-16 label.sk-toggleable__label-arrow:hover:before {color: black;}#sk-container-id-16 div.sk-estimator:hover label.sk-toggleable__label-arrow:before {color: black;}#sk-container-id-16 div.sk-toggleable__content {max-height: 0;max-width: 0;overflow: hidden;text-align: left;background-color: #f0f8ff;}#sk-container-id-16 div.sk-toggleable__content pre {margin: 0.2em;color: black;border-radius: 0.25em;background-color: #f0f8ff;}#sk-container-id-16 input.sk-toggleable__control:checked~div.sk-toggleable__content {max-height: 200px;max-width: 100%;overflow: auto;}#sk-container-id-16 input.sk-toggleable__control:checked~label.sk-toggleable__label-arrow:before {content: \"▾\";}#sk-container-id-16 div.sk-estimator input.sk-toggleable__control:checked~label.sk-toggleable__label {background-color: #d4ebff;}#sk-container-id-16 div.sk-label input.sk-toggleable__control:checked~label.sk-toggleable__label {background-color: #d4ebff;}#sk-container-id-16 input.sk-hidden--visually {border: 0;clip: rect(1px 1px 1px 1px);clip: rect(1px, 1px, 1px, 1px);height: 1px;margin: -1px;overflow: hidden;padding: 0;position: absolute;width: 1px;}#sk-container-id-16 div.sk-estimator {font-family: monospace;background-color: #f0f8ff;border: 1px dotted black;border-radius: 0.25em;box-sizing: border-box;margin-bottom: 0.5em;}#sk-container-id-16 div.sk-estimator:hover {background-color: #d4ebff;}#sk-container-id-16 div.sk-parallel-item::after {content: \"\";width: 100%;border-bottom: 1px solid gray;flex-grow: 1;}#sk-container-id-16 div.sk-label:hover label.sk-toggleable__label {background-color: #d4ebff;}#sk-container-id-16 div.sk-serial::before {content: \"\";position: absolute;border-left: 1px solid gray;box-sizing: border-box;top: 0;bottom: 0;left: 50%;z-index: 0;}#sk-container-id-16 div.sk-serial {display: flex;flex-direction: column;align-items: center;background-color: white;padding-right: 0.2em;padding-left: 0.2em;position: relative;}#sk-container-id-16 div.sk-item {position: relative;z-index: 1;}#sk-container-id-16 div.sk-parallel {display: flex;align-items: stretch;justify-content: center;background-color: white;position: relative;}#sk-container-id-16 div.sk-item::before, #sk-container-id-16 div.sk-parallel-item::before {content: \"\";position: absolute;border-left: 1px solid gray;box-sizing: border-box;top: 0;bottom: 0;left: 50%;z-index: -1;}#sk-container-id-16 div.sk-parallel-item {display: flex;flex-direction: column;z-index: 1;position: relative;background-color: white;}#sk-container-id-16 div.sk-parallel-item:first-child::after {align-self: flex-end;width: 50%;}#sk-container-id-16 div.sk-parallel-item:last-child::after {align-self: flex-start;width: 50%;}#sk-container-id-16 div.sk-parallel-item:only-child::after {width: 0;}#sk-container-id-16 div.sk-dashed-wrapped {border: 1px dashed gray;margin: 0 0.4em 0.5em 0.4em;box-sizing: border-box;padding-bottom: 0.4em;background-color: white;}#sk-container-id-16 div.sk-label label {font-family: monospace;font-weight: bold;display: inline-block;line-height: 1.2em;}#sk-container-id-16 div.sk-label-container {text-align: center;}#sk-container-id-16 div.sk-container {/* jupyter's `normalize.less` sets `[hidden] { display: none; }` but bootstrap.min.css set `[hidden] { display: none !important; }` so we also need the `!important` here to be able to override the default hidden behavior on the sphinx rendered scikit-learn.org. See: https://github.com/scikit-learn/scikit-learn/issues/21755 */display: inline-block !important;position: relative;}#sk-container-id-16 div.sk-text-repr-fallback {display: none;}</style><div id=\"sk-container-id-16\" class=\"sk-top-container\"><div class=\"sk-text-repr-fallback\"><pre>MultinomialNB()</pre><b>In a Jupyter environment, please rerun this cell to show the HTML representation or trust the notebook. <br />On GitHub, the HTML representation is unable to render, please try loading this page with nbviewer.org.</b></div><div class=\"sk-container\" hidden><div class=\"sk-item\"><div class=\"sk-estimator sk-toggleable\"><input class=\"sk-toggleable__control sk-hidden--visually\" id=\"sk-estimator-id-16\" type=\"checkbox\" checked><label for=\"sk-estimator-id-16\" class=\"sk-toggleable__label sk-toggleable__label-arrow\">MultinomialNB</label><div class=\"sk-toggleable__content\"><pre>MultinomialNB()</pre></div></div></div></div></div>"
      ],
      "text/plain": [
       "MultinomialNB()"
      ]
     },
     "execution_count": 500,
     "metadata": {},
     "output_type": "execute_result"
    }
   ],
   "source": [
    "clf1.fit(X_train_scaled, y_train)"
   ]
  },
  {
   "cell_type": "code",
   "execution_count": 501,
   "metadata": {},
   "outputs": [],
   "source": [
    "y_pred = clf1.predict(X_test_scaled)"
   ]
  },
  {
   "cell_type": "code",
   "execution_count": 502,
   "metadata": {},
   "outputs": [
    {
     "name": "stdout",
     "output_type": "stream",
     "text": [
      "              precision    recall  f1-score   support\n",
      "\n",
      "           0       0.57      0.79      0.66      1002\n",
      "           1       0.52      0.60      0.55       824\n",
      "           2       0.89      0.08      0.15       574\n",
      "\n",
      "    accuracy                           0.56      2400\n",
      "   macro avg       0.66      0.49      0.46      2400\n",
      "weighted avg       0.63      0.56      0.50      2400\n",
      "\n"
     ]
    },
    {
     "data": {
      "text/plain": [
       "0.55625"
      ]
     },
     "execution_count": 502,
     "metadata": {},
     "output_type": "execute_result"
    }
   ],
   "source": [
    "print(classification_report(y_test, y_pred))\n",
    "accuracy_score(y_test, y_pred)"
   ]
  },
  {
   "attachments": {},
   "cell_type": "markdown",
   "metadata": {},
   "source": [
    "using random forest "
   ]
  },
  {
   "cell_type": "code",
   "execution_count": 504,
   "metadata": {},
   "outputs": [],
   "source": [
    "from sklearn.ensemble import RandomForestClassifier"
   ]
  },
  {
   "cell_type": "code",
   "execution_count": 505,
   "metadata": {},
   "outputs": [],
   "source": [
    "clf = RandomForestClassifier()\n",
    "clf.fit(X_train_scaled, y_train)\n",
    "y_pred = clf.predict(X_test_scaled)"
   ]
  },
  {
   "cell_type": "code",
   "execution_count": 506,
   "metadata": {},
   "outputs": [
    {
     "name": "stdout",
     "output_type": "stream",
     "text": [
      "              precision    recall  f1-score   support\n",
      "\n",
      "           0       0.69      0.88      0.77      1002\n",
      "           1       0.77      0.69      0.73       824\n",
      "           2       0.81      0.53      0.64       574\n",
      "\n",
      "    accuracy                           0.73      2400\n",
      "   macro avg       0.76      0.70      0.72      2400\n",
      "weighted avg       0.75      0.73      0.73      2400\n",
      "\n"
     ]
    },
    {
     "data": {
      "text/plain": [
       "0.7345833333333334"
      ]
     },
     "execution_count": 506,
     "metadata": {},
     "output_type": "execute_result"
    }
   ],
   "source": [
    "print(classification_report(y_test, y_pred))\n",
    "accuracy_score(y_test, y_pred)"
   ]
  },
  {
   "attachments": {},
   "cell_type": "markdown",
   "metadata": {},
   "source": [
    "using gradient boosting classifier"
   ]
  },
  {
   "cell_type": "code",
   "execution_count": 507,
   "metadata": {},
   "outputs": [],
   "source": [
    "from sklearn.ensemble import GradientBoostingClassifier"
   ]
  },
  {
   "cell_type": "code",
   "execution_count": 508,
   "metadata": {},
   "outputs": [],
   "source": [
    "clf = GradientBoostingClassifier()\n",
    "clf.fit(X_train_scaled, y_train)\n",
    "y_pred = clf.predict(X_test_scaled)\n"
   ]
  },
  {
   "cell_type": "code",
   "execution_count": 509,
   "metadata": {},
   "outputs": [
    {
     "name": "stdout",
     "output_type": "stream",
     "text": [
      "              precision    recall  f1-score   support\n",
      "\n",
      "           0       0.71      0.88      0.78      1002\n",
      "           1       0.80      0.71      0.75       824\n",
      "           2       0.79      0.58      0.67       574\n",
      "\n",
      "    accuracy                           0.75      2400\n",
      "   macro avg       0.77      0.72      0.74      2400\n",
      "weighted avg       0.76      0.75      0.75      2400\n",
      "\n"
     ]
    },
    {
     "data": {
      "text/plain": [
       "0.7508333333333334"
      ]
     },
     "execution_count": 509,
     "metadata": {},
     "output_type": "execute_result"
    }
   ],
   "source": [
    "print(classification_report(y_test, y_pred))\n",
    "accuracy_score(y_test, y_pred)"
   ]
  },
  {
   "cell_type": "code",
   "execution_count": 518,
   "metadata": {},
   "outputs": [],
   "source": [
    "#finally print the confusion matrix for the best model: GradientBoostingClassifier\n",
    "from sklearn.metrics import confusion_matrix\n",
    "from matplotlib import pyplot as plt\n",
    "import seaborn as sn"
   ]
  },
  {
   "cell_type": "code",
   "execution_count": 521,
   "metadata": {},
   "outputs": [
    {
     "data": {
      "text/plain": [
       "array([[883,  78,  41],\n",
       "       [192, 585,  47],\n",
       "       [176,  64, 334]], dtype=int64)"
      ]
     },
     "execution_count": 521,
     "metadata": {},
     "output_type": "execute_result"
    }
   ],
   "source": [
    "cm = confusion_matrix(y_test, y_pred)\n",
    "cm"
   ]
  },
  {
   "cell_type": "code",
   "execution_count": 523,
   "metadata": {},
   "outputs": [
    {
     "data": {
      "text/plain": [
       "Text(50.722222222222214, 0.5, 'Truth')"
      ]
     },
     "execution_count": 523,
     "metadata": {},
     "output_type": "execute_result"
    },
    {
     "data": {
      "image/png": "[encoded data removed]",
      "text/plain": [
       "<Figure size 640x480 with 2 Axes>"
      ]
     },
     "metadata": {},
     "output_type": "display_data"
    }
   ],
   "source": [
    "plt.Figure(figsize=(10,8))\n",
    "sn.heatmap(cm, annot=True, fmt='d')\n",
    "plt.xlabel('prediction')\n",
    "plt.ylabel('Truth')\n"
   ]
  },
  {
   "cell_type": "code",
   "execution_count": null,
   "metadata": {},
   "outputs": [],
   "source": []
  }
 ],
 "metadata": {
  "kernelspec": {
   "display_name": "Python 3",
   "language": "python",
   "name": "python3"
  },
  "language_info": {
   "codemirror_mode": {
    "name": "ipython",
    "version": 3
   },
   "file_extension": ".py",
   "mimetype": "text/x-python",
   "name": "python",
   "nbconvert_exporter": "python",
   "pygments_lexer": "ipython3",
   "version": "3.9.6"
  },
  "orig_nbformat": 4
 },
 "nbformat": 4,
 "nbformat_minor": 2
}
